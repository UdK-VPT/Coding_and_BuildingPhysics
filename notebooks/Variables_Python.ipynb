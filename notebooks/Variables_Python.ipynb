{
 "cells": [
  {
   "cell_type": "markdown",
   "id": "contained-hudson",
   "metadata": {},
   "source": [
    "# Variablen und Laufzeitmodell"
   ]
  },
  {
   "cell_type": "markdown",
   "id": "natural-experience",
   "metadata": {},
   "source": [
    "## Datentypen"
   ]
  },
  {
   "cell_type": "markdown",
   "id": "southeast-equality",
   "metadata": {},
   "source": [
    "Ganzzahl-Variable"
   ]
  },
  {
   "cell_type": "code",
   "execution_count": 23,
   "id": "solid-boston",
   "metadata": {},
   "outputs": [],
   "source": [
    "i = 1"
   ]
  },
  {
   "cell_type": "markdown",
   "id": "virtual-forum",
   "metadata": {},
   "source": [
    "Abfragen des Typs der Variablen mit type()"
   ]
  },
  {
   "cell_type": "code",
   "execution_count": 24,
   "id": "brutal-despite",
   "metadata": {},
   "outputs": [
    {
     "data": {
      "text/plain": [
       "int"
      ]
     },
     "execution_count": 24,
     "metadata": {},
     "output_type": "execute_result"
    }
   ],
   "source": [
    "type(i)"
   ]
  },
  {
   "cell_type": "markdown",
   "id": "biological-witness",
   "metadata": {},
   "source": [
    "Fließkomma-Variable"
   ]
  },
  {
   "cell_type": "code",
   "execution_count": 25,
   "id": "grand-vision",
   "metadata": {},
   "outputs": [
    {
     "data": {
      "text/plain": [
       "float"
      ]
     },
     "execution_count": 25,
     "metadata": {},
     "output_type": "execute_result"
    }
   ],
   "source": [
    "f = 3.14159265359 # PI\n",
    "type(f)"
   ]
  },
  {
   "cell_type": "markdown",
   "id": "flexible-nigeria",
   "metadata": {},
   "source": [
    "String-Variable"
   ]
  },
  {
   "cell_type": "code",
   "execution_count": 26,
   "id": "adjacent-fossil",
   "metadata": {},
   "outputs": [
    {
     "data": {
      "text/plain": [
       "str"
      ]
     },
     "execution_count": 26,
     "metadata": {},
     "output_type": "execute_result"
    }
   ],
   "source": [
    "s = 'Bauphysik'\n",
    "type(s)"
   ]
  },
  {
   "cell_type": "markdown",
   "id": "subtle-physiology",
   "metadata": {},
   "source": [
    "Boolsche Variable"
   ]
  },
  {
   "cell_type": "code",
   "execution_count": 27,
   "id": "played-credits",
   "metadata": {},
   "outputs": [
    {
     "data": {
      "text/plain": [
       "(bool, bool)"
      ]
     },
     "execution_count": 27,
     "metadata": {},
     "output_type": "execute_result"
    }
   ],
   "source": [
    "b1 = True\n",
    "b2 = False\n",
    "type(b1), type(b2)"
   ]
  },
  {
   "cell_type": "markdown",
   "id": "african-collectible",
   "metadata": {},
   "source": [
    "Variablen für Listen, Dictionaries und Tuple"
   ]
  },
  {
   "cell_type": "code",
   "execution_count": 28,
   "id": "modified-practitioner",
   "metadata": {},
   "outputs": [
    {
     "data": {
      "text/plain": [
       "(list, dict, tuple)"
      ]
     },
     "execution_count": 28,
     "metadata": {},
     "output_type": "execute_result"
    }
   ],
   "source": [
    "l = []\n",
    "d = {}\n",
    "t = ()\n",
    "type(l), type(d), type(t)"
   ]
  },
  {
   "cell_type": "markdown",
   "id": "sixth-burden",
   "metadata": {},
   "source": [
    "Vergleich des Typs von zwei Variablen"
   ]
  },
  {
   "cell_type": "code",
   "execution_count": 29,
   "id": "undefined-disability",
   "metadata": {},
   "outputs": [
    {
     "data": {
      "text/plain": [
       "False"
      ]
     },
     "execution_count": 29,
     "metadata": {},
     "output_type": "execute_result"
    }
   ],
   "source": [
    "type(i) == type(f)"
   ]
  },
  {
   "cell_type": "markdown",
   "id": "bridal-reduction",
   "metadata": {},
   "source": [
    "Dynamischer Wechsel des Datentypes"
   ]
  },
  {
   "cell_type": "code",
   "execution_count": 30,
   "id": "finnish-roller",
   "metadata": {},
   "outputs": [
    {
     "data": {
      "text/plain": [
       "int"
      ]
     },
     "execution_count": 30,
     "metadata": {},
     "output_type": "execute_result"
    }
   ],
   "source": [
    "a = 1\n",
    "type(a)"
   ]
  },
  {
   "cell_type": "code",
   "execution_count": 31,
   "id": "streaming-lesbian",
   "metadata": {},
   "outputs": [
    {
     "data": {
      "text/plain": [
       "float"
      ]
     },
     "execution_count": 31,
     "metadata": {},
     "output_type": "execute_result"
    }
   ],
   "source": [
    "a = a / 2\n",
    "type(a)"
   ]
  },
  {
   "cell_type": "code",
   "execution_count": 32,
   "id": "formed-holiday",
   "metadata": {},
   "outputs": [
    {
     "data": {
      "text/plain": [
       "list"
      ]
     },
     "execution_count": 32,
     "metadata": {},
     "output_type": "execute_result"
    }
   ],
   "source": [
    "a = ['Styropor', 2, (True,1.234),[1,2,3,4],{'r1':'Ha310','r2':'Ha336'}]\n",
    "type(a)"
   ]
  },
  {
   "cell_type": "code",
   "execution_count": 33,
   "id": "earned-species",
   "metadata": {},
   "outputs": [
    {
     "data": {
      "text/plain": [
       "bool"
      ]
     },
     "execution_count": 33,
     "metadata": {},
     "output_type": "execute_result"
    }
   ],
   "source": [
    "a = False\n",
    "type(a)"
   ]
  },
  {
   "cell_type": "markdown",
   "id": "valid-training",
   "metadata": {},
   "source": [
    "## Referenzen"
   ]
  },
  {
   "cell_type": "markdown",
   "id": "wooden-collins",
   "metadata": {},
   "source": [
    "Die Variable a1 referenziert die Instanz der Ganzahl 2022"
   ]
  },
  {
   "cell_type": "code",
   "execution_count": 34,
   "id": "optional-parent",
   "metadata": {},
   "outputs": [],
   "source": [
    "a1 = 2022"
   ]
  },
  {
   "cell_type": "markdown",
   "id": "center-craps",
   "metadata": {},
   "source": [
    "Vernüpfung von a1 mit einer weiteren Referenz a2 (hierbei wird nur eine Speicherzelle im Arbeitsspeicher des Computers mit dem gleichen Wert belegt)"
   ]
  },
  {
   "cell_type": "code",
   "execution_count": 35,
   "id": "failing-shoulder",
   "metadata": {},
   "outputs": [
    {
     "name": "stdout",
     "output_type": "stream",
     "text": [
      "2022 2022\n"
     ]
    }
   ],
   "source": [
    "a2 = a1\n",
    "print(a1, a2)"
   ]
  },
  {
   "cell_type": "markdown",
   "id": "structured-insulation",
   "metadata": {},
   "source": [
    "Ändern des Werts von a1 erzeugt zwei unabhängige Instanzen, welche den Variablen a1 und a2 zugewiesen werden."
   ]
  },
  {
   "cell_type": "code",
   "execution_count": 36,
   "id": "gothic-vision",
   "metadata": {},
   "outputs": [
    {
     "name": "stdout",
     "output_type": "stream",
     "text": [
      "2023 2022\n"
     ]
    }
   ],
   "source": [
    "a1 = 2023\n",
    "print(a1,a2)"
   ]
  },
  {
   "cell_type": "markdown",
   "id": "democratic-dylan",
   "metadata": {
    "tags": []
   },
   "source": [
    "Löschen von Instanzen"
   ]
  },
  {
   "cell_type": "code",
   "execution_count": 37,
   "id": "miniature-radical",
   "metadata": {},
   "outputs": [
    {
     "name": "stdout",
     "output_type": "stream",
     "text": [
      "2023\n"
     ]
    },
    {
     "ename": "NameError",
     "evalue": "name 'a2' is not defined",
     "output_type": "error",
     "traceback": [
      "\u001b[1;31m---------------------------------------------------------------------------\u001b[0m",
      "\u001b[1;31mNameError\u001b[0m                                 Traceback (most recent call last)",
      "\u001b[1;32m<ipython-input-37-7d6ed2da7eb3>\u001b[0m in \u001b[0;36m<module>\u001b[1;34m\u001b[0m\n\u001b[0;32m      1\u001b[0m \u001b[1;32mdel\u001b[0m \u001b[0ma2\u001b[0m\u001b[1;33m\u001b[0m\u001b[1;33m\u001b[0m\u001b[0m\n\u001b[1;32m----> 2\u001b[1;33m \u001b[0mprint\u001b[0m\u001b[1;33m(\u001b[0m\u001b[0ma1\u001b[0m\u001b[1;33m)\u001b[0m\u001b[1;33m,\u001b[0m \u001b[0mprint\u001b[0m\u001b[1;33m(\u001b[0m\u001b[0ma2\u001b[0m\u001b[1;33m)\u001b[0m\u001b[1;33m\u001b[0m\u001b[1;33m\u001b[0m\u001b[0m\n\u001b[0m",
      "\u001b[1;31mNameError\u001b[0m: name 'a2' is not defined"
     ]
    }
   ],
   "source": [
    "del a2\n",
    "print(a1), print(a2)"
   ]
  },
  {
   "cell_type": "code",
   "execution_count": null,
   "id": "flying-summer",
   "metadata": {},
   "outputs": [],
   "source": []
  }
 ],
 "metadata": {
  "kernelspec": {
   "display_name": "Python 3",
   "language": "python",
   "name": "python3"
  },
  "language_info": {
   "codemirror_mode": {
    "name": "ipython",
    "version": 3
   },
   "file_extension": ".py",
   "mimetype": "text/x-python",
   "name": "python",
   "nbconvert_exporter": "python",
   "pygments_lexer": "ipython3",
   "version": "3.7.6"
  }
 },
 "nbformat": 4,
 "nbformat_minor": 5
}
