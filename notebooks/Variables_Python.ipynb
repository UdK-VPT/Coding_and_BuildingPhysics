{
 "cells": [
  {
   "cell_type": "markdown",
   "id": "collective-album",
   "metadata": {},
   "source": [
    "# Variablen und Laufzeitmodell"
   ]
  },
  {
   "cell_type": "markdown",
   "id": "french-italy",
   "metadata": {},
   "source": [
    "## Datentypen"
   ]
  },
  {
   "cell_type": "markdown",
   "id": "noted-billion",
   "metadata": {},
   "source": [
    "Ganzzahl-Variable"
   ]
  },
  {
   "cell_type": "code",
   "execution_count": 23,
   "id": "quality-missouri",
   "metadata": {},
   "outputs": [],
   "source": [
    "i = 1"
   ]
  },
  {
   "cell_type": "markdown",
   "id": "adequate-cassette",
   "metadata": {},
   "source": [
    "Abfragen des Typs der Variablen mit type()"
   ]
  },
  {
   "cell_type": "code",
   "execution_count": 24,
   "id": "genetic-georgia",
   "metadata": {},
   "outputs": [
    {
     "data": {
      "text/plain": [
       "int"
      ]
     },
     "execution_count": 24,
     "metadata": {},
     "output_type": "execute_result"
    }
   ],
   "source": [
    "type(i)"
   ]
  },
  {
   "cell_type": "markdown",
   "id": "basic-treasury",
   "metadata": {},
   "source": [
    "Fließkomma-Variable"
   ]
  },
  {
   "cell_type": "code",
   "execution_count": 25,
   "id": "popular-residence",
   "metadata": {},
   "outputs": [
    {
     "data": {
      "text/plain": [
       "float"
      ]
     },
     "execution_count": 25,
     "metadata": {},
     "output_type": "execute_result"
    }
   ],
   "source": [
    "f = 3.14159265359 # PI\n",
    "type(f)"
   ]
  },
  {
   "cell_type": "markdown",
   "id": "opened-bridal",
   "metadata": {},
   "source": [
    "String-Variable"
   ]
  },
  {
   "cell_type": "code",
   "execution_count": 26,
   "id": "normal-arena",
   "metadata": {},
   "outputs": [
    {
     "data": {
      "text/plain": [
       "str"
      ]
     },
     "execution_count": 26,
     "metadata": {},
     "output_type": "execute_result"
    }
   ],
   "source": [
    "s = 'Bauphysik'\n",
    "type(s)"
   ]
  },
  {
   "cell_type": "markdown",
   "id": "stone-amateur",
   "metadata": {},
   "source": [
    "Boolsche Variable"
   ]
  },
  {
   "cell_type": "code",
   "execution_count": 27,
   "id": "liquid-carpet",
   "metadata": {},
   "outputs": [
    {
     "data": {
      "text/plain": [
       "(bool, bool)"
      ]
     },
     "execution_count": 27,
     "metadata": {},
     "output_type": "execute_result"
    }
   ],
   "source": [
    "b1 = True\n",
    "b2 = False\n",
    "type(b1), type(b2)"
   ]
  },
  {
   "cell_type": "markdown",
   "id": "flexible-bones",
   "metadata": {},
   "source": [
    "Variablen für Listen, Dictionaries und Tuple"
   ]
  },
  {
   "cell_type": "code",
   "execution_count": 28,
   "id": "discrete-intent",
   "metadata": {},
   "outputs": [
    {
     "data": {
      "text/plain": [
       "(list, dict, tuple)"
      ]
     },
     "execution_count": 28,
     "metadata": {},
     "output_type": "execute_result"
    }
   ],
   "source": [
    "l = []\n",
    "d = {}\n",
    "t = ()\n",
    "type(l), type(d), type(t)"
   ]
  },
  {
   "cell_type": "markdown",
   "id": "crucial-personal",
   "metadata": {},
   "source": [
    "Vergleich des Typs von zwei Variablen"
   ]
  },
  {
   "cell_type": "code",
   "execution_count": 29,
   "id": "alone-hollywood",
   "metadata": {},
   "outputs": [
    {
     "data": {
      "text/plain": [
       "False"
      ]
     },
     "execution_count": 29,
     "metadata": {},
     "output_type": "execute_result"
    }
   ],
   "source": [
    "type(i) == type(f)"
   ]
  },
  {
   "cell_type": "markdown",
   "id": "inside-proposition",
   "metadata": {},
   "source": [
    "Dynamischer Wechsel des Datentypes"
   ]
  },
  {
   "cell_type": "code",
   "execution_count": 30,
   "id": "enhanced-calculation",
   "metadata": {},
   "outputs": [
    {
     "data": {
      "text/plain": [
       "int"
      ]
     },
     "execution_count": 30,
     "metadata": {},
     "output_type": "execute_result"
    }
   ],
   "source": [
    "a = 1\n",
    "type(a)"
   ]
  },
  {
   "cell_type": "code",
   "execution_count": 31,
   "id": "representative-machinery",
   "metadata": {},
   "outputs": [
    {
     "data": {
      "text/plain": [
       "float"
      ]
     },
     "execution_count": 31,
     "metadata": {},
     "output_type": "execute_result"
    }
   ],
   "source": [
    "a = a / 2\n",
    "type(a)"
   ]
  },
  {
   "cell_type": "code",
   "execution_count": 32,
   "id": "quick-melissa",
   "metadata": {},
   "outputs": [
    {
     "data": {
      "text/plain": [
       "list"
      ]
     },
     "execution_count": 32,
     "metadata": {},
     "output_type": "execute_result"
    }
   ],
   "source": [
    "a = ['Styropor', 2, (True,1.234),[1,2,3,4],{'r1':'Ha310','r2':'Ha336'}]\n",
    "type(a)"
   ]
  },
  {
   "cell_type": "code",
   "execution_count": 33,
   "id": "fifteen-novelty",
   "metadata": {},
   "outputs": [
    {
     "data": {
      "text/plain": [
       "bool"
      ]
     },
     "execution_count": 33,
     "metadata": {},
     "output_type": "execute_result"
    }
   ],
   "source": [
    "a = False\n",
    "type(a)"
   ]
  },
  {
   "cell_type": "markdown",
   "id": "supreme-membrane",
   "metadata": {},
   "source": [
    "## Referenzen"
   ]
  },
  {
   "cell_type": "markdown",
   "id": "organic-criticism",
   "metadata": {},
   "source": [
    "Die Variable a1 referenziert die Instanz der Ganzahl 2022"
   ]
  },
  {
   "cell_type": "code",
   "execution_count": 34,
   "id": "remarkable-courtesy",
   "metadata": {},
   "outputs": [],
   "source": [
    "a1 = 2022"
   ]
  },
  {
   "cell_type": "markdown",
   "id": "stable-notification",
   "metadata": {},
   "source": [
    "Vernüpfung von a1 mit einer weiteren Referenz a2 (hierbei wird nur eine Speicherzelle im Arbeisspeicher des Computers mit dem gleichen Wert belegt)"
   ]
  },
  {
   "cell_type": "code",
   "execution_count": 35,
   "id": "respected-tender",
   "metadata": {},
   "outputs": [
    {
     "name": "stdout",
     "output_type": "stream",
     "text": [
      "2022 2022\n"
     ]
    }
   ],
   "source": [
    "a2 = a1\n",
    "print(a1, a2)"
   ]
  },
  {
   "cell_type": "markdown",
   "id": "latest-invitation",
   "metadata": {},
   "source": [
    "Ändern des Werts von a1 erzeugt zwei unabhängige Instanzen, welche den Variablen a1 und a2 zugewiesen sind."
   ]
  },
  {
   "cell_type": "code",
   "execution_count": 36,
   "id": "sharing-malaysia",
   "metadata": {},
   "outputs": [
    {
     "name": "stdout",
     "output_type": "stream",
     "text": [
      "2023 2022\n"
     ]
    }
   ],
   "source": [
    "a1 = 2023\n",
    "print(a1,a2)"
   ]
  },
  {
   "cell_type": "markdown",
   "id": "binary-utilization",
   "metadata": {
    "tags": []
   },
   "source": [
    "Löschen von Instanzen"
   ]
  },
  {
   "cell_type": "code",
   "execution_count": 37,
   "id": "supported-button",
   "metadata": {},
   "outputs": [
    {
     "name": "stdout",
     "output_type": "stream",
     "text": [
      "2023\n"
     ]
    },
    {
     "ename": "NameError",
     "evalue": "name 'a2' is not defined",
     "output_type": "error",
     "traceback": [
      "\u001b[1;31m---------------------------------------------------------------------------\u001b[0m",
      "\u001b[1;31mNameError\u001b[0m                                 Traceback (most recent call last)",
      "\u001b[1;32m<ipython-input-37-7d6ed2da7eb3>\u001b[0m in \u001b[0;36m<module>\u001b[1;34m\u001b[0m\n\u001b[0;32m      1\u001b[0m \u001b[1;32mdel\u001b[0m \u001b[0ma2\u001b[0m\u001b[1;33m\u001b[0m\u001b[1;33m\u001b[0m\u001b[0m\n\u001b[1;32m----> 2\u001b[1;33m \u001b[0mprint\u001b[0m\u001b[1;33m(\u001b[0m\u001b[0ma1\u001b[0m\u001b[1;33m)\u001b[0m\u001b[1;33m,\u001b[0m \u001b[0mprint\u001b[0m\u001b[1;33m(\u001b[0m\u001b[0ma2\u001b[0m\u001b[1;33m)\u001b[0m\u001b[1;33m\u001b[0m\u001b[1;33m\u001b[0m\u001b[0m\n\u001b[0m",
      "\u001b[1;31mNameError\u001b[0m: name 'a2' is not defined"
     ]
    }
   ],
   "source": [
    "del a2\n",
    "print(a1), print(a2)"
   ]
  },
  {
   "cell_type": "code",
   "execution_count": null,
   "id": "harmful-wings",
   "metadata": {},
   "outputs": [],
   "source": []
  }
 ],
 "metadata": {
  "kernelspec": {
   "display_name": "Python 3",
   "language": "python",
   "name": "python3"
  },
  "language_info": {
   "codemirror_mode": {
    "name": "ipython",
    "version": 3
   },
   "file_extension": ".py",
   "mimetype": "text/x-python",
   "name": "python",
   "nbconvert_exporter": "python",
   "pygments_lexer": "ipython3",
   "version": "3.7.6"
  }
 },
 "nbformat": 4,
 "nbformat_minor": 5
}
