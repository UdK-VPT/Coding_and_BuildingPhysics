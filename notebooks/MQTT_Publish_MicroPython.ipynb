{
 "cells": [
  {
   "cell_type": "markdown",
   "id": "innocent-recommendation",
   "metadata": {},
   "source": [
    "# MQTT-Protokoll"
   ]
  },
  {
   "cell_type": "markdown",
   "id": "small-freeze",
   "metadata": {},
   "source": [
    "Message Queuing Telemetry Transport (MQTT) ist ein Netzwerkprotokoll, welches Daten in Form von Nachrichten zwischen Geräten (z.B. Sensoren, Aktoren, Steuergeräten, Datenservern) übermittelt.\n",
    "\n",
    "MQTT arbeitet als Client-Server-Protokoll, wobei der Client an den Server (“Broker”) nach erfolgreichem Verbindungsaufbau Nachrichten mit einem eindeutig bezeichneten Topic sendet (\"publishen\"). Die Bezeichnung der Topics erfolgt hierbei eindeutig und hierarchisch, z.B. DHT22/Temperatur oder DHT22/Feuchte. \n",
    "\n",
    "Clients können diese gekennzeichneten Nachrichten vom Broker auch abonnieren (\"subscriben\"), welcher die empfangenen Nachrichten an die entsprechenden Abonnenten weiterleitet. Die Nachrichten bestehen aus dem Topic und dem Nachrichteninhalt, z.B. der von einem Sensor erfassten und dann veröffentlichten Messwert. "
   ]
  },
  {
   "cell_type": "markdown",
   "id": "extreme-allergy",
   "metadata": {},
   "source": [
    "<img src=\"./img/MQTT_protocol_example.png\" width=\"600\">\n",
    "\n",
    "Quelle: https://en.wikipedia.org/wiki/MQTT"
   ]
  },
  {
   "cell_type": "markdown",
   "id": "recreational-groove",
   "metadata": {},
   "source": [
    "Aufbau der Verbindung zum NodeMCU über die serielle Schnittstelle des PC"
   ]
  },
  {
   "cell_type": "code",
   "execution_count": null,
   "id": "preceding-villa",
   "metadata": {},
   "outputs": [],
   "source": [
    "%serialconnect to --port=COM6 --baud=115200"
   ]
  },
  {
   "cell_type": "markdown",
   "id": "tired-union",
   "metadata": {},
   "source": [
    "## Aufbau einer WLAN-Verbindung von NodeMCU zum lokalen Netzwerk"
   ]
  },
  {
   "cell_type": "code",
   "execution_count": null,
   "id": "right-dispute",
   "metadata": {},
   "outputs": [],
   "source": [
    "from umqtt.simple import MQTTClient\n",
    "\n",
    "SSID = 'SSID'\n",
    "PASSWORD = 'PASSWORD'\n",
    "\n",
    "def do_connect():\n",
    "    import network\n",
    "    wlan = network.WLAN(network.STA_IF)\n",
    "    wlan.active(True)\n",
    "    if not wlan.isconnected():\n",
    "        print('connecting to network...')\n",
    "        wlan.connect(SSID, PASSWORD)\n",
    "        while not wlan.isconnected():\n",
    "            pass\n",
    "    print('network config:', wlan.ifconfig())\n",
    "\n",
    "do_connect()"
   ]
  },
  {
   "cell_type": "markdown",
   "id": "flush-sympathy",
   "metadata": {},
   "source": [
    "## Instantieren eines MQTT-Clients"
   ]
  },
  {
   "cell_type": "code",
   "execution_count": null,
   "id": "communist-midwest",
   "metadata": {},
   "outputs": [],
   "source": [
    "client=MQTTClient(client_id= 'DHT22',server= 'test.mosquitto.org', port= 1883, keepalive=30)"
   ]
  },
  {
   "cell_type": "markdown",
   "id": "seasonal-dietary",
   "metadata": {},
   "source": [
    "## Initialisieren des NodeMCU auf UTC-Zeit"
   ]
  },
  {
   "cell_type": "markdown",
   "id": "bacterial-arrow",
   "metadata": {},
   "source": [
    "Die UTC (Coordinated Universal Time) ist die koordinierte Weltzeit, welche 1972 eingeführt wurde. Man erhält die Mitteleuropäische Zeit (MEZ), indem man eine Stunde bzw. die Mitteleuropäische Sommerzeit (MESZ), indem man zwei Stunden zur UTC addiert."
   ]
  },
  {
   "cell_type": "code",
   "execution_count": null,
   "id": "static-accreditation",
   "metadata": {},
   "outputs": [],
   "source": [
    "from machine import RTC\n",
    "import ntptime\n",
    "\n",
    "rtc = RTC()\n",
    "ntptime.settime() # set the rtc datetime from the remote server\n",
    "print(rtc.datetime()) # get the date and time in UTC"
   ]
  },
  {
   "cell_type": "markdown",
   "id": "premier-thunder",
   "metadata": {},
   "source": [
    "## Veröffentlichen (publishen) von Informationen an den MQTT-Broker"
   ]
  },
  {
   "cell_type": "markdown",
   "id": "central-stage",
   "metadata": {},
   "source": [
    "Veröffentlichen der Messwerte über separate Topics"
   ]
  },
  {
   "cell_type": "code",
   "execution_count": null,
   "id": "listed-stress",
   "metadata": {},
   "outputs": [],
   "source": [
    "import time\n",
    "from machine import Pin\n",
    "import dht \n",
    "\n",
    "sensor = dht.DHT22(Pin(4))\n",
    "\n",
    "while True:\n",
    "  try:\n",
    "    client.connect()\n",
    "    sensor.measure()\n",
    "    temp = sensor.temperature()\n",
    "    hum = sensor.humidity()\n",
    "    time.sleep(1)\n",
    "    client.publish('Coding_Seminar/DHT22/time',str(time.time()))\n",
    "    client.publish('Coding_Seminar/DHT22/temp',str(temp))\n",
    "    client.publish('Coding_Seminar/DHT22/hum',str(hum))\n",
    "    time.sleep(1)\n",
    "    client.disconnect()\n",
    "  except OSError as e:\n",
    "    print('Failed to read sensor.')"
   ]
  },
  {
   "cell_type": "markdown",
   "id": "acute-horse",
   "metadata": {},
   "source": [
    "Veröffentlichen aller Messwerte über einen Topic"
   ]
  },
  {
   "cell_type": "code",
   "execution_count": null,
   "id": "worthy-alliance",
   "metadata": {},
   "outputs": [],
   "source": [
    "import time\n",
    "from machine import Pin\n",
    "import dht \n",
    "\n",
    "sensor = dht.DHT22(Pin(4))\n",
    "while True:\n",
    "  try:\n",
    "    client.connect()\n",
    "    sensor.measure()\n",
    "    timestamp = time.time()\n",
    "    temp = sensor.temperature()\n",
    "    hum = sensor.humidity()\n",
    "    data = (timestamp,temp,hum)\n",
    "    time.sleep(1)\n",
    "    client.publish('Coding_Seminar/DHT22',str(data))\n",
    "    time.sleep(1)\n",
    "    client.disconnect()\n",
    "  except OSError as e:\n",
    "    print('Failed to read sensor.')"
   ]
  },
  {
   "cell_type": "code",
   "execution_count": null,
   "id": "interim-report",
   "metadata": {},
   "outputs": [],
   "source": []
  },
  {
   "cell_type": "code",
   "execution_count": null,
   "id": "proper-encyclopedia",
   "metadata": {},
   "outputs": [],
   "source": []
  }
 ],
 "metadata": {
  "kernelspec": {
   "display_name": "MicroPython - USB",
   "language": "micropython",
   "name": "micropython"
  },
  "language_info": {
   "codemirror_mode": "python",
   "file_extension": ".py",
   "mimetype": "text/python",
   "name": "micropython"
  },
  "widgets": {
   "application/vnd.jupyter.widget-state+json": {
    "state": {},
    "version_major": 2,
    "version_minor": 0
   }
  }
 },
 "nbformat": 4,
 "nbformat_minor": 5
}
