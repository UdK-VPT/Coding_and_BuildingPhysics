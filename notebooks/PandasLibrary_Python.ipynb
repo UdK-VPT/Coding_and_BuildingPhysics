{
 "cells": [
  {
   "cell_type": "markdown",
   "id": "a21c399c-181c-4173-a6dd-772aa6075959",
   "metadata": {},
   "source": [
    "# Pandas-Bibliothek"
   ]
  },
  {
   "cell_type": "markdown",
   "id": "1a9e6c48-c169-465a-81a1-308e4d5f715d",
   "metadata": {},
   "source": [
    "[Pandas](https://pandas.pydata.org/) ist eine Python-Bibliothek, die sehr effektiv die Analyse und die grafische Darstellung großer Datenmengen unterstützt. Pandas ist eine sehr komplexe Bibliothek, welche auf anderen grundlegenden Python-Bibliotheken zum wissenschaftlichen Rechnen wie [matplotlib](https://matplotlib.org/) zur Visualisierung von Datenmengen oder [numPy](https://numpy.org/) zur performanten numerischen Datenverarbeitung aufbaut."
   ]
  },
  {
   "cell_type": "markdown",
   "id": "8447999d-bae8-4f80-917a-9bd60632a56c",
   "metadata": {},
   "source": [
    "## Testdatensatz"
   ]
  },
  {
   "cell_type": "markdown",
   "id": "7e9c2cea-edb0-456e-9fce-cae53da207a4",
   "metadata": {},
   "source": [
    "Bei dem Testdatensatz (siehe data/testdata.csv) handelt es sich um Messdaten, die von Temperatur- und Feuchtesensoren im Zeitraum vom 16.2.2022 bis zum 23.4.2022 gewonnen wurden, die in der nach Westen ausgerichteten Testfassade des [Rooftop-Gebäudes](http://www.solar-rooftop.de) im Bauteilquerschnitt integriert sind.\n",
    "\n",
    "Die Fassade besteht aus folgenden Schichten (von innen nach außen):\n",
    "\n",
    "1. Lehmputz (1,5 cm)\n",
    "2. Holzfaser (10 cm)\n",
    "3. Kalziumsilikat (3 cm) \n",
    "4. Ziegel (11,5 cm)\n",
    "\n",
    "Die nachfolgende Abbildung zeigt die Positionen der Sensoren, welche an den Schichtübergängen und den Bauteiloberflächen angeordnet sind, sowie den Luftzustand im Raum erfassen.\n",
    "\n",
    "<img src=\"./img/FassadenSensoren.png\" width=\"400\">\n",
    "\n",
    "1. **TrH_Air_Sem**: Temperatur- und Feuchte-Sensor (Luft Seminarraum)\n",
    "2. **TF2_PI_iLiS**: Temperatur- und Feuchte-Sensor (Oberfläche Lehmputz)\n",
    "3. **TF2_PI_iLoB**: Temperatur- und Feuchte-Sensor (Schichtübergang Lehmputz/Holzfaser)\n",
    "4. **TF2_CaS_mLiB**: Temperatur- und Feuchte-Sensor (Schichtübergang Holzfaser/Calicumsilikat)\n",
    "5. **TF2_Br_oLiB**: Temperatur- und Feuchte-Sensor (Schichtübergang Calicumsilikat/Ziegel)\n",
    "6. **TF2_Br_oLoS**: Temperatur- und Feuchte-Sensor (Oberfläche Ziegel)"
   ]
  },
  {
   "cell_type": "markdown",
   "id": "05c5b148-9a16-40ae-8318-a6d2e1dfe4fb",
   "metadata": {},
   "source": [
    "## NumPy arrays"
   ]
  },
  {
   "cell_type": "markdown",
   "id": "0c544243",
   "metadata": {},
   "source": [
    "Einlesen des Rohdatensatzes mit Hilfe der NumPy-Bibliothek"
   ]
  },
  {
   "cell_type": "code",
   "execution_count": null,
   "id": "43261c50-2936-4133-8c28-c1a9217e7002",
   "metadata": {},
   "outputs": [],
   "source": [
    "import numpy as np\n",
    "\n",
    "data = np.genfromtxt(\n",
    "    'data/testdata.csv', delimiter=',', \n",
    "    names=True, dtype=None, encoding='UTF'\n",
    ")\n",
    "data"
   ]
  },
  {
   "cell_type": "markdown",
   "id": "22cba530-3127-4d2b-940e-b0ba79823124",
   "metadata": {},
   "source": [
    "Bestimmen der Länge des Datensatzes (Anzahl der Messwerte abzüglich Kopfzeile)"
   ]
  },
  {
   "cell_type": "code",
   "execution_count": null,
   "id": "fdc1dcc0-7f29-4a61-bbc8-24dd3ca34009",
   "metadata": {},
   "outputs": [],
   "source": [
    "data.shape"
   ]
  },
  {
   "cell_type": "markdown",
   "id": "772ae253-5a32-4605-8205-6edad9491c0e",
   "metadata": {},
   "source": [
    "Bestimmen der Datentypen des Datensatzes"
   ]
  },
  {
   "cell_type": "code",
   "execution_count": null,
   "id": "10473a4a-4951-4a89-9d18-438af027b4aa",
   "metadata": {},
   "outputs": [],
   "source": [
    "data.dtype"
   ]
  },
  {
   "cell_type": "markdown",
   "id": "cbf73d3e-b246-44fe-8283-12ab34f5960a",
   "metadata": {},
   "source": [
    "Die vierte Spalte enthält Messwerte (nacheinander Feuchte und Temperatur)\n",
    "\n",
    "-> Bestimmen des größten Wertes in der vierten Spalte:"
   ]
  },
  {
   "cell_type": "code",
   "execution_count": null,
   "id": "70caf905-5f98-4c15-a761-39cd1bde496c",
   "metadata": {},
   "outputs": [],
   "source": [
    "max([row[3] for row in data])"
   ]
  },
  {
   "cell_type": "markdown",
   "id": "5bbe8521",
   "metadata": {},
   "source": [
    "Wievel Zeit benötigt hierfür der Computer ?"
   ]
  },
  {
   "cell_type": "code",
   "execution_count": null,
   "id": "ce397faa",
   "metadata": {},
   "outputs": [],
   "source": [
    "%%timeit\n",
    "max([row[3] for row in data])"
   ]
  },
  {
   "cell_type": "markdown",
   "id": "83c52509",
   "metadata": {},
   "source": [
    "Alternatives Verwenden der viel schnelleren NumPy-arrays (in der Sprache C implementiert)"
   ]
  },
  {
   "cell_type": "code",
   "execution_count": null,
   "id": "6a6993bf-87e0-4c93-afea-edb662e7fb84",
   "metadata": {
    "scrolled": false
   },
   "outputs": [],
   "source": [
    "array_dict1 = {\n",
    "    # Use of fast Numpy arrays (implemented in C)\n",
    "    col: np.array([row[i] for row in data])\n",
    "    for i, col in enumerate(data.dtype.names)\n",
    "}\n",
    "array_dict1"
   ]
  },
  {
   "cell_type": "code",
   "execution_count": null,
   "id": "0134c858-5201-4953-ac59-13387495dd0f",
   "metadata": {},
   "outputs": [],
   "source": [
    "array_dict1['_value'].max()"
   ]
  },
  {
   "cell_type": "code",
   "execution_count": null,
   "id": "26d14c2a",
   "metadata": {},
   "outputs": [],
   "source": [
    "%%timeit\n",
    "array_dict1['_value'].max()"
   ]
  },
  {
   "cell_type": "markdown",
   "id": "244fc603",
   "metadata": {},
   "source": [
    "## Pandas Series"
   ]
  },
  {
   "cell_type": "markdown",
   "id": "e5a02de0",
   "metadata": {},
   "source": [
    "Mit der **Series** class aus der Pandas-Bibliothek kann eine einzelne Spalte aus einem Datensatz herausgelöst werden:"
   ]
  },
  {
   "cell_type": "code",
   "execution_count": null,
   "id": "2d3c141d",
   "metadata": {},
   "outputs": [],
   "source": [
    "import pandas as pd\n",
    "\n",
    "place = pd.Series(array_dict['_value'], name='measure values')\n",
    "place"
   ]
  },
  {
   "cell_type": "code",
   "execution_count": null,
   "id": "658ab013",
   "metadata": {},
   "outputs": [],
   "source": [
    "import pandas as pd\n",
    "\n",
    "place = pd.Series(array_dict['_field'], name='physical property')\n",
    "place"
   ]
  },
  {
   "cell_type": "markdown",
   "id": "69928bd6",
   "metadata": {},
   "source": [
    "Erstellen eines Pandas-Series"
   ]
  },
  {
   "cell_type": "code",
   "execution_count": null,
   "id": "17ad0e5b",
   "metadata": {},
   "outputs": [],
   "source": [
    "np.random.seed(0) # set a seed for reproducibility\n",
    "s = pd.Series(np.random.rand(10), name='random')\n",
    "s"
   ]
  },
  {
   "cell_type": "markdown",
   "id": "b476ef6a",
   "metadata": {},
   "source": [
    "## Pandas DataFrames"
   ]
  },
  {
   "cell_type": "markdown",
   "id": "b28c523e",
   "metadata": {},
   "source": [
    "Mit der **DataFrame** class der Pandas-Bibliothek werden mehrere Instanzen eines **NumPy-Arrays** oder einer **Series** class zu einer übergeordneten Datenstruktur zusammengefasst, auf welche effektiv zugegriffen werden kann:"
   ]
  },
  {
   "cell_type": "markdown",
   "id": "c2a3631c",
   "metadata": {},
   "source": [
    "DataFrame, definiert über NumPy-Arrays:"
   ]
  },
  {
   "cell_type": "code",
   "execution_count": null,
   "id": "940dd94e",
   "metadata": {},
   "outputs": [],
   "source": [
    "np.random.seed(0) # set a seed for reproducibility\n",
    "a1 = np.array(np.random.rand(10))\n",
    "df1 = pd.DataFrame(a1)\n",
    "df1"
   ]
  },
  {
   "cell_type": "code",
   "execution_count": null,
   "id": "e7c4dc91",
   "metadata": {},
   "outputs": [],
   "source": [
    "a2 = np.array(range(10))\n",
    "df2 = pd.DataFrame(a2)\n",
    "df2"
   ]
  },
  {
   "cell_type": "markdown",
   "id": "ef0645ef",
   "metadata": {},
   "source": [
    "Addition von zwei DataFrames (die Struktur beider DataFames muss identisch sein):"
   ]
  },
  {
   "cell_type": "code",
   "execution_count": null,
   "id": "765f61ad",
   "metadata": {},
   "outputs": [],
   "source": [
    "df3 = df1+df2\n",
    "df3"
   ]
  },
  {
   "cell_type": "markdown",
   "id": "daf5c462",
   "metadata": {},
   "source": [
    "Definition mehrspaltiger DataFrames über NumPy-Dictiniaries"
   ]
  },
  {
   "cell_type": "code",
   "execution_count": null,
   "id": "ad89863b",
   "metadata": {},
   "outputs": [],
   "source": [
    "array_dict2 = {'a1':a1,'a2':a2}\n",
    "df4 = pd.DataFrame(array_dict2)\n",
    "df4"
   ]
  },
  {
   "cell_type": "markdown",
   "id": "6b164426",
   "metadata": {},
   "source": [
    "Schreiben von DataFrames in in CSV-File"
   ]
  },
  {
   "cell_type": "code",
   "execution_count": null,
   "id": "76d6bc4d",
   "metadata": {},
   "outputs": [],
   "source": [
    "df4.to_csv('output.csv', index=False)"
   ]
  },
  {
   "cell_type": "markdown",
   "id": "813b0f49",
   "metadata": {},
   "source": [
    "DataFrame definiert über Series:"
   ]
  },
  {
   "cell_type": "code",
   "execution_count": null,
   "id": "30cb6011",
   "metadata": {},
   "outputs": [],
   "source": [
    "np.random.seed(0) # set a seed for reproducibility\n",
    "s = pd.Series(np.random.rand(10), name='random')\n",
    "s"
   ]
  },
  {
   "cell_type": "code",
   "execution_count": null,
   "id": "e609fcf1",
   "metadata": {},
   "outputs": [],
   "source": [
    "df =s.to_frame()\n",
    "df"
   ]
  },
  {
   "cell_type": "markdown",
   "id": "f799ff9b",
   "metadata": {},
   "source": [
    "Angewandt auf den Testdatensatz (mit NumPy_Array):"
   ]
  },
  {
   "cell_type": "code",
   "execution_count": null,
   "id": "c9cb41b6",
   "metadata": {},
   "outputs": [],
   "source": [
    "df = pd.DataFrame(array_dict1) \n",
    "df"
   ]
  },
  {
   "cell_type": "markdown",
   "id": "3d08b8b1",
   "metadata": {},
   "source": [
    "oder auch einfacher"
   ]
  },
  {
   "cell_type": "code",
   "execution_count": null,
   "id": "d59dbb81",
   "metadata": {},
   "outputs": [],
   "source": [
    "# remember\n",
    "# data = np.genfromtxt('data/testdata.csv', delimiter=',', names=True, dtype=None, encoding='UTF')\n",
    "df = pd.DataFrame(data)\n",
    "df"
   ]
  },
  {
   "cell_type": "markdown",
   "id": "4ecb1ac0",
   "metadata": {},
   "source": [
    "oder noch viel einfacher"
   ]
  },
  {
   "cell_type": "code",
   "execution_count": null,
   "id": "2e5ad36d",
   "metadata": {},
   "outputs": [],
   "source": [
    "df = pd.read_csv('data/testdata.csv')"
   ]
  },
  {
   "cell_type": "markdown",
   "id": "cff618f1",
   "metadata": {},
   "source": [
    "Zufallsauswahl von 10 Einträgen im Dataframe"
   ]
  },
  {
   "cell_type": "code",
   "execution_count": null,
   "id": "bda743f3-632a-485c-b8d2-b9dfe6810b6b",
   "metadata": {
    "tags": []
   },
   "outputs": [],
   "source": [
    "df.sample(10)"
   ]
  },
  {
   "cell_type": "markdown",
   "id": "a247ff84",
   "metadata": {},
   "source": [
    "Die ersten 10 Einträge"
   ]
  },
  {
   "cell_type": "code",
   "execution_count": null,
   "id": "e148e9c4-0c94-4a1e-bfeb-2cf18f84ff3e",
   "metadata": {},
   "outputs": [],
   "source": [
    "df.head(10)"
   ]
  },
  {
   "cell_type": "markdown",
   "id": "0c1b73f7",
   "metadata": {},
   "source": [
    "und die letzten 10 Einträge"
   ]
  },
  {
   "cell_type": "code",
   "execution_count": null,
   "id": "bba5c1c7-29b7-43e6-859a-de852a6c0e68",
   "metadata": {},
   "outputs": [],
   "source": [
    "df.tail(10)"
   ]
  },
  {
   "cell_type": "markdown",
   "id": "2a6b387f",
   "metadata": {},
   "source": [
    "nur Werte des Sensors 'CaS-mLiB'"
   ]
  },
  {
   "cell_type": "code",
   "execution_count": null,
   "id": "06b0b1f8-b807-49b2-889d-fd87430ff43e",
   "metadata": {},
   "outputs": [],
   "source": [
    "df[df['sensor']=='CaS-mLiB']"
   ]
  },
  {
   "cell_type": "markdown",
   "id": "9ca19e61",
   "metadata": {},
   "source": [
    "nur Temperatur-Werte des Sensors 'CaS-mLiB'"
   ]
  },
  {
   "cell_type": "code",
   "execution_count": null,
   "id": "ec27657a-757e-44e5-a891-baa0577c4041",
   "metadata": {},
   "outputs": [],
   "source": [
    "selection = df[df['sensor']=='CaS-mLiB']\n",
    "df_CaS_mLiB_temperature = selection[selection['_field']=='temperature']"
   ]
  },
  {
   "cell_type": "markdown",
   "id": "754eea62",
   "metadata": {},
   "source": [
    "Temperatur-Mittelwert des Sensors 'CaS-mLiB'"
   ]
  },
  {
   "cell_type": "code",
   "execution_count": null,
   "id": "7a02d820-95b7-41de-b86d-54f1b7cc21cf",
   "metadata": {},
   "outputs": [],
   "source": [
    "df_CaS_mLiB_temperature['_value'].mean(), df_CaS_mLiB_temperature['_value'].max(), df_CaS_mLiB_temperature['_value'].min()"
   ]
  },
  {
   "cell_type": "code",
   "execution_count": null,
   "id": "5061b65b",
   "metadata": {},
   "outputs": [],
   "source": []
  },
  {
   "cell_type": "code",
   "execution_count": null,
   "id": "6c4e3d40",
   "metadata": {},
   "outputs": [],
   "source": []
  }
 ],
 "metadata": {
  "kernelspec": {
   "display_name": "Python 3 (ipykernel)",
   "language": "python",
   "name": "python3"
  },
  "language_info": {
   "codemirror_mode": {
    "name": "ipython",
    "version": 3
   },
   "file_extension": ".py",
   "mimetype": "text/x-python",
   "name": "python",
   "nbconvert_exporter": "python",
   "pygments_lexer": "ipython3",
   "version": "3.10.4"
  }
 },
 "nbformat": 4,
 "nbformat_minor": 5
}
