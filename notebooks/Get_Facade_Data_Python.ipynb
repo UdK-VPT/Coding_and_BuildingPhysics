{
 "cells": [
  {
   "cell_type": "markdown",
   "id": "external-afternoon",
   "metadata": {},
   "source": [
    "## Abonnieren (Subscriben) von Topics"
   ]
  },
  {
   "cell_type": "markdown",
   "id": "rocky-dress",
   "metadata": {},
   "source": [
    "Variante A) Jeder Messwert wird über ein eignes Topic abonniert"
   ]
  },
  {
   "cell_type": "code",
   "execution_count": null,
   "id": "flying-butterfly",
   "metadata": {},
   "outputs": [],
   "source": [
    "import paho.mqtt.client as mqtt\n",
    "from datetime import datetime as dt\n",
    "import json\n",
    "\n",
    "DefaultBroker = \"broker\"\n",
    "DefaultPort = 1883\n",
    "DefaultTopic = \"hcbcDemo/monitoring/UdK/VPT/ROF/TFW/Br-oLoS\" #Br-oLiB, CaS-mLiB, Pl-iLiS, Pl-iLoB\n",
    "\n",
    "\n",
    "def on_message(client, userdata, message):\n",
    "    print(\"message topic=\",message.topic)\n",
    "    print(\"message received \",str(message.payload.decode(\"utf-8\")))\n",
    "    print(\"message qos=\",message.qos)\n",
    "    print(\"message retain flag=\",message.retain)\n",
    "\n",
    "client = mqtt.Client()\n",
    "client.on_message = on_message\n",
    "\n",
    "client.connect(DefaultBroker,DefaultPort)\n",
    "client.subscribe(DefaultTopic)\n",
    "\n",
    "if __name__ == \"__main__\":\n",
    "    client.loop_forever()"
   ]
  },
  {
   "cell_type": "markdown",
   "id": "standing-trademark",
   "metadata": {},
   "source": [
    "## Schreiben des abonnierten Topics in eine Datei"
   ]
  },
  {
   "cell_type": "markdown",
   "id": "compressed-absorption",
   "metadata": {},
   "source": [
    "Variante B): Alle Messwerte über ein Topic abonniert"
   ]
  },
  {
   "cell_type": "code",
   "execution_count": 65,
   "id": "exotic-store",
   "metadata": {
    "scrolled": true
   },
   "outputs": [
    {
     "ename": "KeyboardInterrupt",
     "evalue": "",
     "output_type": "error",
     "traceback": [
      "\u001b[0;31m---------------------------------------------------------------------------\u001b[0m",
      "\u001b[0;31mKeyboardInterrupt\u001b[0m                         Traceback (most recent call last)",
      "Input \u001b[0;32mIn [65]\u001b[0m, in \u001b[0;36m<cell line: 31>\u001b[0;34m()\u001b[0m\n\u001b[1;32m     29\u001b[0m client\u001b[38;5;241m.\u001b[39msubscribe(Topic)\n\u001b[1;32m     31\u001b[0m \u001b[38;5;28;01mif\u001b[39;00m \u001b[38;5;18m__name__\u001b[39m \u001b[38;5;241m==\u001b[39m \u001b[38;5;124m'\u001b[39m\u001b[38;5;124m__main__\u001b[39m\u001b[38;5;124m'\u001b[39m:\n\u001b[0;32m---> 32\u001b[0m     \u001b[43mclient\u001b[49m\u001b[38;5;241;43m.\u001b[39;49m\u001b[43mloop_forever\u001b[49m\u001b[43m(\u001b[49m\u001b[43m)\u001b[49m\n",
      "File \u001b[0;32m~/.defaultenv/lib/python3.8/site-packages/paho/mqtt/client.py:1779\u001b[0m, in \u001b[0;36mClient.loop_forever\u001b[0;34m(self, timeout, max_packets, retry_first_connection)\u001b[0m\n\u001b[1;32m   1777\u001b[0m rc \u001b[38;5;241m=\u001b[39m MQTT_ERR_SUCCESS\n\u001b[1;32m   1778\u001b[0m \u001b[38;5;28;01mwhile\u001b[39;00m rc \u001b[38;5;241m==\u001b[39m MQTT_ERR_SUCCESS:\n\u001b[0;32m-> 1779\u001b[0m     rc \u001b[38;5;241m=\u001b[39m \u001b[38;5;28;43mself\u001b[39;49m\u001b[38;5;241;43m.\u001b[39;49m\u001b[43mloop\u001b[49m\u001b[43m(\u001b[49m\u001b[43mtimeout\u001b[49m\u001b[43m,\u001b[49m\u001b[43m \u001b[49m\u001b[43mmax_packets\u001b[49m\u001b[43m)\u001b[49m\n\u001b[1;32m   1780\u001b[0m     \u001b[38;5;66;03m# We don't need to worry about locking here, because we've\u001b[39;00m\n\u001b[1;32m   1781\u001b[0m     \u001b[38;5;66;03m# either called loop_forever() when in single threaded mode, or\u001b[39;00m\n\u001b[1;32m   1782\u001b[0m     \u001b[38;5;66;03m# in multi threaded mode when loop_stop() has been called and\u001b[39;00m\n\u001b[1;32m   1783\u001b[0m     \u001b[38;5;66;03m# so no other threads can access _current_out_packet,\u001b[39;00m\n\u001b[1;32m   1784\u001b[0m     \u001b[38;5;66;03m# _out_packet or _messages.\u001b[39;00m\n\u001b[1;32m   1785\u001b[0m     \u001b[38;5;28;01mif\u001b[39;00m (\u001b[38;5;28mself\u001b[39m\u001b[38;5;241m.\u001b[39m_thread_terminate \u001b[38;5;129;01mis\u001b[39;00m \u001b[38;5;28;01mTrue\u001b[39;00m\n\u001b[1;32m   1786\u001b[0m         \u001b[38;5;129;01mand\u001b[39;00m \u001b[38;5;28mself\u001b[39m\u001b[38;5;241m.\u001b[39m_current_out_packet \u001b[38;5;129;01mis\u001b[39;00m \u001b[38;5;28;01mNone\u001b[39;00m\n\u001b[1;32m   1787\u001b[0m         \u001b[38;5;129;01mand\u001b[39;00m \u001b[38;5;28mlen\u001b[39m(\u001b[38;5;28mself\u001b[39m\u001b[38;5;241m.\u001b[39m_out_packet) \u001b[38;5;241m==\u001b[39m \u001b[38;5;241m0\u001b[39m\n\u001b[1;32m   1788\u001b[0m             \u001b[38;5;129;01mand\u001b[39;00m \u001b[38;5;28mlen\u001b[39m(\u001b[38;5;28mself\u001b[39m\u001b[38;5;241m.\u001b[39m_out_messages) \u001b[38;5;241m==\u001b[39m \u001b[38;5;241m0\u001b[39m):\n",
      "File \u001b[0;32m~/.defaultenv/lib/python3.8/site-packages/paho/mqtt/client.py:1167\u001b[0m, in \u001b[0;36mClient.loop\u001b[0;34m(self, timeout, max_packets)\u001b[0m\n\u001b[1;32m   1165\u001b[0m rlist \u001b[38;5;241m=\u001b[39m [\u001b[38;5;28mself\u001b[39m\u001b[38;5;241m.\u001b[39m_sock, \u001b[38;5;28mself\u001b[39m\u001b[38;5;241m.\u001b[39m_sockpairR]\n\u001b[1;32m   1166\u001b[0m \u001b[38;5;28;01mtry\u001b[39;00m:\n\u001b[0;32m-> 1167\u001b[0m     socklist \u001b[38;5;241m=\u001b[39m \u001b[43mselect\u001b[49m\u001b[38;5;241;43m.\u001b[39;49m\u001b[43mselect\u001b[49m\u001b[43m(\u001b[49m\u001b[43mrlist\u001b[49m\u001b[43m,\u001b[49m\u001b[43m \u001b[49m\u001b[43mwlist\u001b[49m\u001b[43m,\u001b[49m\u001b[43m \u001b[49m\u001b[43m[\u001b[49m\u001b[43m]\u001b[49m\u001b[43m,\u001b[49m\u001b[43m \u001b[49m\u001b[43mtimeout\u001b[49m\u001b[43m)\u001b[49m\n\u001b[1;32m   1168\u001b[0m \u001b[38;5;28;01mexcept\u001b[39;00m \u001b[38;5;167;01mTypeError\u001b[39;00m:\n\u001b[1;32m   1169\u001b[0m     \u001b[38;5;66;03m# Socket isn't correct type, in likelihood connection is lost\u001b[39;00m\n\u001b[1;32m   1170\u001b[0m     \u001b[38;5;28;01mreturn\u001b[39;00m MQTT_ERR_CONN_LOST\n",
      "\u001b[0;31mKeyboardInterrupt\u001b[0m: "
     ]
    }
   ],
   "source": [
    "import paho.mqtt.client as mqtt\n",
    "from datetime import datetime as dt\n",
    "\n",
    "DefaultBroker = 'broker'\n",
    "DefaultPort = 1883\n",
    "Topic = \"hcbcDemo/monitoring/UdK/VPT/ROF/TFW/Br-oLoS\" #Br-oLiB, CaS-mLiB, Pl-iLiS, Pl-iLoB\n",
    "\n",
    "def on_message(client, userdata, message):\n",
    "    print('message topic=',message.topic)\n",
    "    msg = str(message.payload.decode('utf-8'))\n",
    "    print('message received ', msg)\n",
    "    tags, raw_data, timestamp = msg.split(' ')\n",
    "    raw_data= raw_data.split(',')\n",
    "\n",
    "    data= {'time' : int(test[2])/1000000000} # timestamp is in nanoseconds\n",
    "    for d in raw_data:\n",
    "        key , value = d.split('=')\n",
    "        data[key]= float( value )\n",
    "    with open('./data/TFWData.csv','a+') as f:\n",
    "        f.write(f'{str(data['time'])},{str(data['temperature'])},{str(data['humidity'])}')\n",
    "\n",
    "with open('./data/TFWData.csv','w') as f:\n",
    "    f.write('time,temp,hum'+'\\n')\n",
    "        \n",
    "client = mqtt.Client()\n",
    "client.on_message = on_message\n",
    "\n",
    "client.connect(DefaultBroker,DefaultPort)\n",
    "client.subscribe(Topic)\n",
    "\n",
    "if __name__ == '__main__':\n",
    "    client.loop_forever()"
   ]
  },
  {
   "cell_type": "markdown",
   "id": "cosmetic-consumption",
   "metadata": {},
   "source": [
    "# Darstellen der gespeicherten Messwerte in einem Diagramm"
   ]
  },
  {
   "cell_type": "code",
   "execution_count": 39,
   "id": "superior-winning",
   "metadata": {},
   "outputs": [
    {
     "data": {
      "image/png": "[encoded data removed]",
      "text/plain": [
       "<Figure size 720x720 with 2 Axes>"
      ]
     },
     "metadata": {
      "needs_background": "light"
     },
     "output_type": "display_data"
    }
   ],
   "source": [
    "import matplotlib.pyplot as plt\n",
    "import pandas as pd\n",
    "from time import strftime\n",
    "from datetime import datetime as dt\n",
    "\n",
    "\n",
    "df = pd.read_csv('./data/TFWData.csv', index_col='time', parse_dates=True)\n",
    "plt.figure(figsize=(10,10)) \n",
    "# umwandeln der timestamps im index in timestrings\n",
    "index_as_timestrings = []\n",
    "for t in df.index:\n",
    "    index_as_timestrings.append(dt.fromtimestamp(t).strftime('%y/%m/%d %H:%M'))\n",
    "df.index= index_as_timestrings\n",
    "# temperatures\n",
    "plt.subplot(211)\n",
    "plt.plot(df.index,df.temp)\n",
    "plt.legend(['temperature'])                \n",
    "plt.xlabel('time') \n",
    "plt.ylabel('°C')\n",
    "\n",
    "# moistures\n",
    "plt.subplot(212)\n",
    "plt.plot(df.index,df.hum)\n",
    "plt.legend(['humidity'])\n",
    "plt.xlabel('time') \n",
    "plt.ylabel('rH')\n",
    "\n",
    "plt.show()"
   ]
  },
  {
   "cell_type": "code",
   "execution_count": null,
   "id": "0d9d53a9-e185-43cf-889a-8ede4a10c933",
   "metadata": {},
   "outputs": [],
   "source": []
  }
 ],
 "metadata": {
  "kernelspec": {
   "display_name": "Python 3 (ipykernel)",
   "language": "python",
   "name": "python3"
  },
  "language_info": {
   "codemirror_mode": {
    "name": "ipython",
    "version": 3
   },
   "file_extension": ".py",
   "mimetype": "text/x-python",
   "name": "python",
   "nbconvert_exporter": "python",
   "pygments_lexer": "ipython3",
   "version": "3.8.9"
  },
  "widgets": {
   "application/vnd.jupyter.widget-state+json": {
    "state": {},
    "version_major": 2,
    "version_minor": 0
   }
  }
 },
 "nbformat": 4,
 "nbformat_minor": 5
}
