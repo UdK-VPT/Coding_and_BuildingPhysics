{
 "cells": [
  {
   "cell_type": "markdown",
   "id": "piano-confusion",
   "metadata": {},
   "source": [
    "# Funktionen und Methoden"
   ]
  },
  {
   "cell_type": "markdown",
   "id": "christian-investigation",
   "metadata": {},
   "source": [
    "sind benannte Unterprogramme, welche eine häufig genutzte Funktionalität kapseln und über einen Funktionsaufruf ausgeführt werden."
   ]
  },
  {
   "cell_type": "markdown",
   "id": "overall-injury",
   "metadata": {},
   "source": [
    "## Eingebaute (vordefinierte) Funktionen"
   ]
  },
  {
   "cell_type": "code",
   "execution_count": null,
   "id": "correct-running",
   "metadata": {},
   "outputs": [],
   "source": [
    "min(3,1), max([1,6,45,8])"
   ]
  },
  {
   "cell_type": "markdown",
   "id": "micro-collar",
   "metadata": {},
   "source": [
    "Zuweisen des Rückgabewerts einer Funktion zu einer Variable"
   ]
  },
  {
   "cell_type": "code",
   "execution_count": 1,
   "id": "empty-favor",
   "metadata": {},
   "outputs": [
    {
     "data": {
      "text/plain": [
       "-0.5"
      ]
     },
     "execution_count": 1,
     "metadata": {},
     "output_type": "execute_result"
    }
   ],
   "source": [
    "v = min(-1,5,89)\n",
    "v/2"
   ]
  },
  {
   "cell_type": "markdown",
   "id": "editorial-institute",
   "metadata": {},
   "source": [
    "Methoden sind eingebaute Funktionen von Instanzen"
   ]
  },
  {
   "cell_type": "code",
   "execution_count": 2,
   "id": "standard-arbitration",
   "metadata": {},
   "outputs": [
    {
     "name": "stdout",
     "output_type": "stream",
     "text": [
      "[1, 2, 3, 7, 9]\n"
     ]
    }
   ],
   "source": [
    "l = [3,7,2,9,1]\n",
    "l.sort()\n",
    "print(l)"
   ]
  },
  {
   "cell_type": "markdown",
   "id": "handy-covering",
   "metadata": {},
   "source": [
    "Einige wichtige vordefinierte Funktionen"
   ]
  },
  {
   "cell_type": "markdown",
   "id": "representative-ireland",
   "metadata": {},
   "source": [
    "```Python\n",
    "abs(x) # Betrag der Zahl x\n",
    "````"
   ]
  },
  {
   "cell_type": "code",
   "execution_count": 7,
   "id": "severe-present",
   "metadata": {},
   "outputs": [
    {
     "data": {
      "text/plain": [
       "2.5"
      ]
     },
     "execution_count": 7,
     "metadata": {},
     "output_type": "execute_result"
    }
   ],
   "source": [
    "abs(-2.5)"
   ]
  },
  {
   "cell_type": "markdown",
   "id": "durable-leather",
   "metadata": {},
   "source": [
    "```Python\n",
    "eval(expression) # wertet einen als String vorliegenden Python-Ausdruck aus\n",
    "````"
   ]
  },
  {
   "cell_type": "code",
   "execution_count": 9,
   "id": "incorporated-reservoir",
   "metadata": {},
   "outputs": [
    {
     "data": {
      "text/plain": [
       "14"
      ]
     },
     "execution_count": 9,
     "metadata": {},
     "output_type": "execute_result"
    }
   ],
   "source": [
    "eval('(3 + 4) * 2')"
   ]
  },
  {
   "cell_type": "markdown",
   "id": "described-edinburgh",
   "metadata": {},
   "source": [
    "```Python\n",
    "list([sequence]) # erzeugt eine Instanz des Datentypes list mit den Elementen einer gegebenen Sequenz\n",
    "````"
   ]
  },
  {
   "cell_type": "code",
   "execution_count": 12,
   "id": "square-guide",
   "metadata": {},
   "outputs": [
    {
     "data": {
      "text/plain": [
       "[1, 3, 6]"
      ]
     },
     "execution_count": 12,
     "metadata": {},
     "output_type": "execute_result"
    }
   ],
   "source": [
    "list((1,3,6))"
   ]
  },
  {
   "cell_type": "markdown",
   "id": "constant-custom",
   "metadata": {},
   "source": [
    "```Python\n",
    "range([start],stop,[step]) # erzeugt ein iterierbares Objekt über fortlaufend numerische Werte\n",
    "\n",
    "````"
   ]
  },
  {
   "cell_type": "code",
   "execution_count": 11,
   "id": "gothic-declaration",
   "metadata": {},
   "outputs": [
    {
     "data": {
      "text/plain": [
       "[2, 4, 6, 8]"
      ]
     },
     "execution_count": 11,
     "metadata": {},
     "output_type": "execute_result"
    }
   ],
   "source": [
    "list(range(2,10,2))"
   ]
  },
  {
   "cell_type": "markdown",
   "id": "6b614388-5260-413d-b7e3-4f99f82ff646",
   "metadata": {},
   "source": [
    "```Python\n",
    "int(x) # Typumwandlung float in integer\n",
    "\n",
    "````"
   ]
  },
  {
   "cell_type": "code",
   "execution_count": 1,
   "id": "a416d8b4-14ab-4a99-9fa0-93c240454f84",
   "metadata": {},
   "outputs": [
    {
     "data": {
      "text/plain": [
       "3"
      ]
     },
     "execution_count": 1,
     "metadata": {},
     "output_type": "execute_result"
    }
   ],
   "source": [
    "x = 3.1415\n",
    "int(x)"
   ]
  },
  {
   "cell_type": "markdown",
   "id": "01d91a02-ce51-4f69-b207-4737895ddb0c",
   "metadata": {},
   "source": [
    "```Python\n",
    "float(x) # Typumwandlung integer in float\n",
    "\n",
    "````"
   ]
  },
  {
   "cell_type": "code",
   "execution_count": 2,
   "id": "ac7c78ea-5cbc-4c53-be3a-07fe9071e3b1",
   "metadata": {},
   "outputs": [
    {
     "data": {
      "text/plain": [
       "1.0"
      ]
     },
     "execution_count": 2,
     "metadata": {},
     "output_type": "execute_result"
    }
   ],
   "source": [
    "x = 1\n",
    "float(x)"
   ]
  },
  {
   "cell_type": "markdown",
   "id": "decimal-information",
   "metadata": {},
   "source": [
    "## Selbst definierte Funktionen"
   ]
  },
  {
   "cell_type": "markdown",
   "id": "confused-cargo",
   "metadata": {},
   "source": [
    "```python\n",
    "def functionname(parameter1, parameter2,...):\n",
    "    statement1\n",
    "    statement2\n",
    "    ...\n",
    "```"
   ]
  },
  {
   "cell_type": "code",
   "execution_count": 3,
   "id": "standing-amsterdam",
   "metadata": {},
   "outputs": [
    {
     "data": {
      "text/plain": [
       "0.26"
      ]
     },
     "execution_count": 3,
     "metadata": {},
     "output_type": "execute_result"
    }
   ],
   "source": [
    "def thickness_wall(c): \n",
    "    t = 0.0\n",
    "    for l in c.values():\n",
    "        t = t + l[1]\n",
    "    return t\n",
    "\n",
    "construction = {'s1': ('Gipsputz', 0.02), 's2': ('Ziegel', 0.12), 's3': ('Holzfaser', 0.1), 's4': ('Brettschalung', 0.02)}\n",
    "\n",
    "thickness_wall(construction)"
   ]
  },
  {
   "cell_type": "markdown",
   "id": "1995c2cb-3a75-4cd6-ac31-e4c122a74c03",
   "metadata": {},
   "source": [
    "## Rekursive Funktionen"
   ]
  },
  {
   "cell_type": "markdown",
   "id": "7a11a03e-143e-4241-806a-4b16645e4cfa",
   "metadata": {},
   "source": [
    "Berechnen der Fakultät: 5! = 5 * 4 * 3 * 2 * 1 = 120"
   ]
  },
  {
   "cell_type": "code",
   "execution_count": 2,
   "id": "d8f0bdf4-1752-4ba9-938c-a4a5b178b30f",
   "metadata": {},
   "outputs": [
    {
     "name": "stdout",
     "output_type": "stream",
     "text": [
      "120\n"
     ]
    }
   ],
   "source": [
    "def factorial(n):\n",
    "    if n == 1:\n",
    "        return 1\n",
    "    else:\n",
    "        return n * factorial(n-1)\n",
    "    \n",
    "print(factorial(5))"
   ]
  },
  {
   "cell_type": "code",
   "execution_count": null,
   "id": "1a2a1cc4-e897-4f2c-87e5-50ccd8e2ea35",
   "metadata": {},
   "outputs": [],
   "source": []
  }
 ],
 "metadata": {
  "kernelspec": {
   "display_name": "Python 3",
   "language": "python",
   "name": "python3"
  },
  "language_info": {
   "codemirror_mode": {
    "name": "ipython",
    "version": 3
   },
   "file_extension": ".py",
   "mimetype": "text/x-python",
   "name": "python",
   "nbconvert_exporter": "python",
   "pygments_lexer": "ipython3",
   "version": "3.7.6"
  }
 },
 "nbformat": 4,
 "nbformat_minor": 5
}
