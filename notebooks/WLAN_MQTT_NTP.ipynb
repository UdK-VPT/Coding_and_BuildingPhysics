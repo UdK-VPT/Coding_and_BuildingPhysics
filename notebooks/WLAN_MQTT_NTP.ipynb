{
 "cells": [
  {
   "cell_type": "code",
   "execution_count": 30,
   "id": "df4b8a9a-72ab-466e-be43-7a9fb138f20a",
   "metadata": {},
   "outputs": [
    {
     "name": "stdout",
     "output_type": "stream",
     "text": [
      "Found serial ports: /dev/cu.usbserial-120, /dev/cu.Bluetooth-Incoming-Port, /dev/cu.BoltuneBT-BH001Pro, /dev/cu.wlan-debug \n",
      "\u001b[34mConnecting to --port=/dev/cu.usbserial-120 --baud=115200 \u001b[0m\n",
      "\u001b[34mReady.\n",
      "\u001b[0m"
     ]
    }
   ],
   "source": [
    "%serialconnect #--port=/dev/cu.usbserial-120"
   ]
  },
  {
   "cell_type": "code",
   "execution_count": 31,
   "id": "0fab35f0-ffbb-44a0-a0a2-da8168ef4520",
   "metadata": {},
   "outputs": [
    {
     "name": "stdout",
     "output_type": "stream",
     "text": [
      "network config: ('192.168.178.78', '255.255.255.0', '192.168.178.1', '1.1.1.1')\n"
     ]
    }
   ],
   "source": [
    "from umqtt.simple import MQTTClient\n",
    "\n",
    "def do_connect():\n",
    "    import network\n",
    "    wlan = network.WLAN(network.STA_IF)\n",
    "    wlan.active(True)\n",
    "    if not wlan.isconnected():\n",
    "        print('connecting to network...')\n",
    "        wlan.connect('PGMXJ I', '87858508894916954886')\n",
    "        while not wlan.isconnected():\n",
    "            pass\n",
    "    print('network config:', wlan.ifconfig())\n",
    "\n",
    "\n",
    "\n",
    "\n",
    "do_connect()\n",
    "client=MQTTClient(client_id= 'khvjhfkjfh',server= '194.94.110.169', port= 1883)\n",
    "#client=MQTTClient(client_id= 'khvjhfkjfh',server= '5.196.95.208', port= 1883)"
   ]
  },
  {
   "cell_type": "code",
   "execution_count": 32,
   "id": "f3117953-89a1-413e-8d9a-1fb25d342907",
   "metadata": {},
   "outputs": [
    {
     "name": "stdout",
     "output_type": "stream",
     "text": [
      "(2022, 6, 21, 1, 11, 2, 52, 0)\n"
     ]
    }
   ],
   "source": [
    "from machine import RTC\n",
    "import ntptime\n",
    "\n",
    "rtc = RTC()\n",
    "ntptime.settime() # set the rtc datetime from the remote server\n",
    "print(rtc.datetime() )   # get the date and time in UTC"
   ]
  },
  {
   "cell_type": "code",
   "execution_count": 33,
   "id": "45261c4c-86db-4a9b-bbd5-258d327fe0cf",
   "metadata": {},
   "outputs": [],
   "source": [
    "client.connect()\n",
    "client.publish(b\"coding_seminar\" ,b\"Hello \"+str(rtc.datetime()))\n",
    "client.disconnect()"
   ]
  },
  {
   "cell_type": "code",
   "execution_count": null,
   "id": "bfc26663-5e85-42c0-b2e6-5b6d657952b9",
   "metadata": {},
   "outputs": [],
   "source": []
  },
  {
   "cell_type": "code",
   "execution_count": null,
   "id": "e7218a27-df68-4583-9f08-a55f4cdbe253",
   "metadata": {},
   "outputs": [],
   "source": []
  }
 ],
 "metadata": {
  "kernelspec": {
   "display_name": "MicroPython - USB",
   "language": "micropython",
   "name": "micropython"
  },
  "language_info": {
   "codemirror_mode": "python",
   "file_extension": ".py",
   "mimetype": "text/python",
   "name": "micropython"
  },
  "widgets": {
   "application/vnd.jupyter.widget-state+json": {
    "state": {},
    "version_major": 2,
    "version_minor": 0
   }
  }
 },
 "nbformat": 4,
 "nbformat_minor": 5
}
