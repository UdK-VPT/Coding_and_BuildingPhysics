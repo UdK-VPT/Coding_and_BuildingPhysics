{
 "cells": [
  {
   "cell_type": "markdown",
   "id": "22eb39ba-4eb4-45f7-ba56-9ce96c94e80b",
   "metadata": {},
   "source": [
    "# Vorbereitung"
   ]
  },
  {
   "cell_type": "markdown",
   "id": "b4c6201c-91e3-4f8b-9fac-c55830a4ba48",
   "metadata": {},
   "source": [
    "## Installation der Firmware für das Node MCU Microcontroller-Board (ESP 8266)"
   ]
  },
  {
   "cell_type": "markdown",
   "id": "0455976f-784b-490a-a723-26600b7ec51d",
   "metadata": {},
   "source": [
    "Herunterladen der Firmware (neuestes Release für einem Flash-Speicher größer 2 MB esp8266-20220117-v1.18.bin) von https://micropython.org/download/esp8266/"
   ]
  },
  {
   "cell_type": "markdown",
   "id": "5beba21b-16dc-4f6b-afbd-45337c3abe76",
   "metadata": {},
   "source": [
    "Flashen der Firmware auf das Node MCU Mikroprozessor Board, siehe z.B. https://randomnerdtutorials.com/flashing-micropython-firmware-esptool-py-esp32-esp8266/"
   ]
  },
  {
   "cell_type": "markdown",
   "id": "016619ee-d982-47fd-a072-7225b65714e8",
   "metadata": {},
   "source": [
    "## Installation des Jupyter Kernels für MicroPython"
   ]
  },
  {
   "cell_type": "markdown",
   "id": "b90b603a-41dc-478d-82ea-8c8cba89b189",
   "metadata": {},
   "source": [
    "pip install jupyter_micropython_kernel\n",
    "\n",
    "python -m jupyter_micropython_kernel.install"
   ]
  },
  {
   "cell_type": "markdown",
   "id": "58625658-5b30-4a7d-9561-b47e7c83d101",
   "metadata": {},
   "source": [
    "## Verbinden mit dem Node MCU über die serielle Schnittstelle"
   ]
  },
  {
   "cell_type": "markdown",
   "id": "f4dba90b-fc6a-43bb-ba37-e3d2308587da",
   "metadata": {},
   "source": [
    "Windows (z.B. über COM6)"
   ]
  },
  {
   "cell_type": "code",
   "execution_count": 25,
   "id": "c2b102d8-95a5-4929-b1a0-09e360b5c9b5",
   "metadata": {},
   "outputs": [
    {
     "name": "stdout",
     "output_type": "stream",
     "text": [
      "\u001b[34mConnecting to --port=COM6 --baud=115200 \u001b[0m\n",
      "\u001b[34mReady.\n",
      "\u001b[0m"
     ]
    }
   ],
   "source": [
    "%serialconnect to --port=COM6 --baud=115200"
   ]
  },
  {
   "cell_type": "markdown",
   "id": "6db7a481-9082-4770-b009-e3eba5e139a7",
   "metadata": {},
   "source": [
    "MacOs (z.B. über /dev/ttyUSB0"
   ]
  },
  {
   "cell_type": "code",
   "execution_count": 59,
   "id": "c0221522-92e9-4dbf-9583-f4d8647ab945",
   "metadata": {},
   "outputs": [
    {
     "name": "stdout",
     "output_type": "stream",
     "text": [
      "\u001b[34mConnecting to --port=/dev/ttyUSB0 --baud=115200 \u001b[0m\n",
      "\u001b[34m\n",
      "Try one of these ports as --port= \n",
      "  COM6\u001b[0m"
     ]
    }
   ],
   "source": [
    "%serialconnect to --port=/dev/ttyUSB0 --baud=115200"
   ]
  },
  {
   "cell_type": "markdown",
   "id": "69029a56-d477-47cd-b910-fbb533287a2c",
   "metadata": {},
   "source": [
    "Test der Kommunikation mit dem Node MCU"
   ]
  },
  {
   "cell_type": "code",
   "execution_count": 9,
   "id": "6c629873-c63b-4841-a3f5-e716f87da2bd",
   "metadata": {},
   "outputs": [
    {
     "name": "stdout",
     "output_type": "stream",
     "text": [
      "Hello World\n"
     ]
    }
   ],
   "source": [
    "print('Hello World')"
   ]
  },
  {
   "cell_type": "markdown",
   "id": "a35dc722-f2de-4cfd-a93b-5b0584cf5f3f",
   "metadata": {},
   "source": [
    "# Erster Test mit dem Node MCU Microcontroller"
   ]
  },
  {
   "cell_type": "markdown",
   "id": "54205ccf-54c4-404f-a69f-6d4937d67334",
   "metadata": {},
   "source": [
    "Pin-Belegung des Node MCU:"
   ]
  },
  {
   "cell_type": "markdown",
   "id": "cc711762-5b8b-4841-8fde-75b5119b2339",
   "metadata": {},
   "source": [
    "<img src=\"./img/NodeMCU8266.png\" width=\"600\">"
   ]
  },
  {
   "cell_type": "markdown",
   "id": "90e997c8-e1e3-410d-bdef-30653fec79fc",
   "metadata": {},
   "source": [
    "Ein- und Auschalten der eingebauten LED (die LED ist intern auf der Plus-Seite mit dem 3.3V-Pin und auf der Minus-Seite mit dem GPIO2-Pin verbunden)"
   ]
  },
  {
   "cell_type": "code",
   "execution_count": 10,
   "id": "fd492302-ec5e-4925-b1ff-db9b31fb4fd3",
   "metadata": {},
   "outputs": [],
   "source": [
    "import machine\n",
    "led = machine.Pin(2, machine.Pin.OUT) # Definition von Pin(2) als Ausgang, Pin(2) entspricht gpio2"
   ]
  },
  {
   "cell_type": "code",
   "execution_count": 14,
   "id": "b37d2eae-c4c0-4001-afc4-20dcbc654e6a",
   "metadata": {},
   "outputs": [],
   "source": [
    "led.value(0) # Einschalten der LED\n",
    "# alternativ led.on()"
   ]
  },
  {
   "cell_type": "code",
   "execution_count": 15,
   "id": "a2af12e2-1487-4f2a-9e47-1be3ecd3804b",
   "metadata": {},
   "outputs": [],
   "source": [
    "led.value(1) # Ausschalten der LED\n",
    "# alternativ led.off()"
   ]
  },
  {
   "cell_type": "code",
   "execution_count": 24,
   "id": "6000a15c-ac6e-42de-a5f6-c5dcf3c317dc",
   "metadata": {},
   "outputs": [
    {
     "name": "stdout",
     "output_type": "stream",
     "text": [
      "\u001b[31mNo serial connected\n",
      "\u001b[0m  %serialconnect to connect\n",
      "  %esptool to flash the device\n",
      "  %lsmagic to list commands"
     ]
    }
   ],
   "source": [
    "# Ein- und Auschalten der LED\n",
    "import time\n",
    "for i in range(10):\n",
    "    led.on()\n",
    "    time.sleep(0.5)\n",
    "    led.off()\n",
    "    time.sleep(0.5)"
   ]
  },
  {
   "cell_type": "markdown",
   "id": "fd6df9b2-d1da-498f-92aa-041a038df76b",
   "metadata": {},
   "source": [
    "## Erster Test des Temperatur- und Feuchtetsensors DHT22"
   ]
  },
  {
   "cell_type": "markdown",
   "id": "71b5e1dd-b6ca-4517-bdfe-dbf78792742f",
   "metadata": {},
   "source": [
    "Pin-Belegung des DHT22"
   ]
  },
  {
   "cell_type": "markdown",
   "id": "cebe3aeb-e152-488c-b1f0-1cad86468c42",
   "metadata": {},
   "source": [
    "<img src=\"./img/DHT22-Sensor.jpg\" width=\"500\">"
   ]
  },
  {
   "cell_type": "code",
   "execution_count": null,
   "id": "47f4d1df-5e8a-4c61-8510-366c2c0b7b5c",
   "metadata": {},
   "outputs": [],
   "source": [
    "from machine import Pin\n",
    "from time import sleep\n",
    "import dht \n",
    "\n",
    "sensor = dht.DHT22(Pin(4))\n",
    "\n",
    "while True:\n",
    "  try:\n",
    "    sleep(2)\n",
    "    sensor.measure()\n",
    "    temp = sensor.temperature()\n",
    "    hum = sensor.humidity()\n",
    "    temp_f = temp * (9/5) + 32.0\n",
    "    print('Temperature: %3.1f C' %temp)\n",
    "    print('Temperature: %3.1f F' %temp_f)\n",
    "    print('Humidity: %3.1f %%' %hum)\n",
    "  except OSError as e:\n",
    "    print('Failed to read sensor.')"
   ]
  },
  {
   "cell_type": "markdown",
   "id": "44301ef7-1f11-4b70-a565-c21acbb9709c",
   "metadata": {},
   "source": [
    "## Ergänzendes Tutorial"
   ]
  },
  {
   "cell_type": "markdown",
   "id": "e94c960b-9b60-4a33-a5ea-528fbc9190d8",
   "metadata": {},
   "source": [
    "https://micropython-on-esp8266-workshop.readthedocs.io/en/latest/index.html"
   ]
  }
 ],
 "metadata": {
  "kernelspec": {
   "display_name": "MicroPython - USB",
   "language": "micropython",
   "name": "micropython"
  },
  "language_info": {
   "codemirror_mode": "python",
   "file_extension": ".py",
   "mimetype": "text/python",
   "name": "micropython"
  }
 },
 "nbformat": 4,
 "nbformat_minor": 5
}
