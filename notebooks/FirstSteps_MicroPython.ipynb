{
 "cells": [
  {
   "cell_type": "markdown",
   "id": "alpha-opera",
   "metadata": {},
   "source": [
    "# Vorbereitung MicroPython"
   ]
  },
  {
   "cell_type": "markdown",
   "id": "respiratory-prevention",
   "metadata": {},
   "source": [
    "## Installation der Firmware für das Node MCU Microcontroller-Board (ESP 8266)"
   ]
  },
  {
   "cell_type": "markdown",
   "id": "accepting-yield",
   "metadata": {},
   "source": [
    "Herunterladen der Firmware (neuestes Release für einem Flash-Speicher größer 2 MB esp8266-20220117-v1.18.bin) von https://micropython.org/download/esp8266/"
   ]
  },
  {
   "cell_type": "markdown",
   "id": "documented-poster",
   "metadata": {},
   "source": [
    "Flashen der Firmware auf das Node MCU Mikroprozessor Board, siehe z.B. https://randomnerdtutorials.com/flashing-micropython-firmware-esptool-py-esp32-esp8266/"
   ]
  },
  {
   "cell_type": "markdown",
   "id": "nutritional-officer",
   "metadata": {},
   "source": [
    "## Installation des Jupyter Kernels für MicroPython"
   ]
  },
  {
   "cell_type": "markdown",
   "id": "certified-butterfly",
   "metadata": {},
   "source": [
    "pip install jupyter_micropython_kernel\n",
    "\n",
    "python -m jupyter_micropython_kernel.install"
   ]
  },
  {
   "cell_type": "markdown",
   "id": "informal-pastor",
   "metadata": {},
   "source": [
    "## Verbinden mit dem Node MCU über die serielle Schnittstelle"
   ]
  },
  {
   "cell_type": "markdown",
   "id": "lucky-sample",
   "metadata": {},
   "source": [
    "Windows (z.B. über COM6)"
   ]
  },
  {
   "cell_type": "code",
   "execution_count": null,
   "id": "technological-major",
   "metadata": {},
   "outputs": [],
   "source": [
    "%serialconnect to --port=COM7 --baud=115200"
   ]
  },
  {
   "cell_type": "markdown",
   "id": "elementary-happening",
   "metadata": {},
   "source": [
    "MacOs (z.B. über /dev/ttyUSB0"
   ]
  },
  {
   "cell_type": "code",
   "execution_count": null,
   "id": "descending-casting",
   "metadata": {},
   "outputs": [],
   "source": [
    "%serialconnect to --port=/dev/ttyUSB0 --baud=115200"
   ]
  },
  {
   "cell_type": "markdown",
   "id": "organic-hardware",
   "metadata": {},
   "source": [
    "Test der Kommunikation mit dem Node MCU"
   ]
  },
  {
   "cell_type": "code",
   "execution_count": null,
   "id": "suburban-dispatch",
   "metadata": {},
   "outputs": [],
   "source": [
    "print('Hello World')"
   ]
  },
  {
   "cell_type": "markdown",
   "id": "documentary-tennis",
   "metadata": {},
   "source": [
    "# Erster Test mit dem Node MCU Microcontroller"
   ]
  },
  {
   "cell_type": "markdown",
   "id": "terminal-conspiracy",
   "metadata": {},
   "source": [
    "Pin-Belegung des Node MCU:"
   ]
  },
  {
   "cell_type": "markdown",
   "id": "small-anderson",
   "metadata": {},
   "source": [
    "<img src=\"./img/NodeMCU8266.png\" width=\"600\">"
   ]
  },
  {
   "cell_type": "markdown",
   "id": "collaborative-burner",
   "metadata": {},
   "source": [
    "Ein- und Auschalten der eingebauten LED (die LED ist intern auf der Plus-Seite mit dem 3.3 V-Pin und auf der Minus-Seite mit dem GPIO2-Pin verbunden)"
   ]
  },
  {
   "cell_type": "code",
   "execution_count": null,
   "id": "likely-worth",
   "metadata": {},
   "outputs": [],
   "source": [
    "import machine\n",
    "# Definition von Pin(2) als Ausgang, Pin(2) entspricht gpio2\n",
    "led = machine.Pin(2, machine.Pin.OUT)"
   ]
  },
  {
   "cell_type": "code",
   "execution_count": null,
   "id": "adapted-emergency",
   "metadata": {},
   "outputs": [],
   "source": [
    "led.value(0) # Einschalten der LED\n",
    "# alternativ led.on()"
   ]
  },
  {
   "cell_type": "code",
   "execution_count": null,
   "id": "boolean-infrared",
   "metadata": {},
   "outputs": [],
   "source": [
    "led.value(1) # Ausschalten der LED\n",
    "# alternativ led.off()"
   ]
  },
  {
   "cell_type": "code",
   "execution_count": null,
   "id": "radio-clearance",
   "metadata": {},
   "outputs": [],
   "source": [
    "# Ein- und Auschalten der LED\n",
    "import time\n",
    "for i in range(10):\n",
    "    led.on()\n",
    "    time.sleep(0.5)\n",
    "    led.off()\n",
    "    time.sleep(0.5)"
   ]
  },
  {
   "cell_type": "markdown",
   "id": "geographic-revelation",
   "metadata": {},
   "source": [
    "## Erster Test des Temperatur- und Feuchtetsensors DHT22"
   ]
  },
  {
   "cell_type": "markdown",
   "id": "knowing-paradise",
   "metadata": {},
   "source": [
    "Pin-Belegung des DHT22"
   ]
  },
  {
   "cell_type": "markdown",
   "id": "registered-orbit",
   "metadata": {},
   "source": [
    "<img src=\"./img/DHT22-Sensor.jpg\" width=\"300\">"
   ]
  },
  {
   "cell_type": "code",
   "execution_count": null,
   "id": "fitting-duration",
   "metadata": {},
   "outputs": [],
   "source": [
    "from machine import Pin\n",
    "from time import sleep\n",
    "import dht \n",
    "\n",
    "sensor = dht.DHT22(Pin(4))\n",
    "\n",
    "while True:\n",
    "  try:\n",
    "    sleep(2)\n",
    "    sensor.measure()\n",
    "    temp = sensor.temperature()\n",
    "    hum = sensor.humidity()\n",
    "    print('Temperature: %3.1f C' %temp)\n",
    "    print('Humidity: %3.1f %%' %hum)\n",
    "  except OSError as e:\n",
    "    print('Failed to read sensor.')"
   ]
  },
  {
   "cell_type": "markdown",
   "id": "attempted-partnership",
   "metadata": {},
   "source": [
    "## Berechnung der Taupunkttemperatur"
   ]
  },
  {
   "cell_type": "markdown",
   "id": "revised-census",
   "metadata": {},
   "source": [
    "Zu einem beliebigen Zustand der Luft (z.B. roter Punkt) gehört ein Taupunkt bei gleichem Wasserdampf-Partialdruck (blauer Punkt).\n",
    "\n",
    "<img src=\"./img/Taupunkt1.png\" width=\"500\">\n",
    "\n",
    "Bildquelle: https://de.wikipedia.org/wiki/Taupunkt"
   ]
  },
  {
   "cell_type": "markdown",
   "id": "serious-senator",
   "metadata": {},
   "source": [
    "Mit diesem Diagramm lässt sich für eine bestimmte Luftemperatur und relativer Feuchte der zugehörige Taupunkt bestimmen:\n",
    "\n",
    "<img src=\"./img/Taupunkt2.png\" width=\"600\">\n",
    "\n",
    "Bildquelle: https://de.wikipedia.org/wiki/Taupunkt"
   ]
  },
  {
   "cell_type": "markdown",
   "id": "preliminary-romance",
   "metadata": {},
   "source": [
    "Berechnungsformel für die Taupunktemperatur (Quelle: https://de.wikipedia.org/wiki/Taupunkt)\n",
    "\n",
    "$$ K_1 = 17,62$$ \n",
    "\n",
    "$$ K_2 = 243,12 °C$$\n",
    "\n",
    "$$\\tau(\\phi,\\Theta) = K_2 \\cdot \\frac{\\frac{K_1 \\cdot \\theta}{K_2 + \\theta}+\\ln \\phi}{\\frac{K_1 \\cdot K_2}{K_2 + \\theta} - \\ln \\phi}$$\n",
    "\n",
    "Diese Näherungsformel ist gültig für den Sättigungsdampfdruck über Wasser in einem Bereich von -45 °C bis 60 °C.\n",
    "\n",
    "1. Umsetzung in eine Python-Funktion"
   ]
  },
  {
   "cell_type": "code",
   "execution_count": null,
   "id": "necessary-classification",
   "metadata": {},
   "outputs": [],
   "source": [
    "import math\n",
    "\n",
    "def theta_dewpoint(phi,theta):\n",
    "    K1 = 17.62\n",
    "    K2 = 243.12\n",
    "    return K2*(K1*theta/(K2+theta)+math.log(phi))/(K1*K2/(K2+theta)-math.log(phi))"
   ]
  },
  {
   "cell_type": "markdown",
   "id": "grave-state",
   "metadata": {},
   "source": [
    "2. Anwenden dieser Funktion zur zusätzlichen Ausgabe der Taupunktemperatur"
   ]
  },
  {
   "cell_type": "code",
   "execution_count": null,
   "id": "filled-october",
   "metadata": {},
   "outputs": [],
   "source": [
    "from machine import Pin\n",
    "from time import sleep\n",
    "import dht \n",
    "\n",
    "sensor = dht.DHT22(Pin(4))\n",
    "\n",
    "while True:\n",
    "  try:\n",
    "    sleep(2)\n",
    "    sensor.measure()\n",
    "    temp = sensor.temperature()\n",
    "    hum = sensor.humidity()\n",
    "    tempDp = theta_dewpoint(hum/100,temp)\n",
    "    print('Temperature: %3.1f °C' %temp)\n",
    "    print('Dew point temperature: %3.1f °C' %tempDp)\n",
    "    print('Humidity: %3.1f %%' %hum)\n",
    "  except OSError as e:\n",
    "    print('Failed to read sensor.')"
   ]
  },
  {
   "cell_type": "markdown",
   "id": "macro-weekend",
   "metadata": {},
   "source": [
    "## Ergänzendes Tutorial"
   ]
  },
  {
   "cell_type": "markdown",
   "id": "pursuant-covering",
   "metadata": {},
   "source": [
    "https://micropython-on-esp8266-workshop.readthedocs.io/en/latest/index.html"
   ]
  }
 ],
 "metadata": {
  "kernelspec": {
   "display_name": "MicroPython - USB",
   "language": "micropython",
   "name": "micropython"
  },
  "language_info": {
   "codemirror_mode": "python",
   "file_extension": ".py",
   "mimetype": "text/python",
   "name": "micropython"
  }
 },
 "nbformat": 4,
 "nbformat_minor": 5
}
