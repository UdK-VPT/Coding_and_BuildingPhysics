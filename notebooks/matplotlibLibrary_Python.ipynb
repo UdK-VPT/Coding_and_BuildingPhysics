{
 "cells": [
  {
   "cell_type": "markdown",
   "id": "a21c399c-181c-4173-a6dd-772aa6075959",
   "metadata": {},
   "source": [
    "# matplotlib-Bibliothek"
   ]
  },
  {
   "cell_type": "markdown",
   "id": "1a9e6c48-c169-465a-81a1-308e4d5f715d",
   "metadata": {},
   "source": [
    "[matplotlib](https://matplotlib.org/) ist eine Python-Bibliothek zur vielfältigen Visualisierung von Datenmengen."
   ]
  },
  {
   "cell_type": "markdown",
   "id": "8447999d-bae8-4f80-917a-9bd60632a56c",
   "metadata": {},
   "source": [
    "## Testdatensatz"
   ]
  },
  {
   "cell_type": "markdown",
   "id": "7e9c2cea-edb0-456e-9fce-cae53da207a4",
   "metadata": {},
   "source": [
    "Bei dem Testdatensatz (siehe data/testdata.csv) handelt es sich um Messdaten, die von Temperatur- und Feuchtesensoren im Zeitraum vom 16.2.2022 bis zum 23.4.2022 gewonnen wurden, die in der nach Westen ausgerichteten Testfassade des [Rooftop-Gebäudes](http://www.solar-rooftop.de) im Bauteilquerschnitt integriert sind.\n",
    "\n",
    "Die Fassade besteht aus folgenden Schichten (von innen nach außen):\n",
    "\n",
    "1. Lehmputz (1,5 cm)\n",
    "2. Holzfaser (10 cm)\n",
    "3. Kalziumsilikat (3 cm) \n",
    "4. Ziegel (11,5 cm)\n",
    "\n",
    "Die nachfolgende Abbildung zeigt die Positionen der Sensoren, welche an den Schichtübergängen und den Bauteiloberflächen angeordnet sind, sowie den Luftzustand im Raum erfassen.\n",
    "\n",
    "<img src=\"./img/FassadenSensoren.png\" width=\"400\">\n",
    "\n",
    "1. **TrH_Air_Sem**: Temperatur- und Feuchte-Sensor (Luft Seminarraum)\n",
    "2. **TF2_PI_iLiS**: Temperatur- und Feuchte-Sensor (Oberfläche Lehmputz)\n",
    "3. **TF2_PI_iLoB**: Temperatur- und Feuchte-Sensor (Schichtübergang Lehmputz/Holzfaser)\n",
    "4. **TF2_CaS_mLiB**: Temperatur- und Feuchte-Sensor (Schichtübergang Holzfaser/Calicumsilikat)\n",
    "5. **TF2_Br_oLiB**: Temperatur- und Feuchte-Sensor (Schichtübergang Calicumsilikat/Ziegel)\n",
    "6. **TF2_Br_oLoS**: Temperatur- und Feuchte-Sensor (Oberfläche Ziegel)"
   ]
  },
  {
   "cell_type": "markdown",
   "id": "05c5b148-9a16-40ae-8318-a6d2e1dfe4fb",
   "metadata": {},
   "source": [
    "## Grundlagen matplotlib"
   ]
  },
  {
   "cell_type": "markdown",
   "id": "0c544243",
   "metadata": {},
   "source": [
    "Importieren der Bibliothek matplotlib"
   ]
  },
  {
   "cell_type": "code",
   "execution_count": null,
   "id": "43261c50-2936-4133-8c28-c1a9217e7002",
   "metadata": {},
   "outputs": [],
   "source": [
    "import matplotlib.pyplot as plt"
   ]
  },
  {
   "cell_type": "markdown",
   "id": "dfa6e9ee",
   "metadata": {},
   "source": [
    "Diagramm mit einfacher Kurve"
   ]
  },
  {
   "cell_type": "code",
   "execution_count": null,
   "id": "ecc16d8b",
   "metadata": {},
   "outputs": [],
   "source": [
    "plt.figure(figsize=(10,5)) # empty plot with defined size\n",
    "plt.plot([1, 2, 3, 4],[1, 2, 3, 6]) # simple values\n",
    "#plt.plot([1, 2, 3, 4],[1, 2, 3, 6],linewidth=4.0) # increased line width\n",
    "#plt.plot([1, 2, 3, 4],[1, 2, 3, 6],label='Legend label') # label of a legend\n",
    "#plt.legend()\n",
    "#plt.title('my graph')\n",
    "#plt.plot([1, 2, 3, 4],[1, 2, 3, 6], 'ro') # values as red circles\n",
    "#plt.plot([1, 2, 3, 4],[1, 2, 3, 6], 'r--') # values as a line with green dots\n",
    "#plt.axis([0, 5, 0, 8]) # width of the x- and y-axis\n",
    "plt.xlabel('x') # x-axis label\n",
    "plt.ylabel('y') # y-axis label\n",
    "plt.show() # make the plot visible"
   ]
  },
  {
   "cell_type": "markdown",
   "id": "8e4a4705",
   "metadata": {},
   "source": [
    "Diagramm mit mehreren Kurven"
   ]
  },
  {
   "cell_type": "code",
   "execution_count": null,
   "id": "969349e4",
   "metadata": {},
   "outputs": [],
   "source": [
    "plt.figure(figsize=(10,5)) \n",
    "plt.plot([1, 2, 3, 4],[1, 2, 3, 6],'r--',\n",
    "         [1, 2, 3, 4],[3, 5, 1, 3],'g--')\n",
    "plt.xlabel('x') # x-axis label\n",
    "plt.ylabel('y') # y-axis label\n",
    "plt.show() # makes the plot visible"
   ]
  },
  {
   "cell_type": "markdown",
   "id": "40a46063",
   "metadata": {},
   "source": [
    "Abbildung mit mehreren Diagrammen"
   ]
  },
  {
   "cell_type": "code",
   "execution_count": null,
   "id": "e5b5d5c0",
   "metadata": {},
   "outputs": [],
   "source": [
    "import numpy as np\n",
    "\n",
    "def f(t):\n",
    "    return np.exp(-t) * np.cos(2*np.pi*t)\n",
    "\n",
    "t1 = np.arange(0.0, 5.0, 0.2)\n",
    "t2 = np.arange(0.0, 5.0, 0.01)\n",
    "\n",
    "plt.figure(figsize=(10,5)) \n",
    "plt.subplot(211)\n",
    "plt.plot(t1, f(t1), 'bo', t2, f(t2), 'k')\n",
    "\n",
    "plt.subplot(212)\n",
    "plt.plot(t2, np.cos(2*np.pi*t2), 'r--')\n",
    "plt.show()"
   ]
  },
  {
   "cell_type": "markdown",
   "id": "9ca19e61",
   "metadata": {},
   "source": [
    "## Einlesen und Darstellung von Messwerten"
   ]
  },
  {
   "cell_type": "code",
   "execution_count": null,
   "id": "29cbffac",
   "metadata": {},
   "outputs": [],
   "source": [
    "Einfache Zeitkurve (alle Werte in einer Grafik)"
   ]
  },
  {
   "cell_type": "code",
   "execution_count": null,
   "id": "2790a443",
   "metadata": {},
   "outputs": [],
   "source": [
    "import matplotlib.pyplot as plt\n",
    "import pandas as pd\n",
    "\n",
    "df = pd.read_csv('data/testdata.csv', index_col='time', parse_dates=True)\n",
    "plt.figure(figsize=(10,5)) \n",
    "plt.plot(df.index, df._value)\n",
    "plt.show()"
   ]
  },
  {
   "cell_type": "markdown",
   "id": "e7e2c9b1",
   "metadata": {},
   "source": [
    "Einfache Zeitkurve (nur die Temperaturwerte des Sensors TF2_CaS-mLiB)"
   ]
  },
  {
   "cell_type": "code",
   "execution_count": null,
   "id": "d28a949f",
   "metadata": {},
   "outputs": [],
   "source": [
    "selection = df[df['sensor']=='CaS-mLiB']\n",
    "df_CaS_mLiB_temp = selection[selection['_field']=='temperature']\n",
    "plt.figure(figsize=(10,5)) \n",
    "plt.plot(df_CaS_mLiB_temp.index,df_CaS_mLiB_temp._value)\n",
    "plt.legend(['temperature CaS-mLiB'])\n",
    "plt.xlabel('time') \n",
    "plt.ylabel('°C')\n",
    "plt.show()"
   ]
  },
  {
   "cell_type": "markdown",
   "id": "7383c857",
   "metadata": {},
   "source": [
    "Einfache Zeitkurve (nur die Feuchtewerte des Sensors TF2_CaS-mLiB)"
   ]
  },
  {
   "cell_type": "code",
   "execution_count": null,
   "id": "83b54213",
   "metadata": {},
   "outputs": [],
   "source": [
    "selection = df[df['sensor']=='CaS-mLiB']\n",
    "df_CaS_mLiB_hum = selection[selection['_field']=='humidity']\n",
    "plt.figure(figsize=(10,5)) \n",
    "plt.plot(df_CaS_mLiB_hum.index,df_CaS_mLiB_hum._value)\n",
    "plt.legend(['moisture CaS-mLiB'])\n",
    "plt.xlabel('time') \n",
    "plt.ylabel('rH')\n",
    "plt.show()"
   ]
  },
  {
   "cell_type": "markdown",
   "id": "dabb078a",
   "metadata": {},
   "source": [
    "Mehrere Kurven in einem Plot"
   ]
  },
  {
   "cell_type": "code",
   "execution_count": null,
   "id": "39ad92d6",
   "metadata": {},
   "outputs": [],
   "source": [
    "# Sensor CaS-mLiB\n",
    "selection1 = df[df['sensor']=='CaS-mLiB']\n",
    "df_CaS_mLiB_hum1 = selection1[selection1['_field']=='humidity']\n",
    "plt.figure(figsize=(10,5)) \n",
    "plt.plot(df_CaS_mLiB_hum1.index,df_CaS_mLiB_hum1._value)\n",
    "# Sensor Pl-iLoB\n",
    "selection2 = df[df['sensor']=='Pl-iLoB']\n",
    "df_CaS_mLiB_hum2 = selection2[selection2['_field']=='humidity']\n",
    "plt.plot(df_CaS_mLiB_hum2.index,df_CaS_mLiB_hum2._value)\n",
    "\n",
    "plt.legend(['moisture CaS-mLiB','moisture Pl-iLoB'])\n",
    "plt.xlabel('time') \n",
    "plt.ylabel('rH')\n",
    "plt.show()"
   ]
  },
  {
   "cell_type": "markdown",
   "id": "a809a5a7",
   "metadata": {},
   "source": [
    "Sub-Plots (mehrere zusammenhängende Diagramme)"
   ]
  },
  {
   "cell_type": "code",
   "execution_count": null,
   "id": "dbdd247e",
   "metadata": {},
   "outputs": [],
   "source": [
    "plt.figure(figsize=(10,10))\n",
    "\n",
    "selection1 = df[df['sensor']=='CaS-mLiB']\n",
    "selection2 = df[df['sensor']=='Pl-iLoB']\n",
    "\n",
    "# temperatures\n",
    "plt.subplot(211)\n",
    "df_CaS_mLiB_temp1 = selection1[selection1['_field']=='temperature']\n",
    "plt.plot(df_CaS_mLiB_temp1.index,df_CaS_mLiB_temp1._value)\n",
    "df_CaS_mLiB_temp2 = selection2[selection['_field']=='temperature']\n",
    "plt.plot(df_CaS_mLiB_temp2.index,df_CaS_mLiB_temp2._value)\n",
    "plt.legend(['temperature CaS-mLiB','temperature Pl-iLoB'])                \n",
    "plt.xlabel('time') \n",
    "plt.ylabel('°C')\n",
    "plt.axis([df_CaS_mLiB_temp1.index[0], df_CaS_mLiB_temp1.index[7*24*4], 0, 30])\n",
    "\n",
    "# moistures\n",
    "plt.subplot(212)\n",
    "df_CaS_mLiB_hum1 = selection[selection1['_field']=='humidity']\n",
    "plt.plot(df_CaS_mLiB_hum1.index,df_CaS_mLiB_hum1._value)\n",
    "df_CaS_mLiB_hum1 = selection2[selection2['_field']=='humidity']\n",
    "plt.plot(df_CaS_mLiB_hum2.index,df_CaS_mLiB_hum2._value)\n",
    "plt.legend(['moisture CaS-mLiB','moisture Pl-iLoB'])\n",
    "plt.xlabel('time') \n",
    "plt.ylabel('rH')\n",
    "plt.axis([df_CaS_mLiB_hum1.index[0], df_CaS_mLiB_hum1.index[7*24*4], 0, 100])\n",
    "\n",
    "plt.show()"
   ]
  },
  {
   "cell_type": "code",
   "execution_count": null,
   "id": "ccfd221f",
   "metadata": {},
   "outputs": [],
   "source": []
  }
 ],
 "metadata": {
  "kernelspec": {
   "display_name": "Python 3 (ipykernel)",
   "language": "python",
   "name": "python3"
  },
  "language_info": {
   "codemirror_mode": {
    "name": "ipython",
    "version": 3
   },
   "file_extension": ".py",
   "mimetype": "text/x-python",
   "name": "python",
   "nbconvert_exporter": "python",
   "pygments_lexer": "ipython3",
   "version": "3.10.4"
  }
 },
 "nbformat": 4,
 "nbformat_minor": 5
}
