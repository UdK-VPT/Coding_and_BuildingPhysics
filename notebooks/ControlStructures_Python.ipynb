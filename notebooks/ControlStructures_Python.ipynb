{
 "cells": [
  {
   "cell_type": "markdown",
   "id": "informational-nigeria",
   "metadata": {},
   "source": [
    "# Kontrollstrukturen"
   ]
  },
  {
   "cell_type": "markdown",
   "id": "instructional-earth",
   "metadata": {},
   "source": [
    "## Fallunterscheidungen"
   ]
  },
  {
   "cell_type": "markdown",
   "id": "frank-silly",
   "metadata": {},
   "source": [
    "if-Anweisung"
   ]
  },
  {
   "cell_type": "markdown",
   "id": "outstanding-miracle",
   "metadata": {},
   "source": [
    "```python\n",
    "if condition:\n",
    "    statement\n",
    "    ...\n",
    "elif condition:  \n",
    "    statement\n",
    "    ...\n",
    "else:\n",
    "    statement\n",
    "    ...\n",
    "```"
   ]
  },
  {
   "cell_type": "code",
   "execution_count": 25,
   "id": "educated-paper",
   "metadata": {},
   "outputs": [
    {
     "name": "stdout",
     "output_type": "stream",
     "text": [
      "It feels comfortable ...\n"
     ]
    }
   ],
   "source": [
    "temperature = 22.0\n",
    "\n",
    "temperatureUpperLimit = 26.0\n",
    "\n",
    "temperatureLowerLimit = 20.0\n",
    "\n",
    "if temperature > temperatureUpperLimit:\n",
    "    print('It is too hot !')\n",
    "elif temperature < temperatureUpperLimit and temperature > temperatureLowerLimit: \n",
    "    print('It feels comfortable ...')\n",
    "else:\n",
    "    print('It is too cold !')"
   ]
  },
  {
   "cell_type": "markdown",
   "id": "challenging-consciousness",
   "metadata": {},
   "source": [
    "Bei Kontrollstrukturen sind in Python Einrückungen zur Strukturierung des Codes notwendig"
   ]
  },
  {
   "cell_type": "code",
   "execution_count": 26,
   "id": "adjusted-earth",
   "metadata": {},
   "outputs": [
    {
     "name": "stdout",
     "output_type": "stream",
     "text": [
      "It is very cold\n"
     ]
    }
   ],
   "source": [
    "temperature = -10.0\n",
    "\n",
    "if temperature < 0.0:\n",
    "    print('It is very cold')"
   ]
  },
  {
   "cell_type": "code",
   "execution_count": 27,
   "id": "peripheral-entry",
   "metadata": {},
   "outputs": [
    {
     "ename": "IndentationError",
     "evalue": "expected an indented block (<ipython-input-27-455404a02311>, line 4)",
     "output_type": "error",
     "traceback": [
      "\u001b[1;36m  File \u001b[1;32m\"<ipython-input-27-455404a02311>\"\u001b[1;36m, line \u001b[1;32m4\u001b[0m\n\u001b[1;33m    print('It is very cold')\u001b[0m\n\u001b[1;37m        ^\u001b[0m\n\u001b[1;31mIndentationError\u001b[0m\u001b[1;31m:\u001b[0m expected an indented block\n"
     ]
    }
   ],
   "source": [
    "temperature = -10.0\n",
    "\n",
    "if temperature < 0.0:\n",
    "print('It is very cold')"
   ]
  },
  {
   "cell_type": "markdown",
   "id": "promotional-purpose",
   "metadata": {},
   "source": [
    "## Schleifen"
   ]
  },
  {
   "cell_type": "markdown",
   "id": "central-strike",
   "metadata": {},
   "source": [
    "while-Schleife (einfache Form)"
   ]
  },
  {
   "cell_type": "markdown",
   "id": "designed-circle",
   "metadata": {},
   "source": [
    "```python\n",
    "while condition:\n",
    "    statement\n",
    "    ...\n",
    "else:\n",
    "    statement\n",
    "    ...\n",
    "```"
   ]
  },
  {
   "cell_type": "markdown",
   "id": "double-recording",
   "metadata": {},
   "source": [
    "Zufallszahl raten"
   ]
  },
  {
   "cell_type": "code",
   "execution_count": 42,
   "id": "outstanding-diana",
   "metadata": {},
   "outputs": [
    {
     "name": "stdin",
     "output_type": "stream",
     "text": [
      "Raten Sie:  3\n",
      "Raten Sie:  5\n",
      "Raten Sie:  7\n",
      "Raten Sie:  1\n"
     ]
    },
    {
     "name": "stdout",
     "output_type": "stream",
     "text": [
      "Sehr gut, Sie haben die Zufallszahl 1 richtig geraten !\n"
     ]
    }
   ],
   "source": [
    "import random\n",
    "secret = int(random.random()*10) # Die Funktion random(9 erzeugt eine Zufallszahl zowschen 0 und 1 mit dem Typ float.\n",
    "myTry = - 1\n",
    "while myTry != secret:\n",
    "    myTry = int(input('Raten Sie: '))\n",
    "else:\n",
    "    print('Sehr gut, Sie haben die Zufallszahl',secret,'richtig geraten !')"
   ]
  },
  {
   "cell_type": "markdown",
   "id": "middle-cleveland",
   "metadata": {},
   "source": [
    "while-Schleife (mit break und/oder continue)"
   ]
  },
  {
   "cell_type": "markdown",
   "id": "protecting-montreal",
   "metadata": {},
   "source": [
    "```python\n",
    "while condition:\n",
    "    if condition:\n",
    "        continue\n",
    "    ...\n",
    "    if condition:\n",
    "        break\n",
    "    ...\n",
    "```"
   ]
  },
  {
   "cell_type": "markdown",
   "id": "bright-moisture",
   "metadata": {},
   "source": [
    "for-Schleife"
   ]
  },
  {
   "cell_type": "markdown",
   "id": "relevant-dream",
   "metadata": {},
   "source": [
    "```python\n",
    "for variable in object:\n",
    "    statement\n",
    "    ...\n",
    "else:\n",
    "    statement\n",
    "    ...\n",
    "```"
   ]
  },
  {
   "cell_type": "markdown",
   "id": "declared-richmond",
   "metadata": {},
   "source": [
    "Hohe Feuchte in Baukonstruktion ist nicht lustig:"
   ]
  },
  {
   "cell_type": "code",
   "execution_count": 23,
   "id": "vertical-connection",
   "metadata": {},
   "outputs": [
    {
     "name": "stdout",
     "output_type": "stream",
     "text": [
      "Please, dry the construction in layer3 !\n",
      "Please, dry the construction in layer6 !\n"
     ]
    }
   ],
   "source": [
    "construction = {'layer1':0.2,'layer2':0.3,'layer3':0.92,'layer4':0.8,'layer5':0.9,'layer6':0.95,'layer7':0.7,'layer8':0.3}\n",
    "for key in construction.keys():\n",
    "    if construction[key] > 0.9:\n",
    "        print('Please, dry the construction in',key,'!')"
   ]
  },
  {
   "cell_type": "code",
   "execution_count": null,
   "id": "extra-organizer",
   "metadata": {},
   "outputs": [],
   "source": []
  },
  {
   "cell_type": "code",
   "execution_count": null,
   "id": "liable-poster",
   "metadata": {},
   "outputs": [],
   "source": []
  }
 ],
 "metadata": {
  "kernelspec": {
   "display_name": "Python 3",
   "language": "python",
   "name": "python3"
  },
  "language_info": {
   "codemirror_mode": {
    "name": "ipython",
    "version": 3
   },
   "file_extension": ".py",
   "mimetype": "text/x-python",
   "name": "python",
   "nbconvert_exporter": "python",
   "pygments_lexer": "ipython3",
   "version": "3.7.6"
  }
 },
 "nbformat": 4,
 "nbformat_minor": 5
}
