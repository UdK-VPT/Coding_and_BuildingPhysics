{
 "cells": [
  {
   "cell_type": "markdown",
   "id": "ecological-wesley",
   "metadata": {},
   "source": [
    "# Erste Schritte"
   ]
  },
  {
   "cell_type": "markdown",
   "id": "concrete-moscow",
   "metadata": {},
   "source": [
    "## Ein- und Ausgabe von Werten"
   ]
  },
  {
   "cell_type": "markdown",
   "id": "analyzed-jerusalem",
   "metadata": {},
   "source": [
    "Eingabe von Werten mit input()"
   ]
  },
  {
   "cell_type": "code",
   "execution_count": 21,
   "id": "plain-fireplace",
   "metadata": {},
   "outputs": [
    {
     "name": "stdin",
     "output_type": "stream",
     "text": [
      "Anzahl der Wandschichten ? 3\n"
     ]
    }
   ],
   "source": [
    "x = input(\"Anzahl der Wandschichten ?\")"
   ]
  },
  {
   "cell_type": "markdown",
   "id": "surgical-platform",
   "metadata": {},
   "source": [
    "Ausgabe von Variablen mit print()"
   ]
  },
  {
   "cell_type": "code",
   "execution_count": 60,
   "id": "second-correction",
   "metadata": {},
   "outputs": [
    {
     "name": "stdout",
     "output_type": "stream",
     "text": [
      "3\n"
     ]
    }
   ],
   "source": [
    "print(x)"
   ]
  },
  {
   "cell_type": "markdown",
   "id": "continuing-baker",
   "metadata": {},
   "source": [
    "## Operatoren und Verkettungen"
   ]
  },
  {
   "cell_type": "markdown",
   "id": "ruled-visibility",
   "metadata": {},
   "source": [
    "Operatoren +, - und *"
   ]
  },
  {
   "cell_type": "code",
   "execution_count": 61,
   "id": "talented-glossary",
   "metadata": {},
   "outputs": [
    {
     "data": {
      "text/plain": [
       "17"
      ]
     },
     "execution_count": 61,
     "metadata": {},
     "output_type": "execute_result"
    }
   ],
   "source": [
    "2*5-3+10"
   ]
  },
  {
   "cell_type": "markdown",
   "id": "sharing-anger",
   "metadata": {},
   "source": [
    "Operatoren /, // und %"
   ]
  },
  {
   "cell_type": "code",
   "execution_count": 62,
   "id": "changing-somalia",
   "metadata": {},
   "outputs": [
    {
     "data": {
      "text/plain": [
       "8.4"
      ]
     },
     "execution_count": 62,
     "metadata": {},
     "output_type": "execute_result"
    }
   ],
   "source": [
    "42/5"
   ]
  },
  {
   "cell_type": "code",
   "execution_count": 63,
   "id": "eligible-hundred",
   "metadata": {},
   "outputs": [
    {
     "data": {
      "text/plain": [
       "8"
      ]
     },
     "execution_count": 63,
     "metadata": {},
     "output_type": "execute_result"
    }
   ],
   "source": [
    "42//5"
   ]
  },
  {
   "cell_type": "code",
   "execution_count": 64,
   "id": "revised-excellence",
   "metadata": {},
   "outputs": [
    {
     "data": {
      "text/plain": [
       "2"
      ]
     },
     "execution_count": 64,
     "metadata": {},
     "output_type": "execute_result"
    }
   ],
   "source": [
    "42%5"
   ]
  },
  {
   "cell_type": "markdown",
   "id": "motivated-boutique",
   "metadata": {},
   "source": [
    "Operator **"
   ]
  },
  {
   "cell_type": "code",
   "execution_count": 65,
   "id": "secondary-decade",
   "metadata": {},
   "outputs": [
    {
     "data": {
      "text/plain": [
       "130691232"
      ]
     },
     "execution_count": 65,
     "metadata": {},
     "output_type": "execute_result"
    }
   ],
   "source": [
    "42**5"
   ]
  },
  {
   "cell_type": "markdown",
   "id": "virtual-pittsburgh",
   "metadata": {},
   "source": [
    "Verkettungen"
   ]
  },
  {
   "cell_type": "code",
   "execution_count": 66,
   "id": "together-greek",
   "metadata": {},
   "outputs": [
    {
     "data": {
      "text/plain": [
       "1.1111111111111112"
      ]
     },
     "execution_count": 66,
     "metadata": {},
     "output_type": "execute_result"
    }
   ],
   "source": [
    "2*((5+3)-3)/(6+3)"
   ]
  },
  {
   "cell_type": "markdown",
   "id": "vocal-squad",
   "metadata": {},
   "source": [
    "## Zeichenketten (Strings)"
   ]
  },
  {
   "cell_type": "code",
   "execution_count": 67,
   "id": "recognized-package",
   "metadata": {},
   "outputs": [],
   "source": [
    "s1 = 'Dies'\n",
    "s2 = 'ist'\n",
    "s3 = 'eine'\n",
    "s4 = 'mehrschichtige'\n",
    "s5 = 'Wandkonstruktion'"
   ]
  },
  {
   "cell_type": "markdown",
   "id": "serial-banking",
   "metadata": {},
   "source": [
    "String-Addition"
   ]
  },
  {
   "cell_type": "code",
   "execution_count": 68,
   "id": "rational-retailer",
   "metadata": {},
   "outputs": [
    {
     "name": "stdout",
     "output_type": "stream",
     "text": [
      "Dies ist eine mehrschichtige Wandkonstruktion.\n"
     ]
    }
   ],
   "source": [
    "s6 = s1 + \" \" + s2 + \" \" + s3 + \" \" + s4 + \" \" + s5 + \".\"\n",
    "print(s6)"
   ]
  },
  {
   "cell_type": "markdown",
   "id": "aerial-start",
   "metadata": {},
   "source": [
    "String-Schreibweisen"
   ]
  },
  {
   "cell_type": "code",
   "execution_count": 69,
   "id": "democratic-revolution",
   "metadata": {},
   "outputs": [
    {
     "name": "stdout",
     "output_type": "stream",
     "text": [
      "doppelt 'und' einfach\n"
     ]
    }
   ],
   "source": [
    "s7 = \"doppelt\"\n",
    "s8 = 'einfach'\n",
    "print(s7 + \" \" + \"'und'\" \" \" + s8)"
   ]
  },
  {
   "cell_type": "markdown",
   "id": "rolled-rally",
   "metadata": {},
   "source": [
    "## Listen"
   ]
  },
  {
   "cell_type": "markdown",
   "id": "organic-courage",
   "metadata": {},
   "source": [
    "Deklaration von Listen"
   ]
  },
  {
   "cell_type": "code",
   "execution_count": 70,
   "id": "excellent-beverage",
   "metadata": {},
   "outputs": [],
   "source": [
    "l1 = ['Gipsputz','Ziegel']\n",
    "l2 = ['Holzfaser','Luftschicht','Brettschalung']"
   ]
  },
  {
   "cell_type": "markdown",
   "id": "coral-shift",
   "metadata": {},
   "source": [
    "Verkettung von Listen"
   ]
  },
  {
   "cell_type": "code",
   "execution_count": 71,
   "id": "maritime-documentation",
   "metadata": {},
   "outputs": [
    {
     "name": "stdout",
     "output_type": "stream",
     "text": [
      "['Gipsputz', 'Ziegel', 'Holzfaser', 'Luftschicht', 'Brettschalung']\n"
     ]
    }
   ],
   "source": [
    "l3 = l1 + l2\n",
    "print(l3)"
   ]
  },
  {
   "cell_type": "markdown",
   "id": "polyphonic-measure",
   "metadata": {},
   "source": [
    "Vervielfachung von Listen"
   ]
  },
  {
   "cell_type": "code",
   "execution_count": 72,
   "id": "attractive-questionnaire",
   "metadata": {},
   "outputs": [
    {
     "name": "stdout",
     "output_type": "stream",
     "text": [
      "['Gipsputz', 'Ziegel', 'Gipsputz', 'Ziegel']\n"
     ]
    }
   ],
   "source": [
    "print(2*l1)"
   ]
  },
  {
   "cell_type": "markdown",
   "id": "radio-massage",
   "metadata": {},
   "source": [
    "Zugriff auf Listenelemente"
   ]
  },
  {
   "cell_type": "code",
   "execution_count": 73,
   "id": "noticed-broadway",
   "metadata": {},
   "outputs": [
    {
     "name": "stdout",
     "output_type": "stream",
     "text": [
      "Gipsputz ['Gipsputz', 'Ziegel', 'Holzfaser'] ['Gipsputz', 'Ziegel', 'Holzfaser'] ['Luftschicht', 'Brettschalung']\n"
     ]
    }
   ],
   "source": [
    "print(l3[0],l3[0:3],l3[:3],l3[3:])"
   ]
  },
  {
   "cell_type": "markdown",
   "id": "stunning-messaging",
   "metadata": {},
   "source": [
    "Veränderung von Listenelementen"
   ]
  },
  {
   "cell_type": "code",
   "execution_count": 74,
   "id": "aggressive-tours",
   "metadata": {},
   "outputs": [
    {
     "name": "stdout",
     "output_type": "stream",
     "text": [
      "['Gipsputz', 'Lehmziegel', 'Holzfaser', 'Luftschicht', 'Brettschalung']\n"
     ]
    }
   ],
   "source": [
    "l3[1] = 'Lehmziegel'\n",
    "print(l3)"
   ]
  },
  {
   "cell_type": "markdown",
   "id": "contemporary-calgary",
   "metadata": {},
   "source": [
    "Listenelement löschen"
   ]
  },
  {
   "cell_type": "code",
   "execution_count": 75,
   "id": "comfortable-pendant",
   "metadata": {},
   "outputs": [
    {
     "name": "stdout",
     "output_type": "stream",
     "text": [
      "['Gipsputz', 'Lehmziegel', 'Holzfaser', 'Luftschicht']\n"
     ]
    }
   ],
   "source": [
    "del l3[4]\n",
    "print(l3)"
   ]
  },
  {
   "cell_type": "markdown",
   "id": "integrated-desire",
   "metadata": {},
   "source": [
    "Anzahl der Listenelemente bestimmen"
   ]
  },
  {
   "cell_type": "code",
   "execution_count": 76,
   "id": "revolutionary-coalition",
   "metadata": {},
   "outputs": [
    {
     "data": {
      "text/plain": [
       "4"
      ]
     },
     "execution_count": 76,
     "metadata": {},
     "output_type": "execute_result"
    }
   ],
   "source": [
    "len(l3)"
   ]
  },
  {
   "cell_type": "markdown",
   "id": "addressed-heating",
   "metadata": {},
   "source": [
    "Listenelement anhängen"
   ]
  },
  {
   "cell_type": "code",
   "execution_count": 77,
   "id": "european-textbook",
   "metadata": {},
   "outputs": [
    {
     "name": "stdout",
     "output_type": "stream",
     "text": [
      "['Gipsputz', 'Lehmziegel', 'Holzfaser', 'Luftschicht', 'Schiefer']\n"
     ]
    },
    {
     "data": {
      "text/plain": [
       "5"
      ]
     },
     "execution_count": 77,
     "metadata": {},
     "output_type": "execute_result"
    }
   ],
   "source": [
    "l3.append('Schiefer')\n",
    "print(l3)\n",
    "len(l3)"
   ]
  },
  {
   "cell_type": "markdown",
   "id": "subtle-limit",
   "metadata": {},
   "source": [
    "Listenelement einfügen"
   ]
  },
  {
   "cell_type": "code",
   "execution_count": 78,
   "id": "chronic-democracy",
   "metadata": {},
   "outputs": [
    {
     "name": "stdout",
     "output_type": "stream",
     "text": [
      "['Gipsputz', 'Lehmziegel', 'Holzfaser', 'Luftschicht', 'Brettschalung', 'Schiefer']\n"
     ]
    }
   ],
   "source": [
    "l3[4:4] = ['Brettschalung']\n",
    "print(l3)"
   ]
  },
  {
   "cell_type": "markdown",
   "id": "dense-cincinnati",
   "metadata": {},
   "source": [
    "Listen können wiederum Listen enthalten"
   ]
  },
  {
   "cell_type": "code",
   "execution_count": 41,
   "id": "spread-pressing",
   "metadata": {},
   "outputs": [
    {
     "name": "stdout",
     "output_type": "stream",
     "text": [
      "1000.0 1500 40.0 1200.0\n"
     ]
    }
   ],
   "source": [
    "l = [['Gipsputz',0.02,1000.0],['Ziegel',0.12,1500],['Styropor',0.10,40.0],['Kalkputz',0.02,1200.0]]\n",
    "print(l[0][2], l[1][2], l[2][2], l[3][2]) # densities of the layers"
   ]
  },
  {
   "cell_type": "markdown",
   "id": "pending-estate",
   "metadata": {},
   "source": [
    "## Tupel (nicht veränderbare Listenstruktur)"
   ]
  },
  {
   "cell_type": "markdown",
   "id": "chicken-luxembourg",
   "metadata": {},
   "source": [
    "Deklaration von Tupeln"
   ]
  },
  {
   "cell_type": "code",
   "execution_count": 42,
   "id": "resident-reducing",
   "metadata": {},
   "outputs": [
    {
     "name": "stdout",
     "output_type": "stream",
     "text": [
      "('Gipsputz', 0.02)\n"
     ]
    }
   ],
   "source": [
    "t = ('Gipsputz', 0.02)\n",
    "print(t)"
   ]
  },
  {
   "cell_type": "markdown",
   "id": "intelligent-population",
   "metadata": {},
   "source": [
    "Zugriff auf Tupel"
   ]
  },
  {
   "cell_type": "code",
   "execution_count": 43,
   "id": "judicial-difference",
   "metadata": {},
   "outputs": [
    {
     "name": "stdout",
     "output_type": "stream",
     "text": [
      "Gipsputz 0.02\n"
     ]
    }
   ],
   "source": [
    "print(t[0], t[1])"
   ]
  },
  {
   "cell_type": "markdown",
   "id": "aggregate-approval",
   "metadata": {},
   "source": [
    "## Dictionaries"
   ]
  },
  {
   "cell_type": "markdown",
   "id": "about-treasury",
   "metadata": {},
   "source": [
    "Deklaration von Dictionaries mit Hilfe von Schlüsseln (keys) und Werten (values)"
   ]
  },
  {
   "cell_type": "markdown",
   "id": "demonstrated-rough",
   "metadata": {},
   "source": [
    "```python\n",
    "d = {'key1': value1, 'key2': value2, ...}\n",
    "```"
   ]
  },
  {
   "cell_type": "code",
   "execution_count": 44,
   "id": "entertaining-investing",
   "metadata": {},
   "outputs": [],
   "source": [
    "d = {'s1': ('Gipsputz', 0.02), 's2': ('Ziegel', 0.12), 's3': ('Holzfaser', 0.1), 's4': ('Brettschalung', 0.02)}"
   ]
  },
  {
   "cell_type": "markdown",
   "id": "neural-warner",
   "metadata": {},
   "source": [
    "Zugriff auf alle keys in Form einer Liste"
   ]
  },
  {
   "cell_type": "code",
   "execution_count": 85,
   "id": "insured-sudan",
   "metadata": {},
   "outputs": [
    {
     "data": {
      "text/plain": [
       "dict_keys(['s1', 's2', 's3', 's4', 's5'])"
      ]
     },
     "execution_count": 85,
     "metadata": {},
     "output_type": "execute_result"
    }
   ],
   "source": [
    "d.keys()"
   ]
  },
  {
   "cell_type": "markdown",
   "id": "motivated-chair",
   "metadata": {},
   "source": [
    "Zugriff auf alle values in Form einer Liste"
   ]
  },
  {
   "cell_type": "code",
   "execution_count": 86,
   "id": "decimal-small",
   "metadata": {},
   "outputs": [
    {
     "data": {
      "text/plain": [
       "dict_values([('Gipsputz', 0.02), ('Ziegel', 0.12), ('Holzfaser', 0.1), ('Luftschicht', 0.02), ('Brettschalung', 0.02)])"
      ]
     },
     "execution_count": 86,
     "metadata": {},
     "output_type": "execute_result"
    }
   ],
   "source": [
    "d.values()"
   ]
  },
  {
   "cell_type": "markdown",
   "id": "boolean-yacht",
   "metadata": {},
   "source": [
    "Elementweiser Zugriff auf Dictionaries"
   ]
  },
  {
   "cell_type": "code",
   "execution_count": 45,
   "id": "asian-botswana",
   "metadata": {},
   "outputs": [
    {
     "name": "stdout",
     "output_type": "stream",
     "text": [
      "('Ziegel', 0.12) Holzfaser 0.02\n"
     ]
    }
   ],
   "source": [
    "print(d['s2'], d['s3'][0], d['s4'][1])"
   ]
  },
  {
   "cell_type": "markdown",
   "id": "entertaining-restaurant",
   "metadata": {},
   "source": [
    "Eintrag eines Dictionaries überschreiben  "
   ]
  },
  {
   "cell_type": "code",
   "execution_count": 46,
   "id": "analyzed-acrobat",
   "metadata": {},
   "outputs": [
    {
     "name": "stdout",
     "output_type": "stream",
     "text": [
      "{'s1': ('Gipsputz', 0.02), 's2': ('Ziegel', 0.12), 's3': ('Holzfaser', 0.1), 's4': ('Luftschicht', 0.02)}\n"
     ]
    }
   ],
   "source": [
    "d['s4'] = ('Luftschicht', 0.02)\n",
    "print(d)"
   ]
  },
  {
   "cell_type": "markdown",
   "id": "invalid-clock",
   "metadata": {},
   "source": [
    "Eintrag in ein Dictionaries hinzufügen "
   ]
  },
  {
   "cell_type": "code",
   "execution_count": 47,
   "id": "heated-local",
   "metadata": {},
   "outputs": [
    {
     "name": "stdout",
     "output_type": "stream",
     "text": [
      "{'s1': ('Gipsputz', 0.02), 's2': ('Ziegel', 0.12), 's3': ('Holzfaser', 0.1), 's4': ('Luftschicht', 0.02), 's5': ('Brettschalung', 0.02)}\n"
     ]
    }
   ],
   "source": [
    "d['s5'] = ('Brettschalung', 0.02)\n",
    "print(d)"
   ]
  },
  {
   "cell_type": "markdown",
   "id": "integrated-slovenia",
   "metadata": {},
   "source": [
    "Dictionaries können wiederum Dictionaries enthalten"
   ]
  },
  {
   "cell_type": "code",
   "execution_count": 84,
   "id": "elder-mouth",
   "metadata": {},
   "outputs": [
    {
     "name": "stdout",
     "output_type": "stream",
     "text": [
      "2000.0\n"
     ]
    },
    {
     "data": {
      "text/plain": [
       "{'heatconductivity': 2.0, 'density': 2000.0, 'heatcapacity': 1000.0}"
      ]
     },
     "execution_count": 84,
     "metadata": {},
     "output_type": "execute_result"
    }
   ],
   "source": [
    "material = {'name':'Beton','color':'grau','physics':{'heatconductivity': 2.0,'density': 2000.0, 'heatcapacity': 1000.0}}\n",
    "print(material['physics']['density'])\n",
    "material.pop('physics')"
   ]
  },
  {
   "cell_type": "markdown",
   "id": "involved-mechanism",
   "metadata": {},
   "source": [
    "## Logische Ausdrücke"
   ]
  },
  {
   "cell_type": "markdown",
   "id": "offshore-garden",
   "metadata": {},
   "source": [
    "Prüfen auf Gleichheit"
   ]
  },
  {
   "cell_type": "code",
   "execution_count": 48,
   "id": "improved-palmer",
   "metadata": {},
   "outputs": [
    {
     "data": {
      "text/plain": [
       "False"
      ]
     },
     "execution_count": 48,
     "metadata": {},
     "output_type": "execute_result"
    }
   ],
   "source": [
    "4 == 5"
   ]
  },
  {
   "cell_type": "code",
   "execution_count": 49,
   "id": "aggregate-renaissance",
   "metadata": {},
   "outputs": [
    {
     "data": {
      "text/plain": [
       "False"
      ]
     },
     "execution_count": 49,
     "metadata": {},
     "output_type": "execute_result"
    }
   ],
   "source": [
    "'Ziegel' == 'Zigel'"
   ]
  },
  {
   "cell_type": "code",
   "execution_count": 50,
   "id": "natural-jamaica",
   "metadata": {},
   "outputs": [
    {
     "data": {
      "text/plain": [
       "True"
      ]
     },
     "execution_count": 50,
     "metadata": {},
     "output_type": "execute_result"
    }
   ],
   "source": [
    "'Ziegel' == 'Ziegel'"
   ]
  },
  {
   "cell_type": "markdown",
   "id": "bottom-september",
   "metadata": {},
   "source": [
    "Prüfen auf Ungleichheit"
   ]
  },
  {
   "cell_type": "code",
   "execution_count": 51,
   "id": "bacterial-milan",
   "metadata": {},
   "outputs": [
    {
     "data": {
      "text/plain": [
       "True"
      ]
     },
     "execution_count": 51,
     "metadata": {},
     "output_type": "execute_result"
    }
   ],
   "source": [
    "1 != 2"
   ]
  },
  {
   "cell_type": "code",
   "execution_count": 52,
   "id": "incorrect-click",
   "metadata": {},
   "outputs": [
    {
     "data": {
      "text/plain": [
       "True"
      ]
     },
     "execution_count": 52,
     "metadata": {},
     "output_type": "execute_result"
    }
   ],
   "source": [
    "'Ziegel' != 'Holzfaser'"
   ]
  },
  {
   "cell_type": "markdown",
   "id": "amazing-continuity",
   "metadata": {},
   "source": [
    "Kleiner und größer als ..."
   ]
  },
  {
   "cell_type": "code",
   "execution_count": 53,
   "id": "changing-reviewer",
   "metadata": {},
   "outputs": [
    {
     "data": {
      "text/plain": [
       "(True, False)"
      ]
     },
     "execution_count": 53,
     "metadata": {},
     "output_type": "execute_result"
    }
   ],
   "source": [
    "3 < 4, 5 > 5"
   ]
  },
  {
   "cell_type": "code",
   "execution_count": 54,
   "id": "bottom-setting",
   "metadata": {},
   "outputs": [
    {
     "data": {
      "text/plain": [
       "True"
      ]
     },
     "execution_count": 54,
     "metadata": {},
     "output_type": "execute_result"
    }
   ],
   "source": [
    "'vier' < 'zwei'"
   ]
  },
  {
   "cell_type": "code",
   "execution_count": 55,
   "id": "opening-provision",
   "metadata": {},
   "outputs": [
    {
     "data": {
      "text/plain": [
       "True"
      ]
     },
     "execution_count": 55,
     "metadata": {},
     "output_type": "execute_result"
    }
   ],
   "source": [
    "'a' < 'b'"
   ]
  },
  {
   "cell_type": "code",
   "execution_count": 56,
   "id": "bearing-holly",
   "metadata": {},
   "outputs": [
    {
     "data": {
      "text/plain": [
       "False"
      ]
     },
     "execution_count": 56,
     "metadata": {},
     "output_type": "execute_result"
    }
   ],
   "source": [
    "'b' < 'a'"
   ]
  },
  {
   "cell_type": "code",
   "execution_count": 57,
   "id": "cutting-afghanistan",
   "metadata": {},
   "outputs": [
    {
     "data": {
      "text/plain": [
       "(True, False)"
      ]
     },
     "execution_count": 57,
     "metadata": {},
     "output_type": "execute_result"
    }
   ],
   "source": [
    "True > False, False > True"
   ]
  },
  {
   "cell_type": "markdown",
   "id": "arranged-honor",
   "metadata": {},
   "source": [
    "Kleiner oder gleich bzw. größer oder gleich ..."
   ]
  },
  {
   "cell_type": "code",
   "execution_count": 58,
   "id": "integrated-imperial",
   "metadata": {},
   "outputs": [
    {
     "data": {
      "text/plain": [
       "(True, True)"
      ]
     },
     "execution_count": 58,
     "metadata": {},
     "output_type": "execute_result"
    }
   ],
   "source": [
    "3<=4, 5 >=5"
   ]
  },
  {
   "cell_type": "code",
   "execution_count": null,
   "id": "naughty-dating",
   "metadata": {},
   "outputs": [],
   "source": []
  }
 ],
 "metadata": {
  "kernelspec": {
   "display_name": "Python 3",
   "language": "python",
   "name": "python3"
  },
  "language_info": {
   "codemirror_mode": {
    "name": "ipython",
    "version": 3
   },
   "file_extension": ".py",
   "mimetype": "text/x-python",
   "name": "python",
   "nbconvert_exporter": "python",
   "pygments_lexer": "ipython3",
   "version": "3.7.6"
  },
  "toc-autonumbering": true,
  "toc-showmarkdowntxt": false
 },
 "nbformat": 4,
 "nbformat_minor": 5
}
