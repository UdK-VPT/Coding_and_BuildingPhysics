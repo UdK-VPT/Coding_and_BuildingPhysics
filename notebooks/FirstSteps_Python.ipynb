{
 "cells": [
  {
   "cell_type": "markdown",
   "id": "upper-assault",
   "metadata": {},
   "source": [
    "# Erste Schritte"
   ]
  },
  {
   "cell_type": "markdown",
   "id": "fifth-packing",
   "metadata": {},
   "source": [
    "## Ein- und Ausgabe von Werten"
   ]
  },
  {
   "cell_type": "markdown",
   "id": "incident-gibson",
   "metadata": {},
   "source": [
    "Eingabe von Werten mit input()"
   ]
  },
  {
   "cell_type": "code",
   "execution_count": 21,
   "id": "dimensional-judges",
   "metadata": {},
   "outputs": [
    {
     "name": "stdin",
     "output_type": "stream",
     "text": [
      "Anzahl der Wandschichten ? 3\n"
     ]
    }
   ],
   "source": [
    "x = input(\"Anzahl der Wandschichten ?\")"
   ]
  },
  {
   "cell_type": "markdown",
   "id": "pregnant-dispute",
   "metadata": {},
   "source": [
    "Ausgabe von Variablen mit print()"
   ]
  },
  {
   "cell_type": "code",
   "execution_count": 60,
   "id": "lasting-hotel",
   "metadata": {},
   "outputs": [
    {
     "name": "stdout",
     "output_type": "stream",
     "text": [
      "3\n"
     ]
    }
   ],
   "source": [
    "print(x)"
   ]
  },
  {
   "cell_type": "markdown",
   "id": "impressive-examination",
   "metadata": {},
   "source": [
    "## Operatoren und Verkettungen"
   ]
  },
  {
   "cell_type": "markdown",
   "id": "union-warehouse",
   "metadata": {},
   "source": [
    "Operatoren +, - und *"
   ]
  },
  {
   "cell_type": "code",
   "execution_count": 61,
   "id": "7e76b67d-e932-4a19-ac64-2b2cd73d4bc3",
   "metadata": {},
   "outputs": [
    {
     "data": {
      "text/plain": [
       "17"
      ]
     },
     "execution_count": 61,
     "metadata": {},
     "output_type": "execute_result"
    }
   ],
   "source": [
    "2*5-3+10"
   ]
  },
  {
   "cell_type": "markdown",
   "id": "2af7c782-a085-4a1c-9dbb-cbb57620e230",
   "metadata": {},
   "source": [
    "Operatoren /, // und %"
   ]
  },
  {
   "cell_type": "code",
   "execution_count": 62,
   "id": "fef10d98-605a-4f1f-b909-afe39ef19a62",
   "metadata": {},
   "outputs": [
    {
     "data": {
      "text/plain": [
       "8.4"
      ]
     },
     "execution_count": 62,
     "metadata": {},
     "output_type": "execute_result"
    }
   ],
   "source": [
    "42/5"
   ]
  },
  {
   "cell_type": "code",
   "execution_count": 63,
   "id": "57290663-5582-4a42-bd7b-19cb5d8a9e0c",
   "metadata": {},
   "outputs": [
    {
     "data": {
      "text/plain": [
       "8"
      ]
     },
     "execution_count": 63,
     "metadata": {},
     "output_type": "execute_result"
    }
   ],
   "source": [
    "42//5"
   ]
  },
  {
   "cell_type": "code",
   "execution_count": 64,
   "id": "ed1af154-83b6-43fe-b11a-bdb840d2cb5b",
   "metadata": {},
   "outputs": [
    {
     "data": {
      "text/plain": [
       "2"
      ]
     },
     "execution_count": 64,
     "metadata": {},
     "output_type": "execute_result"
    }
   ],
   "source": [
    "42%5"
   ]
  },
  {
   "cell_type": "markdown",
   "id": "841ca155-9356-48d0-94f1-31087a74bd26",
   "metadata": {},
   "source": [
    "Operator **"
   ]
  },
  {
   "cell_type": "code",
   "execution_count": 65,
   "id": "99ab3c5b-feaa-4854-a699-e9fdd4fc2c69",
   "metadata": {},
   "outputs": [
    {
     "data": {
      "text/plain": [
       "130691232"
      ]
     },
     "execution_count": 65,
     "metadata": {},
     "output_type": "execute_result"
    }
   ],
   "source": [
    "42**5"
   ]
  },
  {
   "cell_type": "markdown",
   "id": "imported-offense",
   "metadata": {},
   "source": [
    "Verkettungen"
   ]
  },
  {
   "cell_type": "code",
   "execution_count": 66,
   "id": "described-script",
   "metadata": {},
   "outputs": [
    {
     "data": {
      "text/plain": [
       "1.1111111111111112"
      ]
     },
     "execution_count": 66,
     "metadata": {},
     "output_type": "execute_result"
    }
   ],
   "source": [
    "2*((5+3)-3)/(6+3)"
   ]
  },
  {
   "cell_type": "markdown",
   "id": "fitted-rescue",
   "metadata": {},
   "source": [
    "## Zeichenketten (Strings)"
   ]
  },
  {
   "cell_type": "code",
   "execution_count": 67,
   "id": "printable-interference",
   "metadata": {},
   "outputs": [],
   "source": [
    "s1 = 'Dies'\n",
    "s2 = 'ist'\n",
    "s3 = 'eine'\n",
    "s4 = 'mehrschichtige'\n",
    "s5 = 'Wandkonstruktion'"
   ]
  },
  {
   "cell_type": "markdown",
   "id": "union-flesh",
   "metadata": {},
   "source": [
    "String-Addition"
   ]
  },
  {
   "cell_type": "code",
   "execution_count": 68,
   "id": "defined-theorem",
   "metadata": {},
   "outputs": [
    {
     "name": "stdout",
     "output_type": "stream",
     "text": [
      "Dies ist eine mehrschichtige Wandkonstruktion.\n"
     ]
    }
   ],
   "source": [
    "s6 = s1 + \" \" + s2 + \" \" + s3 + \" \" + s4 + \" \" + s5 + \".\"\n",
    "print(s6)"
   ]
  },
  {
   "cell_type": "markdown",
   "id": "written-sculpture",
   "metadata": {},
   "source": [
    "String-Schreibweisen"
   ]
  },
  {
   "cell_type": "code",
   "execution_count": 69,
   "id": "equal-membrane",
   "metadata": {},
   "outputs": [
    {
     "name": "stdout",
     "output_type": "stream",
     "text": [
      "doppelt 'und' einfach\n"
     ]
    }
   ],
   "source": [
    "s7 = \"doppelt\"\n",
    "s8 = 'einfach'\n",
    "print(s7 + \" \" + \"'und'\" \" \" + s8)"
   ]
  },
  {
   "cell_type": "markdown",
   "id": "regulated-comparative",
   "metadata": {},
   "source": [
    "## Listen"
   ]
  },
  {
   "cell_type": "markdown",
   "id": "lonely-associate",
   "metadata": {},
   "source": [
    "Deklaration von Listen"
   ]
  },
  {
   "cell_type": "code",
   "execution_count": 70,
   "id": "italic-ireland",
   "metadata": {},
   "outputs": [],
   "source": [
    "l1 = ['Gipsputz','Ziegel']\n",
    "l2 = ['Holzfaser','Luftschicht','Brettschalung']"
   ]
  },
  {
   "cell_type": "markdown",
   "id": "verbal-england",
   "metadata": {},
   "source": [
    "Verkettung von Listen"
   ]
  },
  {
   "cell_type": "code",
   "execution_count": 71,
   "id": "expensive-cursor",
   "metadata": {},
   "outputs": [
    {
     "name": "stdout",
     "output_type": "stream",
     "text": [
      "['Gipsputz', 'Ziegel', 'Holzfaser', 'Luftschicht', 'Brettschalung']\n"
     ]
    }
   ],
   "source": [
    "l3 = l1 + l2\n",
    "print(l3)"
   ]
  },
  {
   "cell_type": "markdown",
   "id": "exempt-arkansas",
   "metadata": {},
   "source": [
    "Vervielfachung von Listen"
   ]
  },
  {
   "cell_type": "code",
   "execution_count": 72,
   "id": "perceived-wrong",
   "metadata": {},
   "outputs": [
    {
     "name": "stdout",
     "output_type": "stream",
     "text": [
      "['Gipsputz', 'Ziegel', 'Gipsputz', 'Ziegel']\n"
     ]
    }
   ],
   "source": [
    "print(2*l1)"
   ]
  },
  {
   "cell_type": "markdown",
   "id": "primary-environment",
   "metadata": {},
   "source": [
    "Zugriff auf Listen"
   ]
  },
  {
   "cell_type": "code",
   "execution_count": 73,
   "id": "statewide-board",
   "metadata": {},
   "outputs": [
    {
     "name": "stdout",
     "output_type": "stream",
     "text": [
      "Gipsputz ['Gipsputz', 'Ziegel', 'Holzfaser'] ['Gipsputz', 'Ziegel', 'Holzfaser'] ['Luftschicht', 'Brettschalung']\n"
     ]
    }
   ],
   "source": [
    "print(l3[0],l3[0:3],l3[:3],l3[3:])"
   ]
  },
  {
   "cell_type": "markdown",
   "id": "happy-million",
   "metadata": {},
   "source": [
    "Veränderung von Listenelementen"
   ]
  },
  {
   "cell_type": "code",
   "execution_count": 74,
   "id": "developing-summit",
   "metadata": {},
   "outputs": [
    {
     "name": "stdout",
     "output_type": "stream",
     "text": [
      "['Gipsputz', 'Lehmziegel', 'Holzfaser', 'Luftschicht', 'Brettschalung']\n"
     ]
    }
   ],
   "source": [
    "l3[1] = 'Lehmziegel'\n",
    "print(l3)"
   ]
  },
  {
   "cell_type": "markdown",
   "id": "sized-botswana",
   "metadata": {},
   "source": [
    "Listenelement löschen"
   ]
  },
  {
   "cell_type": "code",
   "execution_count": 75,
   "id": "colored-saudi",
   "metadata": {},
   "outputs": [
    {
     "name": "stdout",
     "output_type": "stream",
     "text": [
      "['Gipsputz', 'Lehmziegel', 'Holzfaser', 'Luftschicht']\n"
     ]
    }
   ],
   "source": [
    "del l3[4]\n",
    "print(l3)"
   ]
  },
  {
   "cell_type": "markdown",
   "id": "5796b862-02ab-4881-966b-ab74c87c7814",
   "metadata": {},
   "source": [
    "Anzahl der Listenelemente bestimmen"
   ]
  },
  {
   "cell_type": "code",
   "execution_count": 76,
   "id": "6849ca8e-cf33-4ac6-893d-f9b01cb18894",
   "metadata": {},
   "outputs": [
    {
     "data": {
      "text/plain": [
       "4"
      ]
     },
     "execution_count": 76,
     "metadata": {},
     "output_type": "execute_result"
    }
   ],
   "source": [
    "len(l3)"
   ]
  },
  {
   "cell_type": "markdown",
   "id": "entitled-ideal",
   "metadata": {},
   "source": [
    "Listenelement anhängen"
   ]
  },
  {
   "cell_type": "code",
   "execution_count": 77,
   "id": "fresh-tragedy",
   "metadata": {},
   "outputs": [
    {
     "name": "stdout",
     "output_type": "stream",
     "text": [
      "['Gipsputz', 'Lehmziegel', 'Holzfaser', 'Luftschicht', 'Schiefer']\n"
     ]
    },
    {
     "data": {
      "text/plain": [
       "5"
      ]
     },
     "execution_count": 77,
     "metadata": {},
     "output_type": "execute_result"
    }
   ],
   "source": [
    "l3.append('Schiefer')\n",
    "print(l3)\n",
    "len(l3)"
   ]
  },
  {
   "cell_type": "markdown",
   "id": "turkish-alert",
   "metadata": {},
   "source": [
    "Listenelement einfügen"
   ]
  },
  {
   "cell_type": "code",
   "execution_count": 78,
   "id": "clear-vintage",
   "metadata": {},
   "outputs": [
    {
     "name": "stdout",
     "output_type": "stream",
     "text": [
      "['Gipsputz', 'Lehmziegel', 'Holzfaser', 'Luftschicht', 'Brettschalung', 'Schiefer']\n"
     ]
    }
   ],
   "source": [
    "l3[4:4] = ['Brettschalung']\n",
    "print(l3)"
   ]
  },
  {
   "cell_type": "markdown",
   "id": "5405b29a-235d-4cbf-874e-8b3d952f8188",
   "metadata": {},
   "source": [
    "Listen können wiederum Listen enthalten"
   ]
  },
  {
   "cell_type": "code",
   "execution_count": 41,
   "id": "718aeb04-1258-4cd1-854d-7652934487cd",
   "metadata": {},
   "outputs": [
    {
     "name": "stdout",
     "output_type": "stream",
     "text": [
      "1000.0 1500 40.0 1200.0\n"
     ]
    }
   ],
   "source": [
    "l = [['Gipsputz',0.02,1000.0],['Ziegel',0.12,1500],['Styropor',0.10,40.0],['Kalkputz',0.02,1200.0]]\n",
    "print(l[0][2], l[1][2], l[2][2], l[3][2]) # densities of the layers"
   ]
  },
  {
   "cell_type": "markdown",
   "id": "foster-stamp",
   "metadata": {},
   "source": [
    "## Tupel (nicht veränderbare Listenstruktur)"
   ]
  },
  {
   "cell_type": "markdown",
   "id": "stock-genesis",
   "metadata": {},
   "source": [
    "Deklaration von Tupeln"
   ]
  },
  {
   "cell_type": "code",
   "execution_count": 42,
   "id": "czech-allergy",
   "metadata": {},
   "outputs": [
    {
     "name": "stdout",
     "output_type": "stream",
     "text": [
      "('Gipsputz', 0.02)\n"
     ]
    }
   ],
   "source": [
    "t = ('Gipsputz', 0.02)\n",
    "print(t)"
   ]
  },
  {
   "cell_type": "markdown",
   "id": "legislative-intelligence",
   "metadata": {},
   "source": [
    "Zugriff auf Tupel"
   ]
  },
  {
   "cell_type": "code",
   "execution_count": 43,
   "id": "mysterious-disposition",
   "metadata": {},
   "outputs": [
    {
     "name": "stdout",
     "output_type": "stream",
     "text": [
      "Gipsputz 0.02\n"
     ]
    }
   ],
   "source": [
    "print(t[0], t[1])"
   ]
  },
  {
   "cell_type": "markdown",
   "id": "brave-canadian",
   "metadata": {},
   "source": [
    "## Dictionaries"
   ]
  },
  {
   "cell_type": "markdown",
   "id": "productive-rough",
   "metadata": {},
   "source": [
    "Deklaration von Dictionaries mit Hilfe von Schlüsseln (keys) und Werten (values)"
   ]
  },
  {
   "cell_type": "markdown",
   "id": "a58eb0c5-5bcf-4ffe-9c6c-3483b0eb3ed2",
   "metadata": {},
   "source": [
    "```python\n",
    "d = {'key1': value1, 'key2': value2, ...}\n",
    "```"
   ]
  },
  {
   "cell_type": "code",
   "execution_count": 44,
   "id": "correct-marine",
   "metadata": {},
   "outputs": [],
   "source": [
    "d = {'s1': ('Gipsputz', 0.02), 's2': ('Ziegel', 0.12), 's3': ('Holzfaser', 0.1), 's4': ('Brettschalung', 0.02)}"
   ]
  },
  {
   "cell_type": "markdown",
   "id": "85420eb1-b4db-45bd-b953-bb7ded3dc2d8",
   "metadata": {},
   "source": [
    "Zugriff auf alle keys in Form einer Liste"
   ]
  },
  {
   "cell_type": "code",
   "execution_count": 85,
   "id": "7b5e22dd-4f92-4158-b4c3-29749c64c69e",
   "metadata": {},
   "outputs": [
    {
     "data": {
      "text/plain": [
       "dict_keys(['s1', 's2', 's3', 's4', 's5'])"
      ]
     },
     "execution_count": 85,
     "metadata": {},
     "output_type": "execute_result"
    }
   ],
   "source": [
    "d.keys()"
   ]
  },
  {
   "cell_type": "markdown",
   "id": "ed8b11c7-988b-4f73-a808-67da5feb901a",
   "metadata": {},
   "source": [
    "Zugriff auf alle values in Form einer Liste"
   ]
  },
  {
   "cell_type": "code",
   "execution_count": 86,
   "id": "0614e196-7d17-497c-9fa7-1f5f0c8e74ee",
   "metadata": {},
   "outputs": [
    {
     "data": {
      "text/plain": [
       "dict_values([('Gipsputz', 0.02), ('Ziegel', 0.12), ('Holzfaser', 0.1), ('Luftschicht', 0.02), ('Brettschalung', 0.02)])"
      ]
     },
     "execution_count": 86,
     "metadata": {},
     "output_type": "execute_result"
    }
   ],
   "source": [
    "d.values()"
   ]
  },
  {
   "cell_type": "markdown",
   "id": "important-ordering",
   "metadata": {},
   "source": [
    "Elementweiser Zugriff auf Dictionaries"
   ]
  },
  {
   "cell_type": "code",
   "execution_count": 45,
   "id": "found-monitor",
   "metadata": {},
   "outputs": [
    {
     "name": "stdout",
     "output_type": "stream",
     "text": [
      "('Ziegel', 0.12) Holzfaser 0.02\n"
     ]
    }
   ],
   "source": [
    "print(d['s2'], d['s3'][0], d['s4'][1])"
   ]
  },
  {
   "cell_type": "markdown",
   "id": "valid-roads",
   "metadata": {},
   "source": [
    "Eintrag eines Dictionaries überschreiben  "
   ]
  },
  {
   "cell_type": "code",
   "execution_count": 46,
   "id": "constant-subcommittee",
   "metadata": {},
   "outputs": [
    {
     "name": "stdout",
     "output_type": "stream",
     "text": [
      "{'s1': ('Gipsputz', 0.02), 's2': ('Ziegel', 0.12), 's3': ('Holzfaser', 0.1), 's4': ('Luftschicht', 0.02)}\n"
     ]
    }
   ],
   "source": [
    "d['s4'] = ('Luftschicht', 0.02)\n",
    "print(d)"
   ]
  },
  {
   "cell_type": "markdown",
   "id": "thermal-facial",
   "metadata": {},
   "source": [
    "Eintrag in ein Dictionaries hinzufügen "
   ]
  },
  {
   "cell_type": "code",
   "execution_count": 47,
   "id": "uniform-clothing",
   "metadata": {},
   "outputs": [
    {
     "name": "stdout",
     "output_type": "stream",
     "text": [
      "{'s1': ('Gipsputz', 0.02), 's2': ('Ziegel', 0.12), 's3': ('Holzfaser', 0.1), 's4': ('Luftschicht', 0.02), 's5': ('Brettschalung', 0.02)}\n"
     ]
    }
   ],
   "source": [
    "d['s5'] = ('Brettschalung', 0.02)\n",
    "print(d)"
   ]
  },
  {
   "cell_type": "markdown",
   "id": "5434afee-ad69-43fd-8f06-9e3a74dfedc5",
   "metadata": {},
   "source": [
    "Dictionaries können wiederum Dictionaries enthalten"
   ]
  },
  {
   "cell_type": "code",
   "execution_count": 84,
   "id": "4c7c5a32-53df-4b51-815a-39165bf34e6c",
   "metadata": {},
   "outputs": [
    {
     "name": "stdout",
     "output_type": "stream",
     "text": [
      "2000.0\n"
     ]
    },
    {
     "data": {
      "text/plain": [
       "{'heatconductivity': 2.0, 'density': 2000.0, 'heatcapacity': 1000.0}"
      ]
     },
     "execution_count": 84,
     "metadata": {},
     "output_type": "execute_result"
    }
   ],
   "source": [
    "material = {'name':'Beton','color':'grau','physics':{'heatconductivity': 2.0,'density': 2000.0, 'heatcapacity': 1000.0}}\n",
    "print(material['physics']['density'])\n",
    "material.pop('physics')"
   ]
  },
  {
   "cell_type": "markdown",
   "id": "indoor-matrix",
   "metadata": {},
   "source": [
    "## Logische Ausdrücke"
   ]
  },
  {
   "cell_type": "markdown",
   "id": "spread-novel",
   "metadata": {},
   "source": [
    "Prüfen auf Gleichheit"
   ]
  },
  {
   "cell_type": "code",
   "execution_count": 48,
   "id": "special-breed",
   "metadata": {},
   "outputs": [
    {
     "data": {
      "text/plain": [
       "False"
      ]
     },
     "execution_count": 48,
     "metadata": {},
     "output_type": "execute_result"
    }
   ],
   "source": [
    "4 == 5"
   ]
  },
  {
   "cell_type": "code",
   "execution_count": 49,
   "id": "spanish-croatia",
   "metadata": {},
   "outputs": [
    {
     "data": {
      "text/plain": [
       "False"
      ]
     },
     "execution_count": 49,
     "metadata": {},
     "output_type": "execute_result"
    }
   ],
   "source": [
    "'Ziegel' == 'Zigel'"
   ]
  },
  {
   "cell_type": "code",
   "execution_count": 50,
   "id": "canadian-research",
   "metadata": {},
   "outputs": [
    {
     "data": {
      "text/plain": [
       "True"
      ]
     },
     "execution_count": 50,
     "metadata": {},
     "output_type": "execute_result"
    }
   ],
   "source": [
    "'Ziegel' == 'Ziegel'"
   ]
  },
  {
   "cell_type": "markdown",
   "id": "mobile-expert",
   "metadata": {},
   "source": [
    "Prüfen auf Ungleichheit"
   ]
  },
  {
   "cell_type": "code",
   "execution_count": 51,
   "id": "fifty-morgan",
   "metadata": {},
   "outputs": [
    {
     "data": {
      "text/plain": [
       "True"
      ]
     },
     "execution_count": 51,
     "metadata": {},
     "output_type": "execute_result"
    }
   ],
   "source": [
    "1 != 2"
   ]
  },
  {
   "cell_type": "code",
   "execution_count": 52,
   "id": "typical-graduate",
   "metadata": {},
   "outputs": [
    {
     "data": {
      "text/plain": [
       "True"
      ]
     },
     "execution_count": 52,
     "metadata": {},
     "output_type": "execute_result"
    }
   ],
   "source": [
    "'Ziegel' != 'Holzfaser'"
   ]
  },
  {
   "cell_type": "markdown",
   "id": "verbal-constitution",
   "metadata": {},
   "source": [
    "Kleiner und größer als ..."
   ]
  },
  {
   "cell_type": "code",
   "execution_count": 53,
   "id": "opposed-harbor",
   "metadata": {},
   "outputs": [
    {
     "data": {
      "text/plain": [
       "(True, False)"
      ]
     },
     "execution_count": 53,
     "metadata": {},
     "output_type": "execute_result"
    }
   ],
   "source": [
    "3 < 4, 5 > 5"
   ]
  },
  {
   "cell_type": "code",
   "execution_count": 54,
   "id": "biblical-liabilities",
   "metadata": {},
   "outputs": [
    {
     "data": {
      "text/plain": [
       "True"
      ]
     },
     "execution_count": 54,
     "metadata": {},
     "output_type": "execute_result"
    }
   ],
   "source": [
    "'vier' < 'zwei'"
   ]
  },
  {
   "cell_type": "code",
   "execution_count": 55,
   "id": "61f7891b-ac29-4339-baaa-6dd72963084e",
   "metadata": {},
   "outputs": [
    {
     "data": {
      "text/plain": [
       "True"
      ]
     },
     "execution_count": 55,
     "metadata": {},
     "output_type": "execute_result"
    }
   ],
   "source": [
    "'a' < 'b'"
   ]
  },
  {
   "cell_type": "code",
   "execution_count": 56,
   "id": "8bb091e5-5d64-4a58-a466-ec1ead8742e1",
   "metadata": {},
   "outputs": [
    {
     "data": {
      "text/plain": [
       "False"
      ]
     },
     "execution_count": 56,
     "metadata": {},
     "output_type": "execute_result"
    }
   ],
   "source": [
    "'b' < 'a'"
   ]
  },
  {
   "cell_type": "code",
   "execution_count": 57,
   "id": "c8e5c09f-b37f-4c9c-ad6c-dd50d74d34cf",
   "metadata": {},
   "outputs": [
    {
     "data": {
      "text/plain": [
       "(True, False)"
      ]
     },
     "execution_count": 57,
     "metadata": {},
     "output_type": "execute_result"
    }
   ],
   "source": [
    "True > False, False > True"
   ]
  },
  {
   "cell_type": "markdown",
   "id": "biological-courtesy",
   "metadata": {},
   "source": [
    "Kleiner oder gleich bzw. größer oder gleich ..."
   ]
  },
  {
   "cell_type": "code",
   "execution_count": 58,
   "id": "mysterious-homework",
   "metadata": {},
   "outputs": [
    {
     "data": {
      "text/plain": [
       "(True, True)"
      ]
     },
     "execution_count": 58,
     "metadata": {},
     "output_type": "execute_result"
    }
   ],
   "source": [
    "3<=4, 5 >=5"
   ]
  },
  {
   "cell_type": "code",
   "execution_count": null,
   "id": "moral-tomorrow",
   "metadata": {},
   "outputs": [],
   "source": []
  }
 ],
 "metadata": {
  "kernelspec": {
   "display_name": "Python 3",
   "language": "python",
   "name": "python3"
  },
  "language_info": {
   "codemirror_mode": {
    "name": "ipython",
    "version": 3
   },
   "file_extension": ".py",
   "mimetype": "text/x-python",
   "name": "python",
   "nbconvert_exporter": "python",
   "pygments_lexer": "ipython3",
   "version": "3.7.6"
  },
  "toc-autonumbering": true,
  "toc-showmarkdowntxt": false
 },
 "nbformat": 4,
 "nbformat_minor": 5
}
