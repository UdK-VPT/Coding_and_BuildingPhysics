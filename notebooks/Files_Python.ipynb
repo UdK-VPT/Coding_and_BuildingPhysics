{
 "cells": [
  {
   "cell_type": "markdown",
   "id": "forced-solomon",
   "metadata": {},
   "source": [
    "# Dateien"
   ]
  },
  {
   "cell_type": "markdown",
   "id": "sought-mechanism",
   "metadata": {},
   "source": [
    "## Lesen von Text-Dateien"
   ]
  },
  {
   "cell_type": "markdown",
   "id": "abandoned-shirt",
   "metadata": {},
   "source": [
    "Öffnen einer Text-Datei zum Lesen"
   ]
  },
  {
   "cell_type": "code",
   "execution_count": 4,
   "id": "demanding-korea",
   "metadata": {},
   "outputs": [],
   "source": [
    "f = open('BuildingMaterials.txt','r')"
   ]
  },
  {
   "cell_type": "markdown",
   "id": "cross-princeton",
   "metadata": {},
   "source": [
    "Zeilenweises Auslesen der Text-Datei"
   ]
  },
  {
   "cell_type": "code",
   "execution_count": 5,
   "id": "productive-solution",
   "metadata": {},
   "outputs": [
    {
     "name": "stdout",
     "output_type": "stream",
     "text": [
      "Concrete 2400 1000 2.0\n",
      "\n",
      "Insulation 40 1200 0.04\n",
      "\n",
      "Brick 1200 1000 1.2\n",
      "\n",
      "Wood 900 1100 0.5\n"
     ]
    }
   ],
   "source": [
    "for line in f:\n",
    "    print(line)\n",
    "f.close()"
   ]
  },
  {
   "cell_type": "markdown",
   "id": "trying-request",
   "metadata": {},
   "source": [
    "Auslesen der Text-Datei in ein Dictionary mit unterschiedlichen Datentypen"
   ]
  },
  {
   "cell_type": "code",
   "execution_count": 27,
   "id": "informal-roads",
   "metadata": {},
   "outputs": [
    {
     "name": "stdout",
     "output_type": "stream",
     "text": [
      "{'Concrete': [2400.0, 1000.0, 2.0], 'Insulation': [40.0, 1200.0, 0.04], 'Brick': [1200.0, 1000.0, 1.2], 'Wood': [900.0, 1100.0, 0.5]}\n",
      "[2400.0, 1000.0, 2.0]\n"
     ]
    }
   ],
   "source": [
    "materials = {}\n",
    "f = open('BuildingMaterials.txt','r')\n",
    "for line in f:\n",
    "    line = line.strip()\n",
    "    lineList = line.split(' ')\n",
    "    materials[lineList[0]]=[float(lineList[1]),float(lineList[2]),float(lineList[3])]\n",
    "f.close()\n",
    "print(materials)\n",
    "print(materials['Concrete'])"
   ]
  },
  {
   "cell_type": "markdown",
   "id": "imported-parks",
   "metadata": {},
   "source": [
    "Fragen nach bauphysikalisischen Parametern eines gewünschten Baustoffes"
   ]
  },
  {
   "cell_type": "code",
   "execution_count": 28,
   "id": "electronic-location",
   "metadata": {},
   "outputs": [
    {
     "name": "stdout",
     "output_type": "stream",
     "text": [
      "Geben Sie ein Baustoff ein, für welchen Sie bauphysikalische Parameter genannt haben möchten:Hallo\n",
      "Der Baustoff Hallo ist nicht in der Stoffdatenbank.\n"
     ]
    },
    {
     "ename": "KeyboardInterrupt",
     "evalue": "Interrupted by user",
     "output_type": "error",
     "traceback": [
      "\u001b[1;31m--------------------------------------------------------\u001b[0m",
      "\u001b[1;31mKeyboardInterrupt\u001b[0m      Traceback (most recent call last)",
      "\u001b[1;32m<ipython-input-28-d883ed1bcdb9>\u001b[0m in \u001b[0;36m<module>\u001b[1;34m\u001b[0m\n\u001b[0;32m      7\u001b[0m \u001b[0mf\u001b[0m\u001b[1;33m.\u001b[0m\u001b[0mclose\u001b[0m\u001b[1;33m(\u001b[0m\u001b[1;33m)\u001b[0m\u001b[1;33m\u001b[0m\u001b[1;33m\u001b[0m\u001b[0m\n\u001b[0;32m      8\u001b[0m \u001b[1;32mwhile\u001b[0m \u001b[1;32mTrue\u001b[0m\u001b[1;33m:\u001b[0m\u001b[1;33m\u001b[0m\u001b[1;33m\u001b[0m\u001b[0m\n\u001b[1;32m----> 9\u001b[1;33m     \u001b[0mmaterial\u001b[0m \u001b[1;33m=\u001b[0m \u001b[0minput\u001b[0m\u001b[1;33m(\u001b[0m\u001b[1;34m\"Geben Sie ein Baustoff ein, für welchen Sie bauphysikalische Parameter genannt haben möchten:\"\u001b[0m\u001b[1;33m)\u001b[0m\u001b[1;33m\u001b[0m\u001b[1;33m\u001b[0m\u001b[0m\n\u001b[0m\u001b[0;32m     10\u001b[0m     \u001b[1;32mif\u001b[0m \u001b[0mmaterial\u001b[0m \u001b[1;32min\u001b[0m \u001b[0mmaterials\u001b[0m\u001b[1;33m.\u001b[0m\u001b[0mkeys\u001b[0m\u001b[1;33m(\u001b[0m\u001b[1;33m)\u001b[0m\u001b[1;33m:\u001b[0m\u001b[1;33m\u001b[0m\u001b[1;33m\u001b[0m\u001b[0m\n\u001b[0;32m     11\u001b[0m         \u001b[0mprint\u001b[0m\u001b[1;33m(\u001b[0m\u001b[1;34m'Die bauphysikalischen Werte für '\u001b[0m\u001b[1;33m,\u001b[0m \u001b[0mmaterial\u001b[0m\u001b[1;33m,\u001b[0m \u001b[1;34m'sind:'\u001b[0m\u001b[1;33m)\u001b[0m\u001b[1;33m\u001b[0m\u001b[1;33m\u001b[0m\u001b[0m\n",
      "\u001b[1;32mC:\\ProgramData\\Anaconda3\\lib\\site-packages\\ipykernel\\kernelbase.py\u001b[0m in \u001b[0;36mraw_input\u001b[1;34m(self, prompt)\u001b[0m\n\u001b[0;32m    861\u001b[0m             \u001b[0mself\u001b[0m\u001b[1;33m.\u001b[0m\u001b[0m_parent_ident\u001b[0m\u001b[1;33m,\u001b[0m\u001b[1;33m\u001b[0m\u001b[1;33m\u001b[0m\u001b[0m\n\u001b[0;32m    862\u001b[0m             \u001b[0mself\u001b[0m\u001b[1;33m.\u001b[0m\u001b[0m_parent_header\u001b[0m\u001b[1;33m,\u001b[0m\u001b[1;33m\u001b[0m\u001b[1;33m\u001b[0m\u001b[0m\n\u001b[1;32m--> 863\u001b[1;33m             \u001b[0mpassword\u001b[0m\u001b[1;33m=\u001b[0m\u001b[1;32mFalse\u001b[0m\u001b[1;33m,\u001b[0m\u001b[1;33m\u001b[0m\u001b[1;33m\u001b[0m\u001b[0m\n\u001b[0m\u001b[0;32m    864\u001b[0m         )\n\u001b[0;32m    865\u001b[0m \u001b[1;33m\u001b[0m\u001b[0m\n",
      "\u001b[1;32mC:\\ProgramData\\Anaconda3\\lib\\site-packages\\ipykernel\\kernelbase.py\u001b[0m in \u001b[0;36m_input_request\u001b[1;34m(self, prompt, ident, parent, password)\u001b[0m\n\u001b[0;32m    902\u001b[0m             \u001b[1;32mexcept\u001b[0m \u001b[0mKeyboardInterrupt\u001b[0m\u001b[1;33m:\u001b[0m\u001b[1;33m\u001b[0m\u001b[1;33m\u001b[0m\u001b[0m\n\u001b[0;32m    903\u001b[0m                 \u001b[1;31m# re-raise KeyboardInterrupt, to truncate traceback\u001b[0m\u001b[1;33m\u001b[0m\u001b[1;33m\u001b[0m\u001b[1;33m\u001b[0m\u001b[0m\n\u001b[1;32m--> 904\u001b[1;33m                 \u001b[1;32mraise\u001b[0m \u001b[0mKeyboardInterrupt\u001b[0m\u001b[1;33m(\u001b[0m\u001b[1;34m\"Interrupted by user\"\u001b[0m\u001b[1;33m)\u001b[0m \u001b[1;32mfrom\u001b[0m \u001b[1;32mNone\u001b[0m\u001b[1;33m\u001b[0m\u001b[1;33m\u001b[0m\u001b[0m\n\u001b[0m\u001b[0;32m    905\u001b[0m             \u001b[1;32mexcept\u001b[0m \u001b[0mException\u001b[0m \u001b[1;32mas\u001b[0m \u001b[0me\u001b[0m\u001b[1;33m:\u001b[0m\u001b[1;33m\u001b[0m\u001b[1;33m\u001b[0m\u001b[0m\n\u001b[0;32m    906\u001b[0m                 \u001b[0mself\u001b[0m\u001b[1;33m.\u001b[0m\u001b[0mlog\u001b[0m\u001b[1;33m.\u001b[0m\u001b[0mwarning\u001b[0m\u001b[1;33m(\u001b[0m\u001b[1;34m\"Invalid Message:\"\u001b[0m\u001b[1;33m,\u001b[0m \u001b[0mexc_info\u001b[0m\u001b[1;33m=\u001b[0m\u001b[1;32mTrue\u001b[0m\u001b[1;33m)\u001b[0m\u001b[1;33m\u001b[0m\u001b[1;33m\u001b[0m\u001b[0m\n",
      "\u001b[1;31mKeyboardInterrupt\u001b[0m: Interrupted by user"
     ]
    }
   ],
   "source": [
    "materials = {}\n",
    "f = open('BuildingMaterials.txt','r')\n",
    "for line in f:\n",
    "    line = line.strip()\n",
    "    lineList = line.split(' ')\n",
    "    materials[lineList[0]]=[float(lineList[1]),float(lineList[2]),float(lineList[3])]\n",
    "f.close()\n",
    "while True:\n",
    "    material = input(\"Geben Sie ein Baustoff ein, für welchen Sie bauphysikalische Parameter genannt haben möchten:\")\n",
    "    if material in materials.keys():\n",
    "        print('Die bauphysikalischen Werte für ', material, 'sind:')\n",
    "        print('Dichte:', materials[material][0], 'kg/m3')\n",
    "        print('spez. Wärmekapazität:', materials[material][1], 'k/(kgK)')\n",
    "        print('Wärmeleitfähigkeit:', materials[material][2], 'W/(mK)')\n",
    "    else:\n",
    "        print('Der Baustoff', material, 'ist nicht in der Stoffdatenbank.')"
   ]
  },
  {
   "cell_type": "markdown",
   "id": "printable-honor",
   "metadata": {},
   "source": [
    "Alternatives Lesen einer Datei"
   ]
  },
  {
   "cell_type": "code",
   "execution_count": 13,
   "id": "tamil-namibia",
   "metadata": {},
   "outputs": [
    {
     "name": "stdout",
     "output_type": "stream",
     "text": [
      "Concrete 2400 1000 2.0\n",
      "\n",
      "Insulation 40 1200 0.04\n",
      "\n",
      "Brick 1200 1000 1.2\n",
      "\n",
      "Wood 900 1100 0.5\n"
     ]
    }
   ],
   "source": [
    "with open('BuildingMaterials.txt','r') as f:\n",
    "    for line in f:\n",
    "        print(line)"
   ]
  },
  {
   "cell_type": "markdown",
   "id": "understood-wheat",
   "metadata": {},
   "source": [
    "## Schreiben von Text-Dateien"
   ]
  },
  {
   "cell_type": "markdown",
   "id": "finished-florida",
   "metadata": {},
   "source": [
    "Öffnen einer Text-Datei zum Schreiben"
   ]
  },
  {
   "cell_type": "code",
   "execution_count": 22,
   "id": "chubby-money",
   "metadata": {},
   "outputs": [],
   "source": [
    "f = open('NewBuildingMaterials.txt','w')"
   ]
  },
  {
   "cell_type": "code",
   "execution_count": 23,
   "id": "statewide-helen",
   "metadata": {},
   "outputs": [],
   "source": [
    "newMaterials = {'Plastic':[800.0,1200.0,0.5],'Rubber':[1000.0,1200.0,0.7],'Glass':[1500.0,1000.0,3.0]}"
   ]
  },
  {
   "cell_type": "code",
   "execution_count": 25,
   "id": "seven-competition",
   "metadata": {},
   "outputs": [],
   "source": [
    "for nm in newMaterials:\n",
    "    f.write('{} {} {} {}\\n'.format(nm,newMaterials[nm][0],newMaterials[nm][1],newMaterials[nm][2]))\n",
    "f.close()                                                                                                  "
   ]
  },
  {
   "cell_type": "markdown",
   "id": "bigger-reverse",
   "metadata": {},
   "source": [
    "Kontrolle durch Einlesen der neu geschriebenen Text-Datei"
   ]
  },
  {
   "cell_type": "code",
   "execution_count": 26,
   "id": "electronic-hundred",
   "metadata": {},
   "outputs": [
    {
     "name": "stdout",
     "output_type": "stream",
     "text": [
      "Plastic 800.0 1200.0 0.5\n",
      "\n",
      "Rubber 1000.0 1200.0 0.7\n",
      "\n",
      "Glass 1500.0 1000.0 3.0\n",
      "\n"
     ]
    }
   ],
   "source": [
    "with open('NewBuildingMaterials.txt','r') as f:\n",
    "    for line in f:\n",
    "        print(line)"
   ]
  },
  {
   "cell_type": "markdown",
   "id": "adolescent-folder",
   "metadata": {},
   "source": [
    "## CSV (Comma Separated Values)-Dateien Lesen und Schreiben"
   ]
  },
  {
   "cell_type": "markdown",
   "id": "directed-mortgage",
   "metadata": {},
   "source": [
    "CSV-Dateien lesen"
   ]
  },
  {
   "cell_type": "code",
   "execution_count": 103,
   "id": "handy-evolution",
   "metadata": {},
   "outputs": [
    {
     "name": "stdout",
     "output_type": "stream",
     "text": [
      "['Plastic,800.0,1200.0,0.5']\n",
      "['Rubber,1000.0,1200.0,0.7']\n",
      "['Glass,1500.0,1000.0,3.0']\n"
     ]
    }
   ],
   "source": [
    "import csv\n",
    "reader = csv.reader(open('NewBuildingMaterials.csv'), delimiter=';')\n",
    "for line in reader:\n",
    "    print(line)"
   ]
  },
  {
   "cell_type": "markdown",
   "id": "advisory-imagination",
   "metadata": {},
   "source": [
    "CSV-Dateien schreiben"
   ]
  },
  {
   "cell_type": "code",
   "execution_count": 104,
   "id": "minimal-moral",
   "metadata": {},
   "outputs": [],
   "source": [
    "import csv\n",
    "with open('ExpensiveMaterials.csv', 'w',newline='') as f:\n",
    "    writer = csv.writer(f)\n",
    "    writer.writerow(['Name','Price'])\n",
    "    data = (['Gold','30000.0'],['Silver','2000.0'],['Bronze','2000.0'])\n",
    "    writer.writerows(data)"
   ]
  },
  {
   "cell_type": "markdown",
   "id": "sustained-clone",
   "metadata": {},
   "source": [
    "Kontrolle durch Einlesen der neu geschriebenen Datei"
   ]
  },
  {
   "cell_type": "code",
   "execution_count": 105,
   "id": "peaceful-columbus",
   "metadata": {},
   "outputs": [
    {
     "name": "stdout",
     "output_type": "stream",
     "text": [
      "['Name,Price']\n",
      "['Gold,30000.0']\n",
      "['Silver,2000.0']\n",
      "['Bronze,2000.0']\n"
     ]
    }
   ],
   "source": [
    "import csv\n",
    "with open('ExpensiveMaterials.csv', 'r') as f:\n",
    "    reader = csv.reader(f, delimiter=';')\n",
    "    for line in reader:\n",
    "        print(line)"
   ]
  },
  {
   "cell_type": "markdown",
   "id": "accessible-slovakia",
   "metadata": {},
   "source": [
    "## Lesen und Schreiben von Dateien mit Pandas"
   ]
  },
  {
   "cell_type": "markdown",
   "id": "decent-window",
   "metadata": {},
   "source": [
    "Schreiben von Dateien mit Pandas"
   ]
  },
  {
   "cell_type": "code",
   "execution_count": 113,
   "id": "thick-anxiety",
   "metadata": {},
   "outputs": [],
   "source": [
    "import pandas as pd\n",
    "name = [\"Brick\", \"Concrete\", \"Insulation\", \"Wood\"] \n",
    "density = [1200, 2000, 40, 900]\n",
    "heatcapacity = [1000, 1000, 1200, 800]\n",
    "heatconductivity = [1.2, 2.0, 0.04, 0.6]\n",
    "dict = {'name': name, 'density': density, 'heatcapacity': heatcapacity, 'heatconductivity': heatconductivity} \n",
    "df = pd.DataFrame(dict) \n",
    "df.to_csv('materials.csv')"
   ]
  },
  {
   "cell_type": "markdown",
   "id": "broadband-thousand",
   "metadata": {},
   "source": [
    "Lesen von Dateien mit Pandas"
   ]
  },
  {
   "cell_type": "code",
   "execution_count": 114,
   "id": "ecological-adult",
   "metadata": {},
   "outputs": [
    {
     "name": "stdout",
     "output_type": "stream",
     "text": [
      "   Unnamed: 0        name  density  heatcapacity  heatconductivity\n",
      "0           0       Brick     1200          1000              1.20\n",
      "1           1    Concrete     2000          1000              2.00\n",
      "2           2  Insulation       40          1200              0.04\n",
      "3           3        Wood      900           800              0.60\n"
     ]
    }
   ],
   "source": [
    "import pandas as pd\n",
    "df=pd.read_csv('materials.csv')\n",
    "print(df)"
   ]
  },
  {
   "cell_type": "code",
   "execution_count": null,
   "id": "coupled-content",
   "metadata": {},
   "outputs": [],
   "source": []
  }
 ],
 "metadata": {
  "kernelspec": {
   "display_name": "Python 3",
   "language": "python",
   "name": "python3"
  },
  "language_info": {
   "codemirror_mode": {
    "name": "ipython",
    "version": 3
   },
   "file_extension": ".py",
   "mimetype": "text/x-python",
   "name": "python",
   "nbconvert_exporter": "python",
   "pygments_lexer": "ipython3",
   "version": "3.7.6"
  }
 },
 "nbformat": 4,
 "nbformat_minor": 5
}
