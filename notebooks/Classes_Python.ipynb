{
 "cells": [
  {
   "cell_type": "markdown",
   "id": "canadian-surgery",
   "metadata": {},
   "source": [
    "# Objektorientierung"
   ]
  },
  {
   "cell_type": "markdown",
   "id": "planned-picking",
   "metadata": {},
   "source": [
    "Die **Objektorientierung** ist ein Programmierparadigma, welches eine **klare Strukturierung** und **gute Erweiterbarkeit** des Programmcodes unterstützt und eine **hohe Wiederverwendbarkeit des Quellcodes** ermöglicht. Für diesen Zweck werden Datenstrukturen und zugehörige Operationen zu **Objekten** in Form eines Containers zusammengefasst, auf dessen innere Struktur  nur über klar definierte **Schnittstellen** zugegriffen werden kann."
   ]
  },
  {
   "cell_type": "markdown",
   "id": "threaded-passion",
   "metadata": {},
   "source": [
    "## Datenstruktur ohne Objektorientierung"
   ]
  },
  {
   "cell_type": "markdown",
   "id": "upset-candy",
   "metadata": {},
   "source": [
    "Eigenschaften von zwei Materialien in zwei Dictionaries definiert:\n",
    "\n",
    "```python\n",
    "material1 = : {\n",
    "    'name': 'Fichte',\n",
    "    'density': 900.0,\n",
    "    'heatcapacity': 1200.0,\n",
    "    'heatconductivity': 0.5,\n",
    "    'price': 400}\n",
    "\n",
    "material2 = : {\n",
    "    'name': 'Eiche',\n",
    "    'density': 1200.0,\n",
    "    'heatcapacity': 1100.0,\n",
    "    'heatconductivity': 0.8,\n",
    "    'price': 700}\n",
    "```"
   ]
  },
  {
   "cell_type": "markdown",
   "id": "romance-uruguay",
   "metadata": {},
   "source": [
    "## Klassen"
   ]
  },
  {
   "cell_type": "markdown",
   "id": "virtual-amber",
   "metadata": {},
   "source": [
    "In eine **Klasse** (Schlüsselwort **class**) werden verschiedene Funktionalitäten (Datenstrukturen und Operationen) zusammengefasst und in Form eines **Templates** (Vorlage) definiert. Von einer Klasse können dann ein oder mehrere **Instanzen** (Exemplare) im ausfürhbaren Programmiercode instantiiert werden."
   ]
  },
  {
   "cell_type": "markdown",
   "id": "spoken-phone",
   "metadata": {},
   "source": [
    "```python\n",
    "class ClassName:\n",
    "    statement1\n",
    "    statement2\n",
    "    ...\n",
    "```"
   ]
  },
  {
   "cell_type": "markdown",
   "id": "confidential-ensemble",
   "metadata": {},
   "source": [
    "Definition einer allgemeinen Materialklasse"
   ]
  },
  {
   "cell_type": "code",
   "execution_count": 84,
   "id": "expired-shock",
   "metadata": {},
   "outputs": [],
   "source": [
    "class Material1:\n",
    "    \"\"\"A still stupid material class\"\"\"\n",
    "    def name(self):\n",
    "        return 'Fichte'"
   ]
  },
  {
   "cell_type": "markdown",
   "id": "outer-catalog",
   "metadata": {},
   "source": [
    "Instantiierung der Klasse"
   ]
  },
  {
   "cell_type": "code",
   "execution_count": 85,
   "id": "japanese-black",
   "metadata": {},
   "outputs": [],
   "source": [
    "m = Material1()"
   ]
  },
  {
   "cell_type": "markdown",
   "id": "biblical-purple",
   "metadata": {},
   "source": [
    "Aufruf einer Methode der Klasse"
   ]
  },
  {
   "cell_type": "code",
   "execution_count": 86,
   "id": "upset-break",
   "metadata": {},
   "outputs": [
    {
     "data": {
      "text/plain": [
       "'Fichte'"
      ]
     },
     "execution_count": 86,
     "metadata": {},
     "output_type": "execute_result"
    }
   ],
   "source": [
    "m.name()"
   ]
  },
  {
   "cell_type": "markdown",
   "id": "informed-coach",
   "metadata": {},
   "source": [
    "Verallgemeinerung der Methode"
   ]
  },
  {
   "cell_type": "code",
   "execution_count": 87,
   "id": "polish-level",
   "metadata": {},
   "outputs": [],
   "source": [
    "class Material2:\n",
    "    def __init__(self, name):\n",
    "        self.name = name"
   ]
  },
  {
   "cell_type": "markdown",
   "id": "stuffed-discovery",
   "metadata": {},
   "source": [
    "Hierbei ist **def __init__(...)** die Konstruktor-Methode, die automatisch bei der Instantiierung der Klasse ausgeführt wird."
   ]
  },
  {
   "cell_type": "code",
   "execution_count": 88,
   "id": "surgical-reputation",
   "metadata": {},
   "outputs": [],
   "source": [
    "m1 = Material2('Fichte')\n",
    "m2 = Material2('Eiche')"
   ]
  },
  {
   "cell_type": "code",
   "execution_count": 89,
   "id": "forbidden-cleveland",
   "metadata": {},
   "outputs": [
    {
     "data": {
      "text/plain": [
       "('Fichte', 'Eiche')"
      ]
     },
     "execution_count": 89,
     "metadata": {},
     "output_type": "execute_result"
    }
   ],
   "source": [
    "m1.name, m2.name"
   ]
  },
  {
   "cell_type": "markdown",
   "id": "public-senegal",
   "metadata": {},
   "source": [
    "Klassenvariablen sind nicht veränderbare Eigenschaften von Klassen:"
   ]
  },
  {
   "cell_type": "code",
   "execution_count": 90,
   "id": "about-profit",
   "metadata": {},
   "outputs": [],
   "source": [
    "class Material3:\n",
    "    materialType = 'Holz'\n",
    "    def __init__(self, name):\n",
    "        self.name = name"
   ]
  },
  {
   "cell_type": "code",
   "execution_count": 91,
   "id": "military-column",
   "metadata": {},
   "outputs": [
    {
     "data": {
      "text/plain": [
       "('Fichte', 'Holz', 'Eiche', 'Holz')"
      ]
     },
     "execution_count": 91,
     "metadata": {},
     "output_type": "execute_result"
    }
   ],
   "source": [
    "m1 = Material3('Fichte')\n",
    "m2 = Material3('Eiche')\n",
    "m1.name, m1.materialType, m2.name, m2.materialType"
   ]
  },
  {
   "cell_type": "markdown",
   "id": "neural-masters",
   "metadata": {},
   "source": [
    "Erweiterung der Klasse um weitere Attribute"
   ]
  },
  {
   "cell_type": "code",
   "execution_count": 92,
   "id": "precious-marshall",
   "metadata": {},
   "outputs": [],
   "source": [
    "class Material4:\n",
    "    def __init__(self, name, density, heatcapacity, heatconductivity, price):\n",
    "        self.name = name\n",
    "        self.density = density\n",
    "        self.heatcapacity = heatcapacity\n",
    "        self.heatconductivity = heatconductivity\n",
    "        self.price = price"
   ]
  },
  {
   "cell_type": "code",
   "execution_count": 93,
   "id": "renewable-commissioner",
   "metadata": {},
   "outputs": [
    {
     "data": {
      "text/plain": [
       "(400, 1200.0, 'Eiche')"
      ]
     },
     "execution_count": 93,
     "metadata": {},
     "output_type": "execute_result"
    }
   ],
   "source": [
    "m1 = Material4('Fichte',900.0,1200.0,0.5,400)\n",
    "m2 = Material4('Eiche',1200.0,1100.0,0.8,700)\n",
    "m1.price, m2.density, m2.name"
   ]
  },
  {
   "cell_type": "markdown",
   "id": "african-canada",
   "metadata": {},
   "source": [
    "Erweiterung der Klasse um neue Methoden"
   ]
  },
  {
   "cell_type": "code",
   "execution_count": 94,
   "id": "round-things",
   "metadata": {},
   "outputs": [],
   "source": [
    "class Material5:\n",
    "    def __init__(self, name, density, heatcapacity, heatconductivity, price):\n",
    "        self.name = name\n",
    "        self.density = density\n",
    "        self.heatcapacity = heatcapacity\n",
    "        self.heatconductivity = heatconductivity\n",
    "        self.price = price\n",
    "    def update_price(self):\n",
    "        inflationrate = float(input('Inflationrate in Prozent eigeben (z.B. 3.2):'))\n",
    "        self.price = self.price*(1+inflationrate/100)"
   ]
  },
  {
   "cell_type": "code",
   "execution_count": 95,
   "id": "military-northwest",
   "metadata": {},
   "outputs": [
    {
     "data": {
      "text/plain": [
       "700"
      ]
     },
     "execution_count": 95,
     "metadata": {},
     "output_type": "execute_result"
    }
   ],
   "source": [
    "m = Material5('Eiche',1200.0,1100.0,0.8,700)\n",
    "m.price"
   ]
  },
  {
   "cell_type": "code",
   "execution_count": 96,
   "id": "christian-double",
   "metadata": {},
   "outputs": [
    {
     "name": "stdout",
     "output_type": "stream",
     "text": [
      "Inflationrate in Prozent eigeben (z.B. 3.2):2\n"
     ]
    },
    {
     "data": {
      "text/plain": [
       "714.0"
      ]
     },
     "execution_count": 96,
     "metadata": {},
     "output_type": "execute_result"
    }
   ],
   "source": [
    "m.update_price()\n",
    "m.price"
   ]
  },
  {
   "cell_type": "markdown",
   "id": "thick-amount",
   "metadata": {},
   "source": [
    "## Einfache Vererbung"
   ]
  },
  {
   "cell_type": "markdown",
   "id": "renewable-centre",
   "metadata": {},
   "source": [
    "Definierte Klassen mit allgemeinen Eigenschaften (**Elternklassen**) können durch **Vererbung** in sogenannten **Kindklassen** spezalisiert werden, in dem sie die **Eigenschaften der Elternklassen übernehmen** und mit **zusätzlichen Eigenschaften** versehen werden. "
   ]
  },
  {
   "cell_type": "markdown",
   "id": "hired-perfume",
   "metadata": {},
   "source": [
    "```python\n",
    "# parent class\n",
    "class A:\n",
    "    statement1\n",
    "    statement2\n",
    "    ...\n",
    "\n",
    "# child classes\n",
    "class B(A):\n",
    "    statement1\n",
    "    statement2\n",
    "    ...\n",
    "    \n",
    "class C(A):\n",
    "    statement1\n",
    "    statement2\n",
    "    ... \n",
    "    \n",
    "```"
   ]
  },
  {
   "cell_type": "markdown",
   "id": "liable-death",
   "metadata": {},
   "source": [
    "Beipiel: Allgemeine Klasse \"Bauteil\", hiervon abgeleitete spezialisierte Klassen \"Wand\" und \"Fenster\"."
   ]
  },
  {
   "cell_type": "code",
   "execution_count": 97,
   "id": "signal-oklahoma",
   "metadata": {},
   "outputs": [],
   "source": [
    "class Bauteil:\n",
    "    def __init__(self, name, width, height):\n",
    "        self.name = name\n",
    "        self.width = width\n",
    "        self.height = height\n",
    "\n",
    "class Wand(Bauteil):\n",
    "    def __init__(self, name, width, height, numberOfLayers, layerThickness=[]):\n",
    "        Bauteil.__init__(self, name, width, height)\n",
    "        self.numberOfLayers = numberOfLayers\n",
    "        self.layerThickness = layerThickness\n",
    "        self.thickness = self.calcThickness()\n",
    "        self.volume = self.thickness * self.width * self.height\n",
    "    \n",
    "    def calcThickness(self):\n",
    "        temp = 0.0\n",
    "        for l in self.layerThickness:\n",
    "            temp = temp + l\n",
    "        return temp\n",
    "    \n",
    "class Fenster(Bauteil):\n",
    "    def __init__(self, name, width, height, frameportion):\n",
    "        Bauteil.__init__(self, name, width, height)\n",
    "        self.frameportion = frameportion\n",
    "        self.areaPane = self.calcAreaPane()\n",
    "        \n",
    "    def calcAreaPane(self):        \n",
    "            return (1.0 - self.frameportion) * self.width * self.height "
   ]
  },
  {
   "cell_type": "code",
   "execution_count": 98,
   "id": "american-mercury",
   "metadata": {},
   "outputs": [],
   "source": [
    "wa1 = Wand('Westwand',3.0,3.0,2,[0.2,0.1])\n",
    "wa2 = Wand('Westwand',4.0,3.0,2,[0.1,0.1])\n",
    "wi1 = Fenster('Westfenster',1.0,1.2,0.2)\n",
    "wi2 = Fenster('Westfenster',1.0,1.0,0.3)"
   ]
  },
  {
   "cell_type": "code",
   "execution_count": 99,
   "id": "following-compression",
   "metadata": {},
   "outputs": [
    {
     "data": {
      "text/plain": [
       "(2.7, 2.4000000000000004)"
      ]
     },
     "execution_count": 99,
     "metadata": {},
     "output_type": "execute_result"
    }
   ],
   "source": [
    "wa1.volume, wa2.volume"
   ]
  },
  {
   "cell_type": "code",
   "execution_count": 100,
   "id": "electronic-constitution",
   "metadata": {},
   "outputs": [
    {
     "data": {
      "text/plain": [
       "(0.96, 0.7)"
      ]
     },
     "execution_count": 100,
     "metadata": {},
     "output_type": "execute_result"
    }
   ],
   "source": [
    "wi1.areaPane, wi2.areaPane"
   ]
  },
  {
   "cell_type": "markdown",
   "id": "suspended-armenia",
   "metadata": {},
   "source": [
    "## Mehrfachvererbung"
   ]
  },
  {
   "cell_type": "markdown",
   "id": "female-domestic",
   "metadata": {},
   "source": [
    "Kindklassen können auch von mehreren Elternklassen abgekleitet werden und erben dann die Gesamtheit aller Eigenschaften ihrer Elternklasen:"
   ]
  },
  {
   "cell_type": "code",
   "execution_count": 70,
   "id": "coated-publication",
   "metadata": {},
   "outputs": [],
   "source": [
    "import random\n",
    "\n",
    "class Color:\n",
    "     def __init__(self):\n",
    "        self.listOfColors = ['braun','blau','grün','gelb','grau','violett','rot','schwarz','lila','weiss']\n",
    "\n",
    "class WandFarbig(Bauteil,Color):\n",
    "    def __init__(self, name, width, height, numberOfLayers, layerThickness=[]):\n",
    "        Bauteil.__init__(self, name, width, height)\n",
    "        Color.__init__(self)\n",
    "        self.numberOfLayers = numberOfLayers\n",
    "        self.layerThickness = layerThickness\n",
    "        self.thickness = self.calcThickness()\n",
    "        self.volume = self.thickness * self.width * self.height\n",
    "        self.color = self.calcColor()\n",
    "    \n",
    "    def calcThickness(self):\n",
    "        temp = 0.0\n",
    "        for l in self.layerThickness:\n",
    "            temp = temp + l\n",
    "        return temp\n",
    "    \n",
    "    def calcColor(self):\n",
    "        return self.listOfColors[random.randint(0,10)]"
   ]
  },
  {
   "cell_type": "code",
   "execution_count": 101,
   "id": "voluntary-admission",
   "metadata": {},
   "outputs": [
    {
     "data": {
      "text/plain": [
       "('gelb', 'grau')"
      ]
     },
     "execution_count": 101,
     "metadata": {},
     "output_type": "execute_result"
    }
   ],
   "source": [
    "wa1 = WandFarbig('Westwand',3.0,3.0,2,[0.2,0.1])\n",
    "wa2 = WandFarbig('Westwand',4.0,3.0,2,[0.1,0.1])\n",
    "wa1.color, wa2.color"
   ]
  },
  {
   "cell_type": "code",
   "execution_count": null,
   "id": "german-broadcasting",
   "metadata": {},
   "outputs": [],
   "source": []
  }
 ],
 "metadata": {
  "kernelspec": {
   "display_name": "Python 3",
   "language": "python",
   "name": "python3"
  },
  "language_info": {
   "codemirror_mode": {
    "name": "ipython",
    "version": 3
   },
   "file_extension": ".py",
   "mimetype": "text/x-python",
   "name": "python",
   "nbconvert_exporter": "python",
   "pygments_lexer": "ipython3",
   "version": "3.7.6"
  }
 },
 "nbformat": 4,
 "nbformat_minor": 5
}
