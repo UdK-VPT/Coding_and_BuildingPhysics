{
 "cells": [
  {
   "cell_type": "markdown",
   "id": "913dc04e",
   "metadata": {},
   "source": [
    "# Demonstration der Bibliothek OSMnx"
   ]
  },
  {
   "cell_type": "markdown",
   "id": "44d7510d",
   "metadata": {},
   "source": [
    "[OSMnx](https://github.com/gboeing/osmnx) ist eine Python-Bibliothek, über welche sich georeferenzierte Daten von dem [OpenStreetMap](https://www.openstreetmap.org)-Server abrufen lassen."
   ]
  },
  {
   "cell_type": "code",
   "execution_count": null,
   "id": "8c3f7c88",
   "metadata": {},
   "outputs": [],
   "source": [
    "import osmnx as ox\n",
    "import networkx as nx\n",
    "from IPython.display import Image\n",
    "\n",
    "# turn response caching off\n",
    "ox.config(use_cache=False)"
   ]
  },
  {
   "cell_type": "markdown",
   "id": "5824c547",
   "metadata": {},
   "source": [
    "Umrisse einer Stadt oder einer Region anzeigen lassen:"
   ]
  },
  {
   "cell_type": "code",
   "execution_count": null,
   "id": "cd234f40",
   "metadata": {
    "scrolled": true
   },
   "outputs": [],
   "source": [
    "# get the boundary polygon for a city, project it, and plot it\n",
    "city = ox.geocode_to_gdf(\"Berlin, Germany\")\n",
    "#city = ox.geocode_to_gdf(\"Berkeley, CA\")\n",
    "city_proj = ox.project_gdf(city)\n",
    "ax = city_proj.plot(fc=\"grey\", ec=\"none\")\n",
    "_ = ax.axis(\"off\")"
   ]
  },
  {
   "cell_type": "markdown",
   "id": "de0da87f",
   "metadata": {},
   "source": [
    "Straßennetz im Umkreis eines Orts anzeigen:"
   ]
  },
  {
   "cell_type": "code",
   "execution_count": null,
   "id": "42e5d270",
   "metadata": {},
   "outputs": [],
   "source": [
    "# define a point at the Rooftop-building in Berlin\n",
    "location_rooftop = (52.5166094,13.3227239)\n",
    "\n",
    "# create drive network from point, inside bounding box of N, S, E, W each 1000m from point\n",
    "G = ox.graph_from_point(location_rooftop, dist=1000, dist_type=\"bbox\", network_type=\"drive\")\n",
    "fig, ax = ox.plot_graph(G, node_color=\"r\")"
   ]
  },
  {
   "cell_type": "markdown",
   "id": "0d38d772",
   "metadata": {},
   "source": [
    "Fuß-Wegenetz im Umkreis eines Orts anzeigen:"
   ]
  },
  {
   "cell_type": "code",
   "execution_count": null,
   "id": "e0d08033",
   "metadata": {},
   "outputs": [],
   "source": [
    "# create walk network from point, inside bounding box of N, S, E, W each 1000m from point\n",
    "G = ox.graph_from_point(location_rooftop, dist=1000, dist_type=\"bbox\", network_type=\"walk\")\n",
    "fig, ax = ox.plot_graph(G, node_color=\"r\")"
   ]
  },
  {
   "cell_type": "markdown",
   "id": "b686035d",
   "metadata": {},
   "source": [
    "Wegenetz einfärben"
   ]
  },
  {
   "cell_type": "code",
   "execution_count": null,
   "id": "591910b0",
   "metadata": {},
   "outputs": [],
   "source": [
    "# convert graph to line graph so edges become nodes and vice versa\n",
    "edge_centrality = nx.closeness_centrality(nx.line_graph(G))\n",
    "nx.set_edge_attributes(G, edge_centrality, \"edge_centrality\")\n",
    "\n",
    "# color edges in original graph with closeness centralities from line graph\n",
    "ec = ox.plot.get_edge_colors_by_attr(G, \"edge_centrality\", cmap=\"inferno\")\n",
    "fig, ax = ox.plot_graph(G, edge_color=ec, edge_linewidth=2, node_size=0)"
   ]
  },
  {
   "cell_type": "markdown",
   "id": "a912dbfc",
   "metadata": {},
   "source": [
    "Eine Rote auf der Straße finden"
   ]
  },
  {
   "cell_type": "code",
   "execution_count": null,
   "id": "88b185dd",
   "metadata": {},
   "outputs": [],
   "source": [
    "# impute missing edge speeds and calculate edge travel times with the speed module\n",
    "#G = ox.graph_from_point(location_rooftop, dist=1000, dist_type=\"bbox\", network_type=\"walk\")\n",
    "G = ox.graph_from_point(location_rooftop, dist=1000, dist_type=\"bbox\", network_type=\"drive\")\n",
    "G = ox.speed.add_edge_speeds(G)\n",
    "G = ox.speed.add_edge_travel_times(G)\n",
    "# get the nearest network nodes to two lat/lng points with the distance module\n",
    "# location Rooftop building\n",
    "orig = ox.distance.nearest_nodes(G, X=location_rooftop[1], Y=location_rooftop[0])\n",
    "location_HA33 = (52.5089999,13.3266115)\n",
    "# location Hardenbergstrasse 33\n",
    "dest = ox.distance.nearest_nodes(G, X=location_HA33[1], Y=location_HA33[0])\n",
    "# find the shortest path between nodes, minimizing travel time, then plot it\n",
    "route = ox.shortest_path(G, orig, dest, weight=\"travel_time\")\n",
    "fig, ax = ox.plot_graph_route(G, route, node_size=0)"
   ]
  },
  {
   "cell_type": "markdown",
   "id": "9d1150a8",
   "metadata": {},
   "source": [
    "Gebäusegrundrisse anzeigen und Flächen berechnen"
   ]
  },
  {
   "cell_type": "code",
   "execution_count": null,
   "id": "a317baaf",
   "metadata": {},
   "outputs": [],
   "source": [
    "# configure the inline image display\n",
    "img_folder = \"images\"\n",
    "extension = \"png\"\n",
    "size = 240\n",
    "# specify that we're retrieving building footprint geometries\n",
    "tags = {\"building\": True}\n",
    "\n",
    "dist = 65\n",
    "point = location_rooftop\n",
    "gdf = ox.geometries_from_point(point, tags, dist=dist)\n",
    "\n",
    "gdf_proj = ox.project_gdf(gdf)\n",
    "bbox = ox.utils_geo.bbox_from_point(point=point, dist=dist, project_utm=True)\n",
    "fp = f\"./{img_folder}/rooftop_bldgs.{extension}\"\n",
    "fig, ax = ox.plot_footprints(\n",
    "    gdf_proj,\n",
    "    bbox=bbox,\n",
    "    color=\"w\",\n",
    "    filepath=fp,\n",
    "    dpi=90,\n",
    "    save=True,\n",
    "    show=False,\n",
    "    close=True,\n",
    ")\n",
    "Image(fp, height=size, width=size)"
   ]
  },
  {
   "cell_type": "code",
   "execution_count": null,
   "id": "7fff33b5",
   "metadata": {},
   "outputs": [],
   "source": [
    "# calculate the area in projected units (meters) of each building footprint, then display first five\n",
    "areas = gdf_proj.area\n",
    "areas.head(6)"
   ]
  },
  {
   "cell_type": "code",
   "execution_count": null,
   "id": "c91a86da",
   "metadata": {},
   "outputs": [],
   "source": [
    "# total area (m2) covered by building footprints\n",
    "sum(areas)"
   ]
  },
  {
   "cell_type": "markdown",
   "id": "8523530f",
   "metadata": {},
   "source": [
    "Straßennetzwerk und Gebäudegrundrisse anzeigen"
   ]
  },
  {
   "cell_type": "code",
   "execution_count": null,
   "id": "7fe52f6f",
   "metadata": {},
   "outputs": [],
   "source": [
    "# street network and building footprints\n",
    "img_folder = \"images\"\n",
    "place = \"streets_and_buildings\"\n",
    "extension = \"png\"\n",
    "size = 240\n",
    "\n",
    "dist = 200\n",
    "point = location_rooftop\n",
    "tags = {\"building\": True}\n",
    "network_type=\"drive\"\n",
    "dpi=40\n",
    "\n",
    "fp = f\"./{img_folder}/{place}.{extension}\"\n",
    "\n",
    "gdf = ox.geometries_from_point(point, tags, dist=dist)\n",
    "fig, ax = ox.plot_figure_ground(\n",
    "    point=point,\n",
    "    dist=dist,\n",
    "    network_type=network_type,\n",
    "    default_width=4,\n",
    "    street_widths=None,\n",
    "    save=False,\n",
    "    show=False,\n",
    "    close=True,\n",
    ")\n",
    "fig, ax = ox.plot_footprints(\n",
    "    gdf, \n",
    "    ax=ax, \n",
    "    filepath=fp, \n",
    "    dpi=dpi, \n",
    "    save=True, \n",
    "    show=False, \n",
    "    close=True)\n",
    "Image(fp, height=size, width=size)"
   ]
  },
  {
   "cell_type": "markdown",
   "id": "64a3650b",
   "metadata": {},
   "source": [
    "OSM-Karte mit Gebäuden (Zufallsstandort in Deutschland) anzeigen lassen"
   ]
  },
  {
   "cell_type": "code",
   "execution_count": null,
   "id": "11374d0e",
   "metadata": {},
   "outputs": [],
   "source": [
    "import random\n",
    "\n",
    "# turn response caching off\n",
    "ox.config(use_cache=False)\n",
    "import folium\n",
    "from IPython.display import Image\n",
    "from geopy.geocoders import Nominatim\n",
    "\n",
    "# Dimension of the area of the location\n",
    "dist = 1000\n",
    "maxLat = 54.91159734796764 # -90 to 90, e.g. Germany: 54.91159734796764\n",
    "minLat = 47.27294489442995 # -90 to 90, e.g. Germany: 47.27294489442995\n",
    "maxLon = 15.041531189221159 # -180 to 180, e.g. Germany: 15.041531189221159\n",
    "minLon = 5.866688951881884 # -180 to 180, e.g. Germany: 5.866688951881884\n",
    "loc =(random.random()*(maxLat-minLat)+minLat,random.random()*(maxLon-minLon)+minLon)\n",
    "#loc = (52.5166094,13.3227239) # Einsteinufer 43-53, 10587 Berlin\n",
    "print(loc)"
   ]
  },
  {
   "cell_type": "markdown",
   "id": "de2925ac",
   "metadata": {},
   "source": [
    "Geografische Informationen zu dem Ort anzeigen"
   ]
  },
  {
   "cell_type": "code",
   "execution_count": null,
   "id": "06dcc39c",
   "metadata": {},
   "outputs": [],
   "source": [
    "# initialize Nominatim API \n",
    "geolocator = Nominatim(user_agent=\"geoapiExercises\")\n",
    "\n",
    "# Latitude & Longitude input\n",
    "Latitude = str(loc[0])\n",
    "Longitude = str(loc[1])\n",
    "  \n",
    "location = geolocator.reverse(Latitude+\",\"+Longitude)\n",
    "\n",
    "# Display\n",
    "print('Ort:', location,'\\n')\n",
    "\n",
    "address = location.raw['address']\n",
    "print(address,'\\n')\n",
    "\n",
    "country = address.get('country', '')\n",
    "state = address.get('state', '')\n",
    "county = address.get('county', '')\n",
    "city = address.get('city', '')\n",
    "municipality = address.get('municipality', '')\n",
    "neighbourhood = address.get('neighbourhood', '')\n",
    "suburb = address.get('suburb', '')\n",
    "borough = address.get('borough', '')\n",
    "village = address.get('village', '')\n",
    "zipcode = address.get('postcode')\n",
    "road = address.get('road')\n",
    "house_number = address.get('house_number')\n",
    "\n",
    "print('Country:', country)\n",
    "print('State:', state)\n",
    "print('County:', county)\n",
    "print('City:', city)\n",
    "print('Municipality:', municipality)\n",
    "print('Borough:', borough)\n",
    "print('Suburb:', suburb)\n",
    "print('Neighbourhood:', neighbourhood)\n",
    "print('Village:', village)\n",
    "print('Zip Code:', zipcode)\n",
    "print('Road:', road)\n",
    "print('House_number:', house_number)"
   ]
  },
  {
   "cell_type": "code",
   "execution_count": null,
   "id": "50141d27",
   "metadata": {},
   "outputs": [],
   "source": [
    "tags = {\"building\": True}\n",
    "building = ox.geometries_from_point(loc, tags, dist)\n",
    "buildings = building[building.geom_type == 'Polygon'][:2000]\n",
    "m = folium.Map(loc, zoom_start=15)\n",
    "folium.GeoJson(buildings[:1000]).add_to(m)\n",
    "m"
   ]
  },
  {
   "cell_type": "code",
   "execution_count": null,
   "id": "e8e73af5",
   "metadata": {},
   "outputs": [],
   "source": []
  }
 ],
 "metadata": {
  "kernelspec": {
   "display_name": "Python 3 (ipykernel)",
   "language": "python",
   "name": "python3"
  },
  "language_info": {
   "codemirror_mode": {
    "name": "ipython",
    "version": 3
   },
   "file_extension": ".py",
   "mimetype": "text/x-python",
   "name": "python",
   "nbconvert_exporter": "python",
   "pygments_lexer": "ipython3",
   "version": "3.10.4"
  }
 },
 "nbformat": 4,
 "nbformat_minor": 5
}
